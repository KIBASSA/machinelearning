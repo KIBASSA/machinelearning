{
 "cells": [
  {
   "cell_type": "markdown",
   "metadata": {},
   "source": [
    "# Brazilian E-Commerce Public Dataset by Olist"
   ]
  },
  {
   "cell_type": "markdown",
   "metadata": {},
   "source": [
    "### Package installation and dataset importation"
   ]
  },
  {
   "cell_type": "code",
   "execution_count": 1,
   "metadata": {},
   "outputs": [
    {
     "name": "stderr",
     "output_type": "stream",
     "text": [
      "Installing package into 'C:/Users/User/Documents/R/win-library/3.6'\n",
      "(as 'lib' is unspecified)\n"
     ]
    },
    {
     "name": "stdout",
     "output_type": "stream",
     "text": [
      "package 'gridExtra' successfully unpacked and MD5 sums checked\n",
      "\n",
      "The downloaded binary packages are in\n",
      "\tC:\\Users\\User\\AppData\\Local\\Temp\\Rtmp4WsmKD\\downloaded_packages\n"
     ]
    },
    {
     "name": "stderr",
     "output_type": "stream",
     "text": [
      "Installing package into 'C:/Users/User/Documents/R/win-library/3.6'\n",
      "(as 'lib' is unspecified)\n"
     ]
    },
    {
     "name": "stdout",
     "output_type": "stream",
     "text": [
      "package 'lattice' successfully unpacked and MD5 sums checked\n",
      "\n",
      "The downloaded binary packages are in\n",
      "\tC:\\Users\\User\\AppData\\Local\\Temp\\Rtmp4WsmKD\\downloaded_packages\n"
     ]
    },
    {
     "name": "stderr",
     "output_type": "stream",
     "text": [
      "Installing package into 'C:/Users/User/Documents/R/win-library/3.6'\n",
      "(as 'lib' is unspecified)\n"
     ]
    },
    {
     "name": "stdout",
     "output_type": "stream",
     "text": [
      "package 'caret' successfully unpacked and MD5 sums checked\n",
      "\n",
      "The downloaded binary packages are in\n",
      "\tC:\\Users\\User\\AppData\\Local\\Temp\\Rtmp4WsmKD\\downloaded_packages\n"
     ]
    },
    {
     "name": "stderr",
     "output_type": "stream",
     "text": [
      "Installing package into 'C:/Users/User/Documents/R/win-library/3.6'\n",
      "(as 'lib' is unspecified)\n",
      "also installing the dependency 'webshot'\n",
      "\n"
     ]
    },
    {
     "name": "stdout",
     "output_type": "stream",
     "text": [
      "package 'webshot' successfully unpacked and MD5 sums checked\n",
      "package 'kableExtra' successfully unpacked and MD5 sums checked\n",
      "\n",
      "The downloaded binary packages are in\n",
      "\tC:\\Users\\User\\AppData\\Local\\Temp\\Rtmp4WsmKD\\downloaded_packages\n"
     ]
    }
   ],
   "source": [
    "install.packages(\"gridExtra\")\n",
    "install.packages(\"lattice\")\n",
    "install.packages(\"caret\")\n",
    "install.packages(\"kableExtra\")"
   ]
  },
  {
   "cell_type": "code",
   "execution_count": 58,
   "metadata": {},
   "outputs": [],
   "source": [
    "library(dplyr)\n",
    "library(ggplot2)\n",
    "library(lubridate)\n",
    "library(knitr)\n",
    "library(gridExtra)\n",
    "library(lattice)\n",
    "library(caret)\n",
    "library(kableExtra)\n",
    "path = 'C:/Users/utilisateur/Desktop/python-code/data/brazilian-ecommerce/'\n",
    "Customers <- read.csv((\"data/olist_customers_dataset.csv\"), header = TRUE)\n",
    "Geolocation <- read.csv(\"data/olist_geolocation_dataset.csv\", header = TRUE)\n",
    "Items <- read.csv((\"data/olist_order_items_dataset.csv\"), header = TRUE)\n",
    "Payments <- read.csv(\"data/olist_order_payments_dataset.csv\", header = TRUE)\n",
    "Reviews <- read.csv(\"data/olist_order_reviews_dataset.csv\", header = TRUE)\n",
    "Orders <- read.csv(\"data/olist_orders_dataset.csv\", header = TRUE)\n",
    "Products <- read.csv(\"C:/Users/utilisateur/Desktop/python-code/data/brazilian-ecommerce/olist_products_dataset.csv\", header = TRUE)\n",
    "Sellers <- read.csv(\"C:/Users/utilisateur/Desktop/python-code/data/brazilian-ecommerce/olist_sellers_dataset.csv\", header = TRUE)\n",
    "Pdttrans <- read.csv(\"C:/Users/utilisateur/Desktop/python-code/data/brazilian-ecommerce/product_category_name_translation.csv\", header = TRUE)\n",
    "Products <- read.csv(\"C:/Users/utilisateur/Desktop/python-code/data/brazilian-ecommerce/olist_products_dataset.csv\", header = TRUE)"
   ]
  },
  {
   "cell_type": "code",
   "execution_count": 3,
   "metadata": {
    "collapsed": true
   },
   "outputs": [
    {
     "data": {
      "text/html": [
       "<table>\n",
       "<thead><tr><th scope=col>order_id</th><th scope=col>customer_id</th><th scope=col>order_status</th><th scope=col>order_purchase_timestamp</th><th scope=col>order_approved_at</th><th scope=col>order_delivered_carrier_date</th><th scope=col>order_delivered_customer_date</th><th scope=col>order_estimated_delivery_date</th></tr></thead>\n",
       "<tbody>\n",
       "\t<tr><td>e481f51cbdc54678b7cc49136f2d6af7</td><td>9ef432eb6251297304e76186b10a928d</td><td>delivered                       </td><td>2017-10-02 10:56:33             </td><td>2017-10-02 11:07:15             </td><td>2017-10-04 19:55:00             </td><td>2017-10-10 21:25:13             </td><td>2017-10-18 00:00:00             </td></tr>\n",
       "\t<tr><td>53cdb2fc8bc7dce0b6741e2150273451</td><td>b0830fb4747a6c6d20dea0b8c802d7ef</td><td>delivered                       </td><td>2018-07-24 20:41:37             </td><td>2018-07-26 03:24:27             </td><td>2018-07-26 14:31:00             </td><td>2018-08-07 15:27:45             </td><td>2018-08-13 00:00:00             </td></tr>\n",
       "\t<tr><td>47770eb9100c2d0c44946d9cf07ec65d</td><td>41ce2a54c0b03bf3443c3d931a367089</td><td>delivered                       </td><td>2018-08-08 08:38:49             </td><td>2018-08-08 08:55:23             </td><td>2018-08-08 13:50:00             </td><td>2018-08-17 18:06:29             </td><td>2018-09-04 00:00:00             </td></tr>\n",
       "\t<tr><td>949d5b44dbf5de918fe9c16f97b45f8a</td><td>f88197465ea7920adcdbec7375364d82</td><td>delivered                       </td><td>2017-11-18 19:28:06             </td><td>2017-11-18 19:45:59             </td><td>2017-11-22 13:39:59             </td><td>2017-12-02 00:28:42             </td><td>2017-12-15 00:00:00             </td></tr>\n",
       "\t<tr><td>ad21c59c0840e6cb83a9ceb5573f8159</td><td>8ab97904e6daea8866dbdbc4fb7aad2c</td><td>delivered                       </td><td>2018-02-13 21:18:39             </td><td>2018-02-13 22:20:29             </td><td>2018-02-14 19:46:34             </td><td>2018-02-16 18:17:02             </td><td>2018-02-26 00:00:00             </td></tr>\n",
       "\t<tr><td>a4591c265e18cb1dcee52889e2d8acc3</td><td>503740e9ca751ccdda7ba28e9ab8f608</td><td>delivered                       </td><td>2017-07-09 21:57:05             </td><td>2017-07-09 22:10:13             </td><td>2017-07-11 14:58:04             </td><td>2017-07-26 10:57:55             </td><td>2017-08-01 00:00:00             </td></tr>\n",
       "</tbody>\n",
       "</table>\n"
      ],
      "text/latex": [
       "\\begin{tabular}{r|llllllll}\n",
       " order\\_id & customer\\_id & order\\_status & order\\_purchase\\_timestamp & order\\_approved\\_at & order\\_delivered\\_carrier\\_date & order\\_delivered\\_customer\\_date & order\\_estimated\\_delivery\\_date\\\\\n",
       "\\hline\n",
       "\t e481f51cbdc54678b7cc49136f2d6af7 & 9ef432eb6251297304e76186b10a928d & delivered                        & 2017-10-02 10:56:33              & 2017-10-02 11:07:15              & 2017-10-04 19:55:00              & 2017-10-10 21:25:13              & 2017-10-18 00:00:00             \\\\\n",
       "\t 53cdb2fc8bc7dce0b6741e2150273451 & b0830fb4747a6c6d20dea0b8c802d7ef & delivered                        & 2018-07-24 20:41:37              & 2018-07-26 03:24:27              & 2018-07-26 14:31:00              & 2018-08-07 15:27:45              & 2018-08-13 00:00:00             \\\\\n",
       "\t 47770eb9100c2d0c44946d9cf07ec65d & 41ce2a54c0b03bf3443c3d931a367089 & delivered                        & 2018-08-08 08:38:49              & 2018-08-08 08:55:23              & 2018-08-08 13:50:00              & 2018-08-17 18:06:29              & 2018-09-04 00:00:00             \\\\\n",
       "\t 949d5b44dbf5de918fe9c16f97b45f8a & f88197465ea7920adcdbec7375364d82 & delivered                        & 2017-11-18 19:28:06              & 2017-11-18 19:45:59              & 2017-11-22 13:39:59              & 2017-12-02 00:28:42              & 2017-12-15 00:00:00             \\\\\n",
       "\t ad21c59c0840e6cb83a9ceb5573f8159 & 8ab97904e6daea8866dbdbc4fb7aad2c & delivered                        & 2018-02-13 21:18:39              & 2018-02-13 22:20:29              & 2018-02-14 19:46:34              & 2018-02-16 18:17:02              & 2018-02-26 00:00:00             \\\\\n",
       "\t a4591c265e18cb1dcee52889e2d8acc3 & 503740e9ca751ccdda7ba28e9ab8f608 & delivered                        & 2017-07-09 21:57:05              & 2017-07-09 22:10:13              & 2017-07-11 14:58:04              & 2017-07-26 10:57:55              & 2017-08-01 00:00:00             \\\\\n",
       "\\end{tabular}\n"
      ],
      "text/markdown": [
       "\n",
       "| order_id | customer_id | order_status | order_purchase_timestamp | order_approved_at | order_delivered_carrier_date | order_delivered_customer_date | order_estimated_delivery_date |\n",
       "|---|---|---|---|---|---|---|---|\n",
       "| e481f51cbdc54678b7cc49136f2d6af7 | 9ef432eb6251297304e76186b10a928d | delivered                        | 2017-10-02 10:56:33              | 2017-10-02 11:07:15              | 2017-10-04 19:55:00              | 2017-10-10 21:25:13              | 2017-10-18 00:00:00              |\n",
       "| 53cdb2fc8bc7dce0b6741e2150273451 | b0830fb4747a6c6d20dea0b8c802d7ef | delivered                        | 2018-07-24 20:41:37              | 2018-07-26 03:24:27              | 2018-07-26 14:31:00              | 2018-08-07 15:27:45              | 2018-08-13 00:00:00              |\n",
       "| 47770eb9100c2d0c44946d9cf07ec65d | 41ce2a54c0b03bf3443c3d931a367089 | delivered                        | 2018-08-08 08:38:49              | 2018-08-08 08:55:23              | 2018-08-08 13:50:00              | 2018-08-17 18:06:29              | 2018-09-04 00:00:00              |\n",
       "| 949d5b44dbf5de918fe9c16f97b45f8a | f88197465ea7920adcdbec7375364d82 | delivered                        | 2017-11-18 19:28:06              | 2017-11-18 19:45:59              | 2017-11-22 13:39:59              | 2017-12-02 00:28:42              | 2017-12-15 00:00:00              |\n",
       "| ad21c59c0840e6cb83a9ceb5573f8159 | 8ab97904e6daea8866dbdbc4fb7aad2c | delivered                        | 2018-02-13 21:18:39              | 2018-02-13 22:20:29              | 2018-02-14 19:46:34              | 2018-02-16 18:17:02              | 2018-02-26 00:00:00              |\n",
       "| a4591c265e18cb1dcee52889e2d8acc3 | 503740e9ca751ccdda7ba28e9ab8f608 | delivered                        | 2017-07-09 21:57:05              | 2017-07-09 22:10:13              | 2017-07-11 14:58:04              | 2017-07-26 10:57:55              | 2017-08-01 00:00:00              |\n",
       "\n"
      ],
      "text/plain": [
       "  order_id                         customer_id                     \n",
       "1 e481f51cbdc54678b7cc49136f2d6af7 9ef432eb6251297304e76186b10a928d\n",
       "2 53cdb2fc8bc7dce0b6741e2150273451 b0830fb4747a6c6d20dea0b8c802d7ef\n",
       "3 47770eb9100c2d0c44946d9cf07ec65d 41ce2a54c0b03bf3443c3d931a367089\n",
       "4 949d5b44dbf5de918fe9c16f97b45f8a f88197465ea7920adcdbec7375364d82\n",
       "5 ad21c59c0840e6cb83a9ceb5573f8159 8ab97904e6daea8866dbdbc4fb7aad2c\n",
       "6 a4591c265e18cb1dcee52889e2d8acc3 503740e9ca751ccdda7ba28e9ab8f608\n",
       "  order_status order_purchase_timestamp order_approved_at  \n",
       "1 delivered    2017-10-02 10:56:33      2017-10-02 11:07:15\n",
       "2 delivered    2018-07-24 20:41:37      2018-07-26 03:24:27\n",
       "3 delivered    2018-08-08 08:38:49      2018-08-08 08:55:23\n",
       "4 delivered    2017-11-18 19:28:06      2017-11-18 19:45:59\n",
       "5 delivered    2018-02-13 21:18:39      2018-02-13 22:20:29\n",
       "6 delivered    2017-07-09 21:57:05      2017-07-09 22:10:13\n",
       "  order_delivered_carrier_date order_delivered_customer_date\n",
       "1 2017-10-04 19:55:00          2017-10-10 21:25:13          \n",
       "2 2018-07-26 14:31:00          2018-08-07 15:27:45          \n",
       "3 2018-08-08 13:50:00          2018-08-17 18:06:29          \n",
       "4 2017-11-22 13:39:59          2017-12-02 00:28:42          \n",
       "5 2018-02-14 19:46:34          2018-02-16 18:17:02          \n",
       "6 2017-07-11 14:58:04          2017-07-26 10:57:55          \n",
       "  order_estimated_delivery_date\n",
       "1 2017-10-18 00:00:00          \n",
       "2 2018-08-13 00:00:00          \n",
       "3 2018-09-04 00:00:00          \n",
       "4 2017-12-15 00:00:00          \n",
       "5 2018-02-26 00:00:00          \n",
       "6 2017-08-01 00:00:00          "
      ]
     },
     "metadata": {},
     "output_type": "display_data"
    }
   ],
   "source": [
    "head(Orders)"
   ]
  },
  {
   "cell_type": "code",
   "execution_count": 19,
   "metadata": {
    "collapsed": true
   },
   "outputs": [
    {
     "data": {
      "text/html": [
       "<table>\n",
       "<thead><tr><th scope=col>customer_id</th><th scope=col>customer_unique_id</th><th scope=col>customer_zip_code_prefix</th><th scope=col>customer_city</th><th scope=col>customer_state</th></tr></thead>\n",
       "<tbody>\n",
       "\t<tr><td>06b8999e2fba1a1fbc88172c00ba8bc7</td><td>861eff4711a542e4b93843c6dd7febb0</td><td>14409                           </td><td>franca                          </td><td>SP                              </td></tr>\n",
       "\t<tr><td>18955e83d337fd6b2def6b18a428ac77</td><td>290c77bc529b7ac935b93aa66c333dc3</td><td> 9790                           </td><td>sao bernardo do campo           </td><td>SP                              </td></tr>\n",
       "\t<tr><td>4e7b3e00288586ebd08712fdd0374a03</td><td>060e732b5b29e8181a18229c7b0b2b5e</td><td> 1151                           </td><td>sao paulo                       </td><td>SP                              </td></tr>\n",
       "\t<tr><td>b2b6027bc5c5109e529d4dc6358b12c3</td><td>259dac757896d24d7702b9acbbff3f3c</td><td> 8775                           </td><td>mogi das cruzes                 </td><td>SP                              </td></tr>\n",
       "\t<tr><td>4f2d8ab171c80ec8364f7c12e35b23ad</td><td>345ecd01c38d18a9036ed96c73b8d066</td><td>13056                           </td><td>campinas                        </td><td>SP                              </td></tr>\n",
       "\t<tr><td>879864dab9bc3047522c92c82e1212b8</td><td>4c93744516667ad3b8f1fb645a3116a4</td><td>89254                           </td><td>jaragua do sul                  </td><td>SC                              </td></tr>\n",
       "</tbody>\n",
       "</table>\n"
      ],
      "text/latex": [
       "\\begin{tabular}{r|lllll}\n",
       " customer\\_id & customer\\_unique\\_id & customer\\_zip\\_code\\_prefix & customer\\_city & customer\\_state\\\\\n",
       "\\hline\n",
       "\t 06b8999e2fba1a1fbc88172c00ba8bc7 & 861eff4711a542e4b93843c6dd7febb0 & 14409                            & franca                           & SP                              \\\\\n",
       "\t 18955e83d337fd6b2def6b18a428ac77 & 290c77bc529b7ac935b93aa66c333dc3 &  9790                            & sao bernardo do campo            & SP                              \\\\\n",
       "\t 4e7b3e00288586ebd08712fdd0374a03 & 060e732b5b29e8181a18229c7b0b2b5e &  1151                            & sao paulo                        & SP                              \\\\\n",
       "\t b2b6027bc5c5109e529d4dc6358b12c3 & 259dac757896d24d7702b9acbbff3f3c &  8775                            & mogi das cruzes                  & SP                              \\\\\n",
       "\t 4f2d8ab171c80ec8364f7c12e35b23ad & 345ecd01c38d18a9036ed96c73b8d066 & 13056                            & campinas                         & SP                              \\\\\n",
       "\t 879864dab9bc3047522c92c82e1212b8 & 4c93744516667ad3b8f1fb645a3116a4 & 89254                            & jaragua do sul                   & SC                              \\\\\n",
       "\\end{tabular}\n"
      ],
      "text/markdown": [
       "\n",
       "| customer_id | customer_unique_id | customer_zip_code_prefix | customer_city | customer_state |\n",
       "|---|---|---|---|---|\n",
       "| 06b8999e2fba1a1fbc88172c00ba8bc7 | 861eff4711a542e4b93843c6dd7febb0 | 14409                            | franca                           | SP                               |\n",
       "| 18955e83d337fd6b2def6b18a428ac77 | 290c77bc529b7ac935b93aa66c333dc3 |  9790                            | sao bernardo do campo            | SP                               |\n",
       "| 4e7b3e00288586ebd08712fdd0374a03 | 060e732b5b29e8181a18229c7b0b2b5e |  1151                            | sao paulo                        | SP                               |\n",
       "| b2b6027bc5c5109e529d4dc6358b12c3 | 259dac757896d24d7702b9acbbff3f3c |  8775                            | mogi das cruzes                  | SP                               |\n",
       "| 4f2d8ab171c80ec8364f7c12e35b23ad | 345ecd01c38d18a9036ed96c73b8d066 | 13056                            | campinas                         | SP                               |\n",
       "| 879864dab9bc3047522c92c82e1212b8 | 4c93744516667ad3b8f1fb645a3116a4 | 89254                            | jaragua do sul                   | SC                               |\n",
       "\n"
      ],
      "text/plain": [
       "  customer_id                      customer_unique_id              \n",
       "1 06b8999e2fba1a1fbc88172c00ba8bc7 861eff4711a542e4b93843c6dd7febb0\n",
       "2 18955e83d337fd6b2def6b18a428ac77 290c77bc529b7ac935b93aa66c333dc3\n",
       "3 4e7b3e00288586ebd08712fdd0374a03 060e732b5b29e8181a18229c7b0b2b5e\n",
       "4 b2b6027bc5c5109e529d4dc6358b12c3 259dac757896d24d7702b9acbbff3f3c\n",
       "5 4f2d8ab171c80ec8364f7c12e35b23ad 345ecd01c38d18a9036ed96c73b8d066\n",
       "6 879864dab9bc3047522c92c82e1212b8 4c93744516667ad3b8f1fb645a3116a4\n",
       "  customer_zip_code_prefix customer_city         customer_state\n",
       "1 14409                    franca                SP            \n",
       "2  9790                    sao bernardo do campo SP            \n",
       "3  1151                    sao paulo             SP            \n",
       "4  8775                    mogi das cruzes       SP            \n",
       "5 13056                    campinas              SP            \n",
       "6 89254                    jaragua do sul        SC            "
      ]
     },
     "metadata": {},
     "output_type": "display_data"
    }
   ],
   "source": [
    "head(Customers)"
   ]
  },
  {
   "cell_type": "code",
   "execution_count": 20,
   "metadata": {
    "collapsed": true
   },
   "outputs": [
    {
     "data": {
      "text/html": [
       "<table>\n",
       "<thead><tr><th scope=col>geolocation_zip_code_prefix</th><th scope=col>geolocation_lat</th><th scope=col>geolocation_lng</th><th scope=col>geolocation_city</th><th scope=col>geolocation_state</th></tr></thead>\n",
       "<tbody>\n",
       "\t<tr><td>1037      </td><td>-23.54562 </td><td>-46.63929 </td><td>sao paulo </td><td>SP        </td></tr>\n",
       "\t<tr><td>1046      </td><td>-23.54608 </td><td>-46.64482 </td><td>sao paulo </td><td>SP        </td></tr>\n",
       "\t<tr><td>1046      </td><td>-23.54613 </td><td>-46.64295 </td><td>sao paulo </td><td>SP        </td></tr>\n",
       "\t<tr><td>1041      </td><td>-23.54439 </td><td>-46.63950 </td><td>sao paulo </td><td>SP        </td></tr>\n",
       "\t<tr><td>1035      </td><td>-23.54158 </td><td>-46.64161 </td><td>sao paulo </td><td>SP        </td></tr>\n",
       "\t<tr><td>1012      </td><td>-23.54776 </td><td>-46.63536 </td><td>sÃ£o paulo</td><td>SP        </td></tr>\n",
       "</tbody>\n",
       "</table>\n"
      ],
      "text/latex": [
       "\\begin{tabular}{r|lllll}\n",
       " geolocation\\_zip\\_code\\_prefix & geolocation\\_lat & geolocation\\_lng & geolocation\\_city & geolocation\\_state\\\\\n",
       "\\hline\n",
       "\t 1037       & -23.54562  & -46.63929  & sao paulo  & SP        \\\\\n",
       "\t 1046       & -23.54608  & -46.64482  & sao paulo  & SP        \\\\\n",
       "\t 1046       & -23.54613  & -46.64295  & sao paulo  & SP        \\\\\n",
       "\t 1041       & -23.54439  & -46.63950  & sao paulo  & SP        \\\\\n",
       "\t 1035       & -23.54158  & -46.64161  & sao paulo  & SP        \\\\\n",
       "\t 1012       & -23.54776  & -46.63536  & sÃ£o paulo & SP        \\\\\n",
       "\\end{tabular}\n"
      ],
      "text/markdown": [
       "\n",
       "| geolocation_zip_code_prefix | geolocation_lat | geolocation_lng | geolocation_city | geolocation_state |\n",
       "|---|---|---|---|---|\n",
       "| 1037       | -23.54562  | -46.63929  | sao paulo  | SP         |\n",
       "| 1046       | -23.54608  | -46.64482  | sao paulo  | SP         |\n",
       "| 1046       | -23.54613  | -46.64295  | sao paulo  | SP         |\n",
       "| 1041       | -23.54439  | -46.63950  | sao paulo  | SP         |\n",
       "| 1035       | -23.54158  | -46.64161  | sao paulo  | SP         |\n",
       "| 1012       | -23.54776  | -46.63536  | sÃ£o paulo | SP         |\n",
       "\n"
      ],
      "text/plain": [
       "  geolocation_zip_code_prefix geolocation_lat geolocation_lng geolocation_city\n",
       "1 1037                        -23.54562       -46.63929       sao paulo       \n",
       "2 1046                        -23.54608       -46.64482       sao paulo       \n",
       "3 1046                        -23.54613       -46.64295       sao paulo       \n",
       "4 1041                        -23.54439       -46.63950       sao paulo       \n",
       "5 1035                        -23.54158       -46.64161       sao paulo       \n",
       "6 1012                        -23.54776       -46.63536       sÃ£o paulo      \n",
       "  geolocation_state\n",
       "1 SP               \n",
       "2 SP               \n",
       "3 SP               \n",
       "4 SP               \n",
       "5 SP               \n",
       "6 SP               "
      ]
     },
     "metadata": {},
     "output_type": "display_data"
    }
   ],
   "source": [
    "head(Geolocation)"
   ]
  },
  {
   "cell_type": "code",
   "execution_count": 21,
   "metadata": {
    "collapsed": true
   },
   "outputs": [
    {
     "data": {
      "text/html": [
       "<table>\n",
       "<thead><tr><th scope=col>order_id</th><th scope=col>order_item_id</th><th scope=col>product_id</th><th scope=col>seller_id</th><th scope=col>shipping_limit_date</th><th scope=col>price</th><th scope=col>freight_value</th></tr></thead>\n",
       "<tbody>\n",
       "\t<tr><td>00010242fe8c5a6d1ba2dd792cb16214</td><td>1                               </td><td>4244733e06e7ecb4970a6e2683c13e61</td><td>48436dade18ac8b2bce089ec2a041202</td><td>2017-09-19 09:45:35             </td><td> 58.90                          </td><td>13.29                           </td></tr>\n",
       "\t<tr><td>00018f77f2f0320c557190d7a144bdd3</td><td>1                               </td><td>e5f2d52b802189ee658865ca93d83a8f</td><td>dd7ddc04e1b6c2c614352b383efe2d36</td><td>2017-05-03 11:05:13             </td><td>239.90                          </td><td>19.93                           </td></tr>\n",
       "\t<tr><td>000229ec398224ef6ca0657da4fc703e</td><td>1                               </td><td>c777355d18b72b67abbeef9df44fd0fd</td><td>5b51032eddd242adc84c38acab88f23d</td><td>2018-01-18 14:48:30             </td><td>199.00                          </td><td>17.87                           </td></tr>\n",
       "\t<tr><td>00024acbcdf0a6daa1e931b038114c75</td><td>1                               </td><td>7634da152a4610f1595efa32f14722fc</td><td>9d7a1d34a5052409006425275ba1c2b4</td><td>2018-08-15 10:10:18             </td><td> 12.99                          </td><td>12.79                           </td></tr>\n",
       "\t<tr><td>00042b26cf59d7ce69dfabb4e55b4fd9</td><td>1                               </td><td>ac6c3623068f30de03045865e4e10089</td><td>df560393f3a51e74553ab94004ba5c87</td><td>2017-02-13 13:57:51             </td><td>199.90                          </td><td>18.14                           </td></tr>\n",
       "\t<tr><td>00048cc3ae777c65dbb7d2a0634bc1ea</td><td>1                               </td><td>ef92defde845ab8450f9d70c526ef70f</td><td>6426d21aca402a131fc0a5d0960a3c90</td><td>2017-05-23 03:55:27             </td><td> 21.90                          </td><td>12.69                           </td></tr>\n",
       "</tbody>\n",
       "</table>\n"
      ],
      "text/latex": [
       "\\begin{tabular}{r|lllllll}\n",
       " order\\_id & order\\_item\\_id & product\\_id & seller\\_id & shipping\\_limit\\_date & price & freight\\_value\\\\\n",
       "\\hline\n",
       "\t 00010242fe8c5a6d1ba2dd792cb16214 & 1                                & 4244733e06e7ecb4970a6e2683c13e61 & 48436dade18ac8b2bce089ec2a041202 & 2017-09-19 09:45:35              &  58.90                           & 13.29                           \\\\\n",
       "\t 00018f77f2f0320c557190d7a144bdd3 & 1                                & e5f2d52b802189ee658865ca93d83a8f & dd7ddc04e1b6c2c614352b383efe2d36 & 2017-05-03 11:05:13              & 239.90                           & 19.93                           \\\\\n",
       "\t 000229ec398224ef6ca0657da4fc703e & 1                                & c777355d18b72b67abbeef9df44fd0fd & 5b51032eddd242adc84c38acab88f23d & 2018-01-18 14:48:30              & 199.00                           & 17.87                           \\\\\n",
       "\t 00024acbcdf0a6daa1e931b038114c75 & 1                                & 7634da152a4610f1595efa32f14722fc & 9d7a1d34a5052409006425275ba1c2b4 & 2018-08-15 10:10:18              &  12.99                           & 12.79                           \\\\\n",
       "\t 00042b26cf59d7ce69dfabb4e55b4fd9 & 1                                & ac6c3623068f30de03045865e4e10089 & df560393f3a51e74553ab94004ba5c87 & 2017-02-13 13:57:51              & 199.90                           & 18.14                           \\\\\n",
       "\t 00048cc3ae777c65dbb7d2a0634bc1ea & 1                                & ef92defde845ab8450f9d70c526ef70f & 6426d21aca402a131fc0a5d0960a3c90 & 2017-05-23 03:55:27              &  21.90                           & 12.69                           \\\\\n",
       "\\end{tabular}\n"
      ],
      "text/markdown": [
       "\n",
       "| order_id | order_item_id | product_id | seller_id | shipping_limit_date | price | freight_value |\n",
       "|---|---|---|---|---|---|---|\n",
       "| 00010242fe8c5a6d1ba2dd792cb16214 | 1                                | 4244733e06e7ecb4970a6e2683c13e61 | 48436dade18ac8b2bce089ec2a041202 | 2017-09-19 09:45:35              |  58.90                           | 13.29                            |\n",
       "| 00018f77f2f0320c557190d7a144bdd3 | 1                                | e5f2d52b802189ee658865ca93d83a8f | dd7ddc04e1b6c2c614352b383efe2d36 | 2017-05-03 11:05:13              | 239.90                           | 19.93                            |\n",
       "| 000229ec398224ef6ca0657da4fc703e | 1                                | c777355d18b72b67abbeef9df44fd0fd | 5b51032eddd242adc84c38acab88f23d | 2018-01-18 14:48:30              | 199.00                           | 17.87                            |\n",
       "| 00024acbcdf0a6daa1e931b038114c75 | 1                                | 7634da152a4610f1595efa32f14722fc | 9d7a1d34a5052409006425275ba1c2b4 | 2018-08-15 10:10:18              |  12.99                           | 12.79                            |\n",
       "| 00042b26cf59d7ce69dfabb4e55b4fd9 | 1                                | ac6c3623068f30de03045865e4e10089 | df560393f3a51e74553ab94004ba5c87 | 2017-02-13 13:57:51              | 199.90                           | 18.14                            |\n",
       "| 00048cc3ae777c65dbb7d2a0634bc1ea | 1                                | ef92defde845ab8450f9d70c526ef70f | 6426d21aca402a131fc0a5d0960a3c90 | 2017-05-23 03:55:27              |  21.90                           | 12.69                            |\n",
       "\n"
      ],
      "text/plain": [
       "  order_id                         order_item_id\n",
       "1 00010242fe8c5a6d1ba2dd792cb16214 1            \n",
       "2 00018f77f2f0320c557190d7a144bdd3 1            \n",
       "3 000229ec398224ef6ca0657da4fc703e 1            \n",
       "4 00024acbcdf0a6daa1e931b038114c75 1            \n",
       "5 00042b26cf59d7ce69dfabb4e55b4fd9 1            \n",
       "6 00048cc3ae777c65dbb7d2a0634bc1ea 1            \n",
       "  product_id                       seller_id                       \n",
       "1 4244733e06e7ecb4970a6e2683c13e61 48436dade18ac8b2bce089ec2a041202\n",
       "2 e5f2d52b802189ee658865ca93d83a8f dd7ddc04e1b6c2c614352b383efe2d36\n",
       "3 c777355d18b72b67abbeef9df44fd0fd 5b51032eddd242adc84c38acab88f23d\n",
       "4 7634da152a4610f1595efa32f14722fc 9d7a1d34a5052409006425275ba1c2b4\n",
       "5 ac6c3623068f30de03045865e4e10089 df560393f3a51e74553ab94004ba5c87\n",
       "6 ef92defde845ab8450f9d70c526ef70f 6426d21aca402a131fc0a5d0960a3c90\n",
       "  shipping_limit_date price  freight_value\n",
       "1 2017-09-19 09:45:35  58.90 13.29        \n",
       "2 2017-05-03 11:05:13 239.90 19.93        \n",
       "3 2018-01-18 14:48:30 199.00 17.87        \n",
       "4 2018-08-15 10:10:18  12.99 12.79        \n",
       "5 2017-02-13 13:57:51 199.90 18.14        \n",
       "6 2017-05-23 03:55:27  21.90 12.69        "
      ]
     },
     "metadata": {},
     "output_type": "display_data"
    }
   ],
   "source": [
    "head(Items)"
   ]
  },
  {
   "cell_type": "code",
   "execution_count": 22,
   "metadata": {
    "collapsed": true
   },
   "outputs": [
    {
     "data": {
      "text/html": [
       "<table>\n",
       "<thead><tr><th scope=col>order_id</th><th scope=col>payment_sequential</th><th scope=col>payment_type</th><th scope=col>payment_installments</th><th scope=col>payment_value</th></tr></thead>\n",
       "<tbody>\n",
       "\t<tr><td>b81ef226f3fe1789b1e8b2acac839d17</td><td>1                               </td><td>credit_card                     </td><td>8                               </td><td> 99.33                          </td></tr>\n",
       "\t<tr><td>a9810da82917af2d9aefd1278f1dcfa0</td><td>1                               </td><td>credit_card                     </td><td>1                               </td><td> 24.39                          </td></tr>\n",
       "\t<tr><td>25e8ea4e93396b6fa0d3dd708e76c1bd</td><td>1                               </td><td>credit_card                     </td><td>1                               </td><td> 65.71                          </td></tr>\n",
       "\t<tr><td>ba78997921bbcdc1373bb41e913ab953</td><td>1                               </td><td>credit_card                     </td><td>8                               </td><td>107.78                          </td></tr>\n",
       "\t<tr><td>42fdf880ba16b47b59251dd489d4441a</td><td>1                               </td><td>credit_card                     </td><td>2                               </td><td>128.45                          </td></tr>\n",
       "\t<tr><td>298fcdf1f73eb413e4d26d01b25bc1cd</td><td>1                               </td><td>credit_card                     </td><td>2                               </td><td> 96.12                          </td></tr>\n",
       "</tbody>\n",
       "</table>\n"
      ],
      "text/latex": [
       "\\begin{tabular}{r|lllll}\n",
       " order\\_id & payment\\_sequential & payment\\_type & payment\\_installments & payment\\_value\\\\\n",
       "\\hline\n",
       "\t b81ef226f3fe1789b1e8b2acac839d17 & 1                                & credit\\_card                    & 8                                &  99.33                          \\\\\n",
       "\t a9810da82917af2d9aefd1278f1dcfa0 & 1                                & credit\\_card                    & 1                                &  24.39                          \\\\\n",
       "\t 25e8ea4e93396b6fa0d3dd708e76c1bd & 1                                & credit\\_card                    & 1                                &  65.71                          \\\\\n",
       "\t ba78997921bbcdc1373bb41e913ab953 & 1                                & credit\\_card                    & 8                                & 107.78                          \\\\\n",
       "\t 42fdf880ba16b47b59251dd489d4441a & 1                                & credit\\_card                    & 2                                & 128.45                          \\\\\n",
       "\t 298fcdf1f73eb413e4d26d01b25bc1cd & 1                                & credit\\_card                    & 2                                &  96.12                          \\\\\n",
       "\\end{tabular}\n"
      ],
      "text/markdown": [
       "\n",
       "| order_id | payment_sequential | payment_type | payment_installments | payment_value |\n",
       "|---|---|---|---|---|\n",
       "| b81ef226f3fe1789b1e8b2acac839d17 | 1                                | credit_card                      | 8                                |  99.33                           |\n",
       "| a9810da82917af2d9aefd1278f1dcfa0 | 1                                | credit_card                      | 1                                |  24.39                           |\n",
       "| 25e8ea4e93396b6fa0d3dd708e76c1bd | 1                                | credit_card                      | 1                                |  65.71                           |\n",
       "| ba78997921bbcdc1373bb41e913ab953 | 1                                | credit_card                      | 8                                | 107.78                           |\n",
       "| 42fdf880ba16b47b59251dd489d4441a | 1                                | credit_card                      | 2                                | 128.45                           |\n",
       "| 298fcdf1f73eb413e4d26d01b25bc1cd | 1                                | credit_card                      | 2                                |  96.12                           |\n",
       "\n"
      ],
      "text/plain": [
       "  order_id                         payment_sequential payment_type\n",
       "1 b81ef226f3fe1789b1e8b2acac839d17 1                  credit_card \n",
       "2 a9810da82917af2d9aefd1278f1dcfa0 1                  credit_card \n",
       "3 25e8ea4e93396b6fa0d3dd708e76c1bd 1                  credit_card \n",
       "4 ba78997921bbcdc1373bb41e913ab953 1                  credit_card \n",
       "5 42fdf880ba16b47b59251dd489d4441a 1                  credit_card \n",
       "6 298fcdf1f73eb413e4d26d01b25bc1cd 1                  credit_card \n",
       "  payment_installments payment_value\n",
       "1 8                     99.33       \n",
       "2 1                     24.39       \n",
       "3 1                     65.71       \n",
       "4 8                    107.78       \n",
       "5 2                    128.45       \n",
       "6 2                     96.12       "
      ]
     },
     "metadata": {},
     "output_type": "display_data"
    }
   ],
   "source": [
    "head(Payments)"
   ]
  },
  {
   "cell_type": "code",
   "execution_count": 23,
   "metadata": {
    "collapsed": true
   },
   "outputs": [
    {
     "data": {
      "text/html": [
       "<table>\n",
       "<thead><tr><th scope=col>product_id</th><th scope=col>product_category_name</th><th scope=col>product_name_lenght</th><th scope=col>product_description_lenght</th><th scope=col>product_photos_qty</th><th scope=col>product_weight_g</th><th scope=col>product_length_cm</th><th scope=col>product_height_cm</th><th scope=col>product_width_cm</th></tr></thead>\n",
       "<tbody>\n",
       "\t<tr><td>1e9e8ef04dbcff4541ed26657ea517e5</td><td>perfumaria                      </td><td>40                              </td><td>287                             </td><td>1                               </td><td> 225                            </td><td>16                              </td><td>10                              </td><td>14                              </td></tr>\n",
       "\t<tr><td>3aa071139cb16b67ca9e5dea641aaa2f</td><td>artes                           </td><td>44                              </td><td>276                             </td><td>1                               </td><td>1000                            </td><td>30                              </td><td>18                              </td><td>20                              </td></tr>\n",
       "\t<tr><td>96bd76ec8810374ed1b65e291975717f</td><td>esporte_lazer                   </td><td>46                              </td><td>250                             </td><td>1                               </td><td> 154                            </td><td>18                              </td><td> 9                              </td><td>15                              </td></tr>\n",
       "\t<tr><td>cef67bcfe19066a932b7673e239eb23d</td><td>bebes                           </td><td>27                              </td><td>261                             </td><td>1                               </td><td> 371                            </td><td>26                              </td><td> 4                              </td><td>26                              </td></tr>\n",
       "\t<tr><td>9dc1a7de274444849c219cff195d0b71</td><td>utilidades_domesticas           </td><td>37                              </td><td>402                             </td><td>4                               </td><td> 625                            </td><td>20                              </td><td>17                              </td><td>13                              </td></tr>\n",
       "\t<tr><td>41d3672d4792049fa1779bb35283ed13</td><td>instrumentos_musicais           </td><td>60                              </td><td>745                             </td><td>1                               </td><td> 200                            </td><td>38                              </td><td> 5                              </td><td>11                              </td></tr>\n",
       "</tbody>\n",
       "</table>\n"
      ],
      "text/latex": [
       "\\begin{tabular}{r|lllllllll}\n",
       " product\\_id & product\\_category\\_name & product\\_name\\_lenght & product\\_description\\_lenght & product\\_photos\\_qty & product\\_weight\\_g & product\\_length\\_cm & product\\_height\\_cm & product\\_width\\_cm\\\\\n",
       "\\hline\n",
       "\t 1e9e8ef04dbcff4541ed26657ea517e5 & perfumaria                       & 40                               & 287                              & 1                                &  225                             & 16                               & 10                               & 14                              \\\\\n",
       "\t 3aa071139cb16b67ca9e5dea641aaa2f & artes                            & 44                               & 276                              & 1                                & 1000                             & 30                               & 18                               & 20                              \\\\\n",
       "\t 96bd76ec8810374ed1b65e291975717f & esporte\\_lazer                  & 46                               & 250                              & 1                                &  154                             & 18                               &  9                               & 15                              \\\\\n",
       "\t cef67bcfe19066a932b7673e239eb23d & bebes                            & 27                               & 261                              & 1                                &  371                             & 26                               &  4                               & 26                              \\\\\n",
       "\t 9dc1a7de274444849c219cff195d0b71 & utilidades\\_domesticas          & 37                               & 402                              & 4                                &  625                             & 20                               & 17                               & 13                              \\\\\n",
       "\t 41d3672d4792049fa1779bb35283ed13 & instrumentos\\_musicais          & 60                               & 745                              & 1                                &  200                             & 38                               &  5                               & 11                              \\\\\n",
       "\\end{tabular}\n"
      ],
      "text/markdown": [
       "\n",
       "| product_id | product_category_name | product_name_lenght | product_description_lenght | product_photos_qty | product_weight_g | product_length_cm | product_height_cm | product_width_cm |\n",
       "|---|---|---|---|---|---|---|---|---|\n",
       "| 1e9e8ef04dbcff4541ed26657ea517e5 | perfumaria                       | 40                               | 287                              | 1                                |  225                             | 16                               | 10                               | 14                               |\n",
       "| 3aa071139cb16b67ca9e5dea641aaa2f | artes                            | 44                               | 276                              | 1                                | 1000                             | 30                               | 18                               | 20                               |\n",
       "| 96bd76ec8810374ed1b65e291975717f | esporte_lazer                    | 46                               | 250                              | 1                                |  154                             | 18                               |  9                               | 15                               |\n",
       "| cef67bcfe19066a932b7673e239eb23d | bebes                            | 27                               | 261                              | 1                                |  371                             | 26                               |  4                               | 26                               |\n",
       "| 9dc1a7de274444849c219cff195d0b71 | utilidades_domesticas            | 37                               | 402                              | 4                                |  625                             | 20                               | 17                               | 13                               |\n",
       "| 41d3672d4792049fa1779bb35283ed13 | instrumentos_musicais            | 60                               | 745                              | 1                                |  200                             | 38                               |  5                               | 11                               |\n",
       "\n"
      ],
      "text/plain": [
       "  product_id                       product_category_name product_name_lenght\n",
       "1 1e9e8ef04dbcff4541ed26657ea517e5 perfumaria            40                 \n",
       "2 3aa071139cb16b67ca9e5dea641aaa2f artes                 44                 \n",
       "3 96bd76ec8810374ed1b65e291975717f esporte_lazer         46                 \n",
       "4 cef67bcfe19066a932b7673e239eb23d bebes                 27                 \n",
       "5 9dc1a7de274444849c219cff195d0b71 utilidades_domesticas 37                 \n",
       "6 41d3672d4792049fa1779bb35283ed13 instrumentos_musicais 60                 \n",
       "  product_description_lenght product_photos_qty product_weight_g\n",
       "1 287                        1                   225            \n",
       "2 276                        1                  1000            \n",
       "3 250                        1                   154            \n",
       "4 261                        1                   371            \n",
       "5 402                        4                   625            \n",
       "6 745                        1                   200            \n",
       "  product_length_cm product_height_cm product_width_cm\n",
       "1 16                10                14              \n",
       "2 30                18                20              \n",
       "3 18                 9                15              \n",
       "4 26                 4                26              \n",
       "5 20                17                13              \n",
       "6 38                 5                11              "
      ]
     },
     "metadata": {},
     "output_type": "display_data"
    }
   ],
   "source": [
    "head(Products)"
   ]
  },
  {
   "cell_type": "code",
   "execution_count": 24,
   "metadata": {
    "collapsed": true
   },
   "outputs": [
    {
     "data": {
      "text/html": [
       "<table>\n",
       "<thead><tr><th scope=col>review_id</th><th scope=col>order_id</th><th scope=col>review_score</th><th scope=col>review_comment_title</th><th scope=col>review_comment_message</th><th scope=col>review_creation_date</th><th scope=col>review_answer_timestamp</th></tr></thead>\n",
       "<tbody>\n",
       "\t<tr><td>7bc2406110b926393aa56f80a40eba40                                                                        </td><td>73fc7af87114b39712e6da79b0a377eb                                                                        </td><td>4                                                                                                       </td><td>                                                                                                        </td><td>                                                                                                        </td><td>2018-01-18 00:00:00                                                                                     </td><td>2018-01-18 21:46:59                                                                                     </td></tr>\n",
       "\t<tr><td>80e641a11e56f04c1ad469d5645fdfde                                                                        </td><td>a548910a1c6147796b98fdf73dbeba33                                                                        </td><td>5                                                                                                       </td><td>                                                                                                        </td><td>                                                                                                        </td><td>2018-03-10 00:00:00                                                                                     </td><td>2018-03-11 03:05:13                                                                                     </td></tr>\n",
       "\t<tr><td>228ce5500dc1d8e020d8d1322874b6f0                                                                        </td><td>f9e4b658b201a9f2ecdecbb34bed034b                                                                        </td><td>5                                                                                                       </td><td>                                                                                                        </td><td>                                                                                                        </td><td>2018-02-17 00:00:00                                                                                     </td><td>2018-02-18 14:36:24                                                                                     </td></tr>\n",
       "\t<tr><td>e64fb393e7b32834bb789ff8bb30750e                                                                        </td><td>658677c97b385a9be170737859d3511b                                                                        </td><td>5                                                                                                       </td><td>                                                                                                        </td><td>Recebi bem antes do prazo estipulado.                                                                   </td><td>2017-04-21 00:00:00                                                                                     </td><td>2017-04-21 22:02:06                                                                                     </td></tr>\n",
       "\t<tr><td>f7c4243c7fe1938f181bec41a392bdeb                                                                        </td><td>8e6bfb81e283fa7e4f11123a3fb894f1                                                                        </td><td>5                                                                                                       </td><td>                                                                                                        </td><td>ParabÃ©ns lojas lannister adorei comprar pela Internet seguro e prÃ¡tico ParabÃ©ns a todos feliz PÃ¡scoa</td><td>2018-03-01 00:00:00                                                                                     </td><td>2018-03-02 10:26:53                                                                                     </td></tr>\n",
       "\t<tr><td>15197aa66ff4d0650b5434f1b46cda19                                                                        </td><td>b18dcdf73be66366873cd26c5724d1dc                                                                        </td><td>1                                                                                                       </td><td>                                                                                                        </td><td>                                                                                                        </td><td>2018-04-13 00:00:00                                                                                     </td><td>2018-04-16 00:39:37                                                                                     </td></tr>\n",
       "</tbody>\n",
       "</table>\n"
      ],
      "text/latex": [
       "\\begin{tabular}{r|lllllll}\n",
       " review\\_id & order\\_id & review\\_score & review\\_comment\\_title & review\\_comment\\_message & review\\_creation\\_date & review\\_answer\\_timestamp\\\\\n",
       "\\hline\n",
       "\t 7bc2406110b926393aa56f80a40eba40                                                                         & 73fc7af87114b39712e6da79b0a377eb                                                                         & 4                                                                                                        &                                                                                                          &                                                                                                          & 2018-01-18 00:00:00                                                                                      & 2018-01-18 21:46:59                                                                                     \\\\\n",
       "\t 80e641a11e56f04c1ad469d5645fdfde                                                                         & a548910a1c6147796b98fdf73dbeba33                                                                         & 5                                                                                                        &                                                                                                          &                                                                                                          & 2018-03-10 00:00:00                                                                                      & 2018-03-11 03:05:13                                                                                     \\\\\n",
       "\t 228ce5500dc1d8e020d8d1322874b6f0                                                                         & f9e4b658b201a9f2ecdecbb34bed034b                                                                         & 5                                                                                                        &                                                                                                          &                                                                                                          & 2018-02-17 00:00:00                                                                                      & 2018-02-18 14:36:24                                                                                     \\\\\n",
       "\t e64fb393e7b32834bb789ff8bb30750e                                                                         & 658677c97b385a9be170737859d3511b                                                                         & 5                                                                                                        &                                                                                                          & Recebi bem antes do prazo estipulado.                                                                    & 2017-04-21 00:00:00                                                                                      & 2017-04-21 22:02:06                                                                                     \\\\\n",
       "\t f7c4243c7fe1938f181bec41a392bdeb                                                                         & 8e6bfb81e283fa7e4f11123a3fb894f1                                                                         & 5                                                                                                        &                                                                                                          & ParabÃ©ns lojas lannister adorei comprar pela Internet seguro e prÃ¡tico ParabÃ©ns a todos feliz PÃ¡scoa & 2018-03-01 00:00:00                                                                                      & 2018-03-02 10:26:53                                                                                     \\\\\n",
       "\t 15197aa66ff4d0650b5434f1b46cda19                                                                         & b18dcdf73be66366873cd26c5724d1dc                                                                         & 1                                                                                                        &                                                                                                          &                                                                                                          & 2018-04-13 00:00:00                                                                                      & 2018-04-16 00:39:37                                                                                     \\\\\n",
       "\\end{tabular}\n"
      ],
      "text/markdown": [
       "\n",
       "| review_id | order_id | review_score | review_comment_title | review_comment_message | review_creation_date | review_answer_timestamp |\n",
       "|---|---|---|---|---|---|---|\n",
       "| 7bc2406110b926393aa56f80a40eba40                                                                         | 73fc7af87114b39712e6da79b0a377eb                                                                         | 4                                                                                                        |                                                                                                          |                                                                                                          | 2018-01-18 00:00:00                                                                                      | 2018-01-18 21:46:59                                                                                      |\n",
       "| 80e641a11e56f04c1ad469d5645fdfde                                                                         | a548910a1c6147796b98fdf73dbeba33                                                                         | 5                                                                                                        |                                                                                                          |                                                                                                          | 2018-03-10 00:00:00                                                                                      | 2018-03-11 03:05:13                                                                                      |\n",
       "| 228ce5500dc1d8e020d8d1322874b6f0                                                                         | f9e4b658b201a9f2ecdecbb34bed034b                                                                         | 5                                                                                                        |                                                                                                          |                                                                                                          | 2018-02-17 00:00:00                                                                                      | 2018-02-18 14:36:24                                                                                      |\n",
       "| e64fb393e7b32834bb789ff8bb30750e                                                                         | 658677c97b385a9be170737859d3511b                                                                         | 5                                                                                                        |                                                                                                          | Recebi bem antes do prazo estipulado.                                                                    | 2017-04-21 00:00:00                                                                                      | 2017-04-21 22:02:06                                                                                      |\n",
       "| f7c4243c7fe1938f181bec41a392bdeb                                                                         | 8e6bfb81e283fa7e4f11123a3fb894f1                                                                         | 5                                                                                                        |                                                                                                          | ParabÃ©ns lojas lannister adorei comprar pela Internet seguro e prÃ¡tico ParabÃ©ns a todos feliz PÃ¡scoa | 2018-03-01 00:00:00                                                                                      | 2018-03-02 10:26:53                                                                                      |\n",
       "| 15197aa66ff4d0650b5434f1b46cda19                                                                         | b18dcdf73be66366873cd26c5724d1dc                                                                         | 1                                                                                                        |                                                                                                          |                                                                                                          | 2018-04-13 00:00:00                                                                                      | 2018-04-16 00:39:37                                                                                      |\n",
       "\n"
      ],
      "text/plain": [
       "  review_id                        order_id                        \n",
       "1 7bc2406110b926393aa56f80a40eba40 73fc7af87114b39712e6da79b0a377eb\n",
       "2 80e641a11e56f04c1ad469d5645fdfde a548910a1c6147796b98fdf73dbeba33\n",
       "3 228ce5500dc1d8e020d8d1322874b6f0 f9e4b658b201a9f2ecdecbb34bed034b\n",
       "4 e64fb393e7b32834bb789ff8bb30750e 658677c97b385a9be170737859d3511b\n",
       "5 f7c4243c7fe1938f181bec41a392bdeb 8e6bfb81e283fa7e4f11123a3fb894f1\n",
       "6 15197aa66ff4d0650b5434f1b46cda19 b18dcdf73be66366873cd26c5724d1dc\n",
       "  review_score review_comment_title\n",
       "1 4                                \n",
       "2 5                                \n",
       "3 5                                \n",
       "4 5                                \n",
       "5 5                                \n",
       "6 1                                \n",
       "  review_comment_message                                                                                  \n",
       "1                                                                                                         \n",
       "2                                                                                                         \n",
       "3                                                                                                         \n",
       "4 Recebi bem antes do prazo estipulado.                                                                   \n",
       "5 ParabÃ©ns lojas lannister adorei comprar pela Internet seguro e prÃ¡tico ParabÃ©ns a todos feliz PÃ¡scoa\n",
       "6                                                                                                         \n",
       "  review_creation_date review_answer_timestamp\n",
       "1 2018-01-18 00:00:00  2018-01-18 21:46:59    \n",
       "2 2018-03-10 00:00:00  2018-03-11 03:05:13    \n",
       "3 2018-02-17 00:00:00  2018-02-18 14:36:24    \n",
       "4 2017-04-21 00:00:00  2017-04-21 22:02:06    \n",
       "5 2018-03-01 00:00:00  2018-03-02 10:26:53    \n",
       "6 2018-04-13 00:00:00  2018-04-16 00:39:37    "
      ]
     },
     "metadata": {},
     "output_type": "display_data"
    }
   ],
   "source": [
    "head(Reviews)"
   ]
  },
  {
   "cell_type": "code",
   "execution_count": 25,
   "metadata": {
    "collapsed": true
   },
   "outputs": [
    {
     "data": {
      "text/html": [
       "<table>\n",
       "<thead><tr><th scope=col>seller_id</th><th scope=col>seller_zip_code_prefix</th><th scope=col>seller_city</th><th scope=col>seller_state</th></tr></thead>\n",
       "<tbody>\n",
       "\t<tr><td>3442f8959a84dea7ee197c632cb2df15</td><td>13023                           </td><td>campinas                        </td><td>SP                              </td></tr>\n",
       "\t<tr><td>d1b65fc7debc3361ea86b5f14c68d2e2</td><td>13844                           </td><td>mogi guacu                      </td><td>SP                              </td></tr>\n",
       "\t<tr><td>ce3ad9de960102d0677a81f5d0bb7b2d</td><td>20031                           </td><td>rio de janeiro                  </td><td>RJ                              </td></tr>\n",
       "\t<tr><td>c0f3eea2e14555b6faeea3dd58c1b1c3</td><td> 4195                           </td><td>sao paulo                       </td><td>SP                              </td></tr>\n",
       "\t<tr><td>51a04a8a6bdcb23deccc82b0b80742cf</td><td>12914                           </td><td>braganca paulista               </td><td>SP                              </td></tr>\n",
       "\t<tr><td>c240c4061717ac1806ae6ee72be3533b</td><td>20920                           </td><td>rio de janeiro                  </td><td>RJ                              </td></tr>\n",
       "</tbody>\n",
       "</table>\n"
      ],
      "text/latex": [
       "\\begin{tabular}{r|llll}\n",
       " seller\\_id & seller\\_zip\\_code\\_prefix & seller\\_city & seller\\_state\\\\\n",
       "\\hline\n",
       "\t 3442f8959a84dea7ee197c632cb2df15 & 13023                            & campinas                         & SP                              \\\\\n",
       "\t d1b65fc7debc3361ea86b5f14c68d2e2 & 13844                            & mogi guacu                       & SP                              \\\\\n",
       "\t ce3ad9de960102d0677a81f5d0bb7b2d & 20031                            & rio de janeiro                   & RJ                              \\\\\n",
       "\t c0f3eea2e14555b6faeea3dd58c1b1c3 &  4195                            & sao paulo                        & SP                              \\\\\n",
       "\t 51a04a8a6bdcb23deccc82b0b80742cf & 12914                            & braganca paulista                & SP                              \\\\\n",
       "\t c240c4061717ac1806ae6ee72be3533b & 20920                            & rio de janeiro                   & RJ                              \\\\\n",
       "\\end{tabular}\n"
      ],
      "text/markdown": [
       "\n",
       "| seller_id | seller_zip_code_prefix | seller_city | seller_state |\n",
       "|---|---|---|---|\n",
       "| 3442f8959a84dea7ee197c632cb2df15 | 13023                            | campinas                         | SP                               |\n",
       "| d1b65fc7debc3361ea86b5f14c68d2e2 | 13844                            | mogi guacu                       | SP                               |\n",
       "| ce3ad9de960102d0677a81f5d0bb7b2d | 20031                            | rio de janeiro                   | RJ                               |\n",
       "| c0f3eea2e14555b6faeea3dd58c1b1c3 |  4195                            | sao paulo                        | SP                               |\n",
       "| 51a04a8a6bdcb23deccc82b0b80742cf | 12914                            | braganca paulista                | SP                               |\n",
       "| c240c4061717ac1806ae6ee72be3533b | 20920                            | rio de janeiro                   | RJ                               |\n",
       "\n"
      ],
      "text/plain": [
       "  seller_id                        seller_zip_code_prefix seller_city      \n",
       "1 3442f8959a84dea7ee197c632cb2df15 13023                  campinas         \n",
       "2 d1b65fc7debc3361ea86b5f14c68d2e2 13844                  mogi guacu       \n",
       "3 ce3ad9de960102d0677a81f5d0bb7b2d 20031                  rio de janeiro   \n",
       "4 c0f3eea2e14555b6faeea3dd58c1b1c3  4195                  sao paulo        \n",
       "5 51a04a8a6bdcb23deccc82b0b80742cf 12914                  braganca paulista\n",
       "6 c240c4061717ac1806ae6ee72be3533b 20920                  rio de janeiro   \n",
       "  seller_state\n",
       "1 SP          \n",
       "2 SP          \n",
       "3 RJ          \n",
       "4 SP          \n",
       "5 SP          \n",
       "6 RJ          "
      ]
     },
     "metadata": {},
     "output_type": "display_data"
    }
   ],
   "source": [
    "head(Sellers)"
   ]
  },
  {
   "cell_type": "code",
   "execution_count": 26,
   "metadata": {
    "collapsed": true
   },
   "outputs": [
    {
     "data": {
      "text/html": [
       "<table>\n",
       "<thead><tr><th scope=col>ï..product_category_name</th><th scope=col>product_category_name_english</th></tr></thead>\n",
       "<tbody>\n",
       "\t<tr><td>beleza_saude          </td><td>health_beauty         </td></tr>\n",
       "\t<tr><td>informatica_acessorios</td><td>computers_accessories </td></tr>\n",
       "\t<tr><td>automotivo            </td><td>auto                  </td></tr>\n",
       "\t<tr><td>cama_mesa_banho       </td><td>bed_bath_table        </td></tr>\n",
       "\t<tr><td>moveis_decoracao      </td><td>furniture_decor       </td></tr>\n",
       "\t<tr><td>esporte_lazer         </td><td>sports_leisure        </td></tr>\n",
       "</tbody>\n",
       "</table>\n"
      ],
      "text/latex": [
       "\\begin{tabular}{r|ll}\n",
       " ï..product\\_category\\_name & product\\_category\\_name\\_english\\\\\n",
       "\\hline\n",
       "\t beleza\\_saude           & health\\_beauty         \\\\\n",
       "\t informatica\\_acessorios & computers\\_accessories \\\\\n",
       "\t automotivo             & auto                  \\\\\n",
       "\t cama\\_mesa\\_banho        & bed\\_bath\\_table        \\\\\n",
       "\t moveis\\_decoracao       & furniture\\_decor       \\\\\n",
       "\t esporte\\_lazer          & sports\\_leisure        \\\\\n",
       "\\end{tabular}\n"
      ],
      "text/markdown": [
       "\n",
       "| ï..product_category_name | product_category_name_english |\n",
       "|---|---|\n",
       "| beleza_saude           | health_beauty          |\n",
       "| informatica_acessorios | computers_accessories  |\n",
       "| automotivo             | auto                   |\n",
       "| cama_mesa_banho        | bed_bath_table         |\n",
       "| moveis_decoracao       | furniture_decor        |\n",
       "| esporte_lazer          | sports_leisure         |\n",
       "\n"
      ],
      "text/plain": [
       "  ï..product_category_name product_category_name_english\n",
       "1 beleza_saude             health_beauty                \n",
       "2 informatica_acessorios   computers_accessories        \n",
       "3 automotivo               auto                         \n",
       "4 cama_mesa_banho          bed_bath_table               \n",
       "5 moveis_decoracao         furniture_decor              \n",
       "6 esporte_lazer            sports_leisure               "
      ]
     },
     "metadata": {},
     "output_type": "display_data"
    }
   ],
   "source": [
    "head(Pdttrans)"
   ]
  },
  {
   "cell_type": "markdown",
   "metadata": {},
   "source": [
    "## gestion de donnée d'un projet R sur ce dataset"
   ]
  },
  {
   "cell_type": "code",
   "execution_count": 57,
   "metadata": {},
   "outputs": [
    {
     "ename": "ERROR",
     "evalue": "Error in quarter(Orders$order_purchase_timestamp, with_year = TRUE): argument inutilisé (with_year = TRUE)\n",
     "output_type": "error",
     "traceback": [
      "Error in quarter(Orders$order_purchase_timestamp, with_year = TRUE): argument inutilisé (with_year = TRUE)\nTraceback:\n",
      "1. mutate(Orders, purchase_quart = quarter(Orders$order_purchase_timestamp, \n .     with_year = TRUE))",
      "2. mutate.data.frame(Orders, purchase_quart = quarter(Orders$order_purchase_timestamp, \n .     with_year = TRUE))",
      "3. as.data.frame(mutate(tbl_df(.data), ...))",
      "4. mutate(tbl_df(.data), ...)",
      "5. mutate.tbl_df(tbl_df(.data), ...)",
      "6. mutate_impl(.data, dots, caller_env())"
     ]
    }
   ],
   "source": [
    "\n",
    "Orders <- mutate(Orders, Est.Lead.t = interval(ymd_hms(Orders$order_purchase_timestamp), ymd_hms(Orders$order_estimated_delivery_date)) %/% days(x = 1))\n",
    "Orders <- mutate(Orders, Act.Lead.t = interval(ymd_hms(Orders$order_purchase_timestamp), ymd_hms(Orders$order_delivered_customer_date)) %/% days(x = 1))\n",
    "Orders <- mutate(Orders, Approval.mins = interval(ymd_hms(Orders$order_purchase_timestamp), ymd_hms(Orders$order_approved_at)) %/% minutes(x = 1))\n",
    "Orders <- mutate(Orders, Appr.to.Car = interval(ymd_hms(Orders$order_purchase_timestamp), ymd_hms(Orders$order_delivered_carrier_date)) %/% days(x = 1))\n",
    "Orders <- mutate(Orders, Car.to.Cus = interval(ymd_hms(Orders$order_delivered_carrier_date), ymd_hms(Orders$order_delivered_customer_date)) %/% days(x = 1))\n",
    "Orders <- mutate(Orders, purchase_quart = quarter(Orders$order_purchase_timestamp, with_year = TRUE))\n",
    "Orders <- mutate(Orders, purchase_month = month(Orders$order_purchase_timestamp, label = FALSE , abbr = FALSE))\n",
    "Orders <- mutate(Orders, purchase_year = year(Orders$order_purchase_timestamp))\n",
    "\n",
    "Items <- mutate(Items, order.price = (order_item_id*price))\n",
    "Items <- mutate(Items, order.freight = (order_item_id*freight_value))\n",
    "Items <- mutate(Items, total.order.cost = (order.price + order.freight))\n",
    "Items <- mutate(Items, fr.sup.pr = if_else(freight_value >= price, 1, 0))"
   ]
  },
  {
   "cell_type": "code",
   "execution_count": 28,
   "metadata": {
    "collapsed": true
   },
   "outputs": [
    {
     "data": {
      "text/html": [
       "<table>\n",
       "<thead><tr><th scope=col>order_id</th><th scope=col>customer_id</th><th scope=col>order_status</th><th scope=col>order_purchase_timestamp</th><th scope=col>order_approved_at</th><th scope=col>order_delivered_carrier_date</th><th scope=col>order_delivered_customer_date</th><th scope=col>order_estimated_delivery_date</th><th scope=col>Est.Lead.t</th><th scope=col>Act.Lead.t</th><th scope=col>Approval.mins</th><th scope=col>Appr.to.Car</th><th scope=col>Car.to.Cus</th><th scope=col>purchase_quart</th><th scope=col>purchase_month</th><th scope=col>purchase_year</th></tr></thead>\n",
       "<tbody>\n",
       "\t<tr><td>e481f51cbdc54678b7cc49136f2d6af7</td><td>9ef432eb6251297304e76186b10a928d</td><td>delivered                       </td><td>2017-10-02 10:56:33             </td><td>2017-10-02 11:07:15             </td><td>2017-10-04 19:55:00             </td><td>2017-10-10 21:25:13             </td><td>2017-10-18 00:00:00             </td><td>15                              </td><td> 8                              </td><td>  10                            </td><td>2                               </td><td> 6                              </td><td>2017.4                          </td><td>octobre                         </td><td>2017                            </td></tr>\n",
       "\t<tr><td>53cdb2fc8bc7dce0b6741e2150273451</td><td>b0830fb4747a6c6d20dea0b8c802d7ef</td><td>delivered                       </td><td>2018-07-24 20:41:37             </td><td>2018-07-26 03:24:27             </td><td>2018-07-26 14:31:00             </td><td>2018-08-07 15:27:45             </td><td>2018-08-13 00:00:00             </td><td>19                              </td><td>13                              </td><td>1842                            </td><td>1                               </td><td>12                              </td><td>2018.3                          </td><td>juillet                         </td><td>2018                            </td></tr>\n",
       "\t<tr><td>47770eb9100c2d0c44946d9cf07ec65d</td><td>41ce2a54c0b03bf3443c3d931a367089</td><td>delivered                       </td><td>2018-08-08 08:38:49             </td><td>2018-08-08 08:55:23             </td><td>2018-08-08 13:50:00             </td><td>2018-08-17 18:06:29             </td><td>2018-09-04 00:00:00             </td><td>26                              </td><td> 9                              </td><td>  16                            </td><td>0                               </td><td> 9                              </td><td>2018.3                          </td><td>août                            </td><td>2018                            </td></tr>\n",
       "\t<tr><td>949d5b44dbf5de918fe9c16f97b45f8a</td><td>f88197465ea7920adcdbec7375364d82</td><td>delivered                       </td><td>2017-11-18 19:28:06             </td><td>2017-11-18 19:45:59             </td><td>2017-11-22 13:39:59             </td><td>2017-12-02 00:28:42             </td><td>2017-12-15 00:00:00             </td><td>26                              </td><td>13                              </td><td>  17                            </td><td>3                               </td><td> 9                              </td><td>2017.4                          </td><td>novembre                        </td><td>2017                            </td></tr>\n",
       "\t<tr><td>ad21c59c0840e6cb83a9ceb5573f8159</td><td>8ab97904e6daea8866dbdbc4fb7aad2c</td><td>delivered                       </td><td>2018-02-13 21:18:39             </td><td>2018-02-13 22:20:29             </td><td>2018-02-14 19:46:34             </td><td>2018-02-16 18:17:02             </td><td>2018-02-26 00:00:00             </td><td>12                              </td><td> 2                              </td><td>  61                            </td><td>0                               </td><td> 1                              </td><td>2018.1                          </td><td>février                         </td><td>2018                            </td></tr>\n",
       "\t<tr><td>a4591c265e18cb1dcee52889e2d8acc3</td><td>503740e9ca751ccdda7ba28e9ab8f608</td><td>delivered                       </td><td>2017-07-09 21:57:05             </td><td>2017-07-09 22:10:13             </td><td>2017-07-11 14:58:04             </td><td>2017-07-26 10:57:55             </td><td>2017-08-01 00:00:00             </td><td>22                              </td><td>16                              </td><td>  13                            </td><td>1                               </td><td>14                              </td><td>2017.3                          </td><td>juillet                         </td><td>2017                            </td></tr>\n",
       "</tbody>\n",
       "</table>\n"
      ],
      "text/latex": [
       "\\begin{tabular}{r|llllllllllllllll}\n",
       " order\\_id & customer\\_id & order\\_status & order\\_purchase\\_timestamp & order\\_approved\\_at & order\\_delivered\\_carrier\\_date & order\\_delivered\\_customer\\_date & order\\_estimated\\_delivery\\_date & Est.Lead.t & Act.Lead.t & Approval.mins & Appr.to.Car & Car.to.Cus & purchase\\_quart & purchase\\_month & purchase\\_year\\\\\n",
       "\\hline\n",
       "\t e481f51cbdc54678b7cc49136f2d6af7 & 9ef432eb6251297304e76186b10a928d & delivered                        & 2017-10-02 10:56:33              & 2017-10-02 11:07:15              & 2017-10-04 19:55:00              & 2017-10-10 21:25:13              & 2017-10-18 00:00:00              & 15                               &  8                               &   10                             & 2                                &  6                               & 2017.4                           & octobre                          & 2017                            \\\\\n",
       "\t 53cdb2fc8bc7dce0b6741e2150273451 & b0830fb4747a6c6d20dea0b8c802d7ef & delivered                        & 2018-07-24 20:41:37              & 2018-07-26 03:24:27              & 2018-07-26 14:31:00              & 2018-08-07 15:27:45              & 2018-08-13 00:00:00              & 19                               & 13                               & 1842                             & 1                                & 12                               & 2018.3                           & juillet                          & 2018                            \\\\\n",
       "\t 47770eb9100c2d0c44946d9cf07ec65d & 41ce2a54c0b03bf3443c3d931a367089 & delivered                        & 2018-08-08 08:38:49              & 2018-08-08 08:55:23              & 2018-08-08 13:50:00              & 2018-08-17 18:06:29              & 2018-09-04 00:00:00              & 26                               &  9                               &   16                             & 0                                &  9                               & 2018.3                           & août                             & 2018                            \\\\\n",
       "\t 949d5b44dbf5de918fe9c16f97b45f8a & f88197465ea7920adcdbec7375364d82 & delivered                        & 2017-11-18 19:28:06              & 2017-11-18 19:45:59              & 2017-11-22 13:39:59              & 2017-12-02 00:28:42              & 2017-12-15 00:00:00              & 26                               & 13                               &   17                             & 3                                &  9                               & 2017.4                           & novembre                         & 2017                            \\\\\n",
       "\t ad21c59c0840e6cb83a9ceb5573f8159 & 8ab97904e6daea8866dbdbc4fb7aad2c & delivered                        & 2018-02-13 21:18:39              & 2018-02-13 22:20:29              & 2018-02-14 19:46:34              & 2018-02-16 18:17:02              & 2018-02-26 00:00:00              & 12                               &  2                               &   61                             & 0                                &  1                               & 2018.1                           & février                          & 2018                            \\\\\n",
       "\t a4591c265e18cb1dcee52889e2d8acc3 & 503740e9ca751ccdda7ba28e9ab8f608 & delivered                        & 2017-07-09 21:57:05              & 2017-07-09 22:10:13              & 2017-07-11 14:58:04              & 2017-07-26 10:57:55              & 2017-08-01 00:00:00              & 22                               & 16                               &   13                             & 1                                & 14                               & 2017.3                           & juillet                          & 2017                            \\\\\n",
       "\\end{tabular}\n"
      ],
      "text/markdown": [
       "\n",
       "| order_id | customer_id | order_status | order_purchase_timestamp | order_approved_at | order_delivered_carrier_date | order_delivered_customer_date | order_estimated_delivery_date | Est.Lead.t | Act.Lead.t | Approval.mins | Appr.to.Car | Car.to.Cus | purchase_quart | purchase_month | purchase_year |\n",
       "|---|---|---|---|---|---|---|---|---|---|---|---|---|---|---|---|\n",
       "| e481f51cbdc54678b7cc49136f2d6af7 | 9ef432eb6251297304e76186b10a928d | delivered                        | 2017-10-02 10:56:33              | 2017-10-02 11:07:15              | 2017-10-04 19:55:00              | 2017-10-10 21:25:13              | 2017-10-18 00:00:00              | 15                               |  8                               |   10                             | 2                                |  6                               | 2017.4                           | octobre                          | 2017                             |\n",
       "| 53cdb2fc8bc7dce0b6741e2150273451 | b0830fb4747a6c6d20dea0b8c802d7ef | delivered                        | 2018-07-24 20:41:37              | 2018-07-26 03:24:27              | 2018-07-26 14:31:00              | 2018-08-07 15:27:45              | 2018-08-13 00:00:00              | 19                               | 13                               | 1842                             | 1                                | 12                               | 2018.3                           | juillet                          | 2018                             |\n",
       "| 47770eb9100c2d0c44946d9cf07ec65d | 41ce2a54c0b03bf3443c3d931a367089 | delivered                        | 2018-08-08 08:38:49              | 2018-08-08 08:55:23              | 2018-08-08 13:50:00              | 2018-08-17 18:06:29              | 2018-09-04 00:00:00              | 26                               |  9                               |   16                             | 0                                |  9                               | 2018.3                           | août                             | 2018                             |\n",
       "| 949d5b44dbf5de918fe9c16f97b45f8a | f88197465ea7920adcdbec7375364d82 | delivered                        | 2017-11-18 19:28:06              | 2017-11-18 19:45:59              | 2017-11-22 13:39:59              | 2017-12-02 00:28:42              | 2017-12-15 00:00:00              | 26                               | 13                               |   17                             | 3                                |  9                               | 2017.4                           | novembre                         | 2017                             |\n",
       "| ad21c59c0840e6cb83a9ceb5573f8159 | 8ab97904e6daea8866dbdbc4fb7aad2c | delivered                        | 2018-02-13 21:18:39              | 2018-02-13 22:20:29              | 2018-02-14 19:46:34              | 2018-02-16 18:17:02              | 2018-02-26 00:00:00              | 12                               |  2                               |   61                             | 0                                |  1                               | 2018.1                           | février                          | 2018                             |\n",
       "| a4591c265e18cb1dcee52889e2d8acc3 | 503740e9ca751ccdda7ba28e9ab8f608 | delivered                        | 2017-07-09 21:57:05              | 2017-07-09 22:10:13              | 2017-07-11 14:58:04              | 2017-07-26 10:57:55              | 2017-08-01 00:00:00              | 22                               | 16                               |   13                             | 1                                | 14                               | 2017.3                           | juillet                          | 2017                             |\n",
       "\n"
      ],
      "text/plain": [
       "  order_id                         customer_id                     \n",
       "1 e481f51cbdc54678b7cc49136f2d6af7 9ef432eb6251297304e76186b10a928d\n",
       "2 53cdb2fc8bc7dce0b6741e2150273451 b0830fb4747a6c6d20dea0b8c802d7ef\n",
       "3 47770eb9100c2d0c44946d9cf07ec65d 41ce2a54c0b03bf3443c3d931a367089\n",
       "4 949d5b44dbf5de918fe9c16f97b45f8a f88197465ea7920adcdbec7375364d82\n",
       "5 ad21c59c0840e6cb83a9ceb5573f8159 8ab97904e6daea8866dbdbc4fb7aad2c\n",
       "6 a4591c265e18cb1dcee52889e2d8acc3 503740e9ca751ccdda7ba28e9ab8f608\n",
       "  order_status order_purchase_timestamp order_approved_at  \n",
       "1 delivered    2017-10-02 10:56:33      2017-10-02 11:07:15\n",
       "2 delivered    2018-07-24 20:41:37      2018-07-26 03:24:27\n",
       "3 delivered    2018-08-08 08:38:49      2018-08-08 08:55:23\n",
       "4 delivered    2017-11-18 19:28:06      2017-11-18 19:45:59\n",
       "5 delivered    2018-02-13 21:18:39      2018-02-13 22:20:29\n",
       "6 delivered    2017-07-09 21:57:05      2017-07-09 22:10:13\n",
       "  order_delivered_carrier_date order_delivered_customer_date\n",
       "1 2017-10-04 19:55:00          2017-10-10 21:25:13          \n",
       "2 2018-07-26 14:31:00          2018-08-07 15:27:45          \n",
       "3 2018-08-08 13:50:00          2018-08-17 18:06:29          \n",
       "4 2017-11-22 13:39:59          2017-12-02 00:28:42          \n",
       "5 2018-02-14 19:46:34          2018-02-16 18:17:02          \n",
       "6 2017-07-11 14:58:04          2017-07-26 10:57:55          \n",
       "  order_estimated_delivery_date Est.Lead.t Act.Lead.t Approval.mins Appr.to.Car\n",
       "1 2017-10-18 00:00:00           15          8           10          2          \n",
       "2 2018-08-13 00:00:00           19         13         1842          1          \n",
       "3 2018-09-04 00:00:00           26          9           16          0          \n",
       "4 2017-12-15 00:00:00           26         13           17          3          \n",
       "5 2018-02-26 00:00:00           12          2           61          0          \n",
       "6 2017-08-01 00:00:00           22         16           13          1          \n",
       "  Car.to.Cus purchase_quart purchase_month purchase_year\n",
       "1  6         2017.4         octobre        2017         \n",
       "2 12         2018.3         juillet        2018         \n",
       "3  9         2018.3         août           2018         \n",
       "4  9         2017.4         novembre       2017         \n",
       "5  1         2018.1         février        2018         \n",
       "6 14         2017.3         juillet        2017         "
      ]
     },
     "metadata": {},
     "output_type": "display_data"
    }
   ],
   "source": [
    "head(Orders)"
   ]
  },
  {
   "cell_type": "code",
   "execution_count": 29,
   "metadata": {
    "collapsed": true
   },
   "outputs": [
    {
     "data": {
      "text/html": [
       "<table>\n",
       "<thead><tr><th scope=col>order_id</th><th scope=col>order_item_id</th><th scope=col>product_id</th><th scope=col>seller_id</th><th scope=col>shipping_limit_date</th><th scope=col>price</th><th scope=col>freight_value</th><th scope=col>order.price</th><th scope=col>order.freight</th><th scope=col>total.order.cost</th><th scope=col>fr.sup.pr</th></tr></thead>\n",
       "<tbody>\n",
       "\t<tr><td>00010242fe8c5a6d1ba2dd792cb16214</td><td>1                               </td><td>4244733e06e7ecb4970a6e2683c13e61</td><td>48436dade18ac8b2bce089ec2a041202</td><td>2017-09-19 09:45:35             </td><td> 58.90                          </td><td>13.29                           </td><td> 58.90                          </td><td>13.29                           </td><td> 72.19                          </td><td>0                               </td></tr>\n",
       "\t<tr><td>00018f77f2f0320c557190d7a144bdd3</td><td>1                               </td><td>e5f2d52b802189ee658865ca93d83a8f</td><td>dd7ddc04e1b6c2c614352b383efe2d36</td><td>2017-05-03 11:05:13             </td><td>239.90                          </td><td>19.93                           </td><td>239.90                          </td><td>19.93                           </td><td>259.83                          </td><td>0                               </td></tr>\n",
       "\t<tr><td>000229ec398224ef6ca0657da4fc703e</td><td>1                               </td><td>c777355d18b72b67abbeef9df44fd0fd</td><td>5b51032eddd242adc84c38acab88f23d</td><td>2018-01-18 14:48:30             </td><td>199.00                          </td><td>17.87                           </td><td>199.00                          </td><td>17.87                           </td><td>216.87                          </td><td>0                               </td></tr>\n",
       "\t<tr><td>00024acbcdf0a6daa1e931b038114c75</td><td>1                               </td><td>7634da152a4610f1595efa32f14722fc</td><td>9d7a1d34a5052409006425275ba1c2b4</td><td>2018-08-15 10:10:18             </td><td> 12.99                          </td><td>12.79                           </td><td> 12.99                          </td><td>12.79                           </td><td> 25.78                          </td><td>0                               </td></tr>\n",
       "\t<tr><td>00042b26cf59d7ce69dfabb4e55b4fd9</td><td>1                               </td><td>ac6c3623068f30de03045865e4e10089</td><td>df560393f3a51e74553ab94004ba5c87</td><td>2017-02-13 13:57:51             </td><td>199.90                          </td><td>18.14                           </td><td>199.90                          </td><td>18.14                           </td><td>218.04                          </td><td>0                               </td></tr>\n",
       "\t<tr><td>00048cc3ae777c65dbb7d2a0634bc1ea</td><td>1                               </td><td>ef92defde845ab8450f9d70c526ef70f</td><td>6426d21aca402a131fc0a5d0960a3c90</td><td>2017-05-23 03:55:27             </td><td> 21.90                          </td><td>12.69                           </td><td> 21.90                          </td><td>12.69                           </td><td> 34.59                          </td><td>0                               </td></tr>\n",
       "</tbody>\n",
       "</table>\n"
      ],
      "text/latex": [
       "\\begin{tabular}{r|lllllllllll}\n",
       " order\\_id & order\\_item\\_id & product\\_id & seller\\_id & shipping\\_limit\\_date & price & freight\\_value & order.price & order.freight & total.order.cost & fr.sup.pr\\\\\n",
       "\\hline\n",
       "\t 00010242fe8c5a6d1ba2dd792cb16214 & 1                                & 4244733e06e7ecb4970a6e2683c13e61 & 48436dade18ac8b2bce089ec2a041202 & 2017-09-19 09:45:35              &  58.90                           & 13.29                            &  58.90                           & 13.29                            &  72.19                           & 0                               \\\\\n",
       "\t 00018f77f2f0320c557190d7a144bdd3 & 1                                & e5f2d52b802189ee658865ca93d83a8f & dd7ddc04e1b6c2c614352b383efe2d36 & 2017-05-03 11:05:13              & 239.90                           & 19.93                            & 239.90                           & 19.93                            & 259.83                           & 0                               \\\\\n",
       "\t 000229ec398224ef6ca0657da4fc703e & 1                                & c777355d18b72b67abbeef9df44fd0fd & 5b51032eddd242adc84c38acab88f23d & 2018-01-18 14:48:30              & 199.00                           & 17.87                            & 199.00                           & 17.87                            & 216.87                           & 0                               \\\\\n",
       "\t 00024acbcdf0a6daa1e931b038114c75 & 1                                & 7634da152a4610f1595efa32f14722fc & 9d7a1d34a5052409006425275ba1c2b4 & 2018-08-15 10:10:18              &  12.99                           & 12.79                            &  12.99                           & 12.79                            &  25.78                           & 0                               \\\\\n",
       "\t 00042b26cf59d7ce69dfabb4e55b4fd9 & 1                                & ac6c3623068f30de03045865e4e10089 & df560393f3a51e74553ab94004ba5c87 & 2017-02-13 13:57:51              & 199.90                           & 18.14                            & 199.90                           & 18.14                            & 218.04                           & 0                               \\\\\n",
       "\t 00048cc3ae777c65dbb7d2a0634bc1ea & 1                                & ef92defde845ab8450f9d70c526ef70f & 6426d21aca402a131fc0a5d0960a3c90 & 2017-05-23 03:55:27              &  21.90                           & 12.69                            &  21.90                           & 12.69                            &  34.59                           & 0                               \\\\\n",
       "\\end{tabular}\n"
      ],
      "text/markdown": [
       "\n",
       "| order_id | order_item_id | product_id | seller_id | shipping_limit_date | price | freight_value | order.price | order.freight | total.order.cost | fr.sup.pr |\n",
       "|---|---|---|---|---|---|---|---|---|---|---|\n",
       "| 00010242fe8c5a6d1ba2dd792cb16214 | 1                                | 4244733e06e7ecb4970a6e2683c13e61 | 48436dade18ac8b2bce089ec2a041202 | 2017-09-19 09:45:35              |  58.90                           | 13.29                            |  58.90                           | 13.29                            |  72.19                           | 0                                |\n",
       "| 00018f77f2f0320c557190d7a144bdd3 | 1                                | e5f2d52b802189ee658865ca93d83a8f | dd7ddc04e1b6c2c614352b383efe2d36 | 2017-05-03 11:05:13              | 239.90                           | 19.93                            | 239.90                           | 19.93                            | 259.83                           | 0                                |\n",
       "| 000229ec398224ef6ca0657da4fc703e | 1                                | c777355d18b72b67abbeef9df44fd0fd | 5b51032eddd242adc84c38acab88f23d | 2018-01-18 14:48:30              | 199.00                           | 17.87                            | 199.00                           | 17.87                            | 216.87                           | 0                                |\n",
       "| 00024acbcdf0a6daa1e931b038114c75 | 1                                | 7634da152a4610f1595efa32f14722fc | 9d7a1d34a5052409006425275ba1c2b4 | 2018-08-15 10:10:18              |  12.99                           | 12.79                            |  12.99                           | 12.79                            |  25.78                           | 0                                |\n",
       "| 00042b26cf59d7ce69dfabb4e55b4fd9 | 1                                | ac6c3623068f30de03045865e4e10089 | df560393f3a51e74553ab94004ba5c87 | 2017-02-13 13:57:51              | 199.90                           | 18.14                            | 199.90                           | 18.14                            | 218.04                           | 0                                |\n",
       "| 00048cc3ae777c65dbb7d2a0634bc1ea | 1                                | ef92defde845ab8450f9d70c526ef70f | 6426d21aca402a131fc0a5d0960a3c90 | 2017-05-23 03:55:27              |  21.90                           | 12.69                            |  21.90                           | 12.69                            |  34.59                           | 0                                |\n",
       "\n"
      ],
      "text/plain": [
       "  order_id                         order_item_id\n",
       "1 00010242fe8c5a6d1ba2dd792cb16214 1            \n",
       "2 00018f77f2f0320c557190d7a144bdd3 1            \n",
       "3 000229ec398224ef6ca0657da4fc703e 1            \n",
       "4 00024acbcdf0a6daa1e931b038114c75 1            \n",
       "5 00042b26cf59d7ce69dfabb4e55b4fd9 1            \n",
       "6 00048cc3ae777c65dbb7d2a0634bc1ea 1            \n",
       "  product_id                       seller_id                       \n",
       "1 4244733e06e7ecb4970a6e2683c13e61 48436dade18ac8b2bce089ec2a041202\n",
       "2 e5f2d52b802189ee658865ca93d83a8f dd7ddc04e1b6c2c614352b383efe2d36\n",
       "3 c777355d18b72b67abbeef9df44fd0fd 5b51032eddd242adc84c38acab88f23d\n",
       "4 7634da152a4610f1595efa32f14722fc 9d7a1d34a5052409006425275ba1c2b4\n",
       "5 ac6c3623068f30de03045865e4e10089 df560393f3a51e74553ab94004ba5c87\n",
       "6 ef92defde845ab8450f9d70c526ef70f 6426d21aca402a131fc0a5d0960a3c90\n",
       "  shipping_limit_date price  freight_value order.price order.freight\n",
       "1 2017-09-19 09:45:35  58.90 13.29          58.90      13.29        \n",
       "2 2017-05-03 11:05:13 239.90 19.93         239.90      19.93        \n",
       "3 2018-01-18 14:48:30 199.00 17.87         199.00      17.87        \n",
       "4 2018-08-15 10:10:18  12.99 12.79          12.99      12.79        \n",
       "5 2017-02-13 13:57:51 199.90 18.14         199.90      18.14        \n",
       "6 2017-05-23 03:55:27  21.90 12.69          21.90      12.69        \n",
       "  total.order.cost fr.sup.pr\n",
       "1  72.19           0        \n",
       "2 259.83           0        \n",
       "3 216.87           0        \n",
       "4  25.78           0        \n",
       "5 218.04           0        \n",
       "6  34.59           0        "
      ]
     },
     "metadata": {},
     "output_type": "display_data"
    }
   ],
   "source": [
    "head(Items)"
   ]
  },
  {
   "cell_type": "markdown",
   "metadata": {},
   "source": [
    "## mise en place des donnée pour préparé mes observation de données (sur les catégorie de produi)"
   ]
  },
  {
   "cell_type": "code",
   "execution_count": 11,
   "metadata": {
    "scrolled": true
   },
   "outputs": [],
   "source": [
    "Products <- merge(Products, Items[, c(\"product_id\",\"order_item_id\",\"order_id\",\"seller_id\",\"price\",\"freight_value\")], by=\"product_id\") \n",
    "Products <- merge(Products, Orders[, c(\"order_id\",\"customer_id\",\"order_status\",\"order_purchase_timestamp\",\"order_delivered_customer_date\",\"order_estimated_delivery_date\",\"purchase_month\",\"purchase_year\")], by=\"order_id\") \n",
    "Products <- merge(Products, Sellers[, c(\"seller_id\",\"seller_city\",\"seller_state\")], by=\"seller_id\") \n",
    "Products <- merge(Products, Customers[, c(\"customer_id\",\"customer_city\",\"customer_state\" )], by=\"customer_id\") \n",
    "Products <- merge(Products, Reviews[, c(\"order_id\",\"review_score\" )], by=\"order_id\") \n",
    "Products <- mutate(Products, product_delivery_time = interval(ymd_hms(Products$order_purchase_timestamp), ymd_hms(Products$order_delivered_customer_date)) %/% days(x = 1))\n",
    "Products <- mutate(Products, purchase_day_week =as.POSIXlt(Products$order_purchase_timestamp)$wday)\n",
    "Products <- mutate(Products, purchase_month_n = month(Products$order_purchase_timestamp, label = FALSE , abbr = FALSE))\n",
    "\n",
    "#une couche de correlation de produit ( par produit --> même id achéte quoi(count)/count(produit))"
   ]
  },
  {
   "cell_type": "code",
   "execution_count": 31,
   "metadata": {},
   "outputs": [
    {
     "data": {
      "text/html": [
       "<table>\n",
       "<thead><tr><th scope=col>order_id</th><th scope=col>customer_id</th><th scope=col>seller_id</th><th scope=col>product_id</th><th scope=col>product_category_name</th><th scope=col>product_name_lenght</th><th scope=col>product_description_lenght</th><th scope=col>product_photos_qty</th><th scope=col>product_weight_g</th><th scope=col>product_length_cm</th><th scope=col>...</th><th scope=col>order_estimated_delivery_date</th><th scope=col>purchase_month</th><th scope=col>purchase_year</th><th scope=col>seller_city</th><th scope=col>seller_state</th><th scope=col>customer_city</th><th scope=col>customer_state</th><th scope=col>review_score</th><th scope=col>product_delivery_time</th><th scope=col>purchase_day_week</th></tr></thead>\n",
       "<tbody>\n",
       "\t<tr><td>00010242fe8c5a6d1ba2dd792cb16214</td><td>3ce436f183e68e07877b285a838db11a</td><td>48436dade18ac8b2bce089ec2a041202</td><td>4244733e06e7ecb4970a6e2683c13e61</td><td>cool_stuff                      </td><td>58                              </td><td>598                             </td><td>4                               </td><td>  650                           </td><td>28                              </td><td>...                             </td><td>2017-09-29 00:00:00             </td><td>9                               </td><td>2017                            </td><td>volta redonda                   </td><td>SP                              </td><td>campos dos goytacazes           </td><td>RJ                              </td><td>5                               </td><td> 7                              </td><td>3                               </td></tr>\n",
       "\t<tr><td>00018f77f2f0320c557190d7a144bdd3</td><td>f6dd3ec061db4e3987629fe6b26e5cce</td><td>dd7ddc04e1b6c2c614352b383efe2d36</td><td>e5f2d52b802189ee658865ca93d83a8f</td><td>pet_shop                        </td><td>56                              </td><td>239                             </td><td>2                               </td><td>30000                           </td><td>50                              </td><td>...                             </td><td>2017-05-15 00:00:00             </td><td>4                               </td><td>2017                            </td><td>sao paulo                       </td><td>SP                              </td><td>santa fe do sul                 </td><td>SP                              </td><td>4                               </td><td>16                              </td><td>3                               </td></tr>\n",
       "\t<tr><td>000229ec398224ef6ca0657da4fc703e</td><td>6489ae5e4333f3693df5ad4372dab6d3</td><td>5b51032eddd242adc84c38acab88f23d</td><td>c777355d18b72b67abbeef9df44fd0fd</td><td>moveis_decoracao                </td><td>59                              </td><td>695                             </td><td>2                               </td><td> 3050                           </td><td>33                              </td><td>...                             </td><td>2018-02-05 00:00:00             </td><td>1                               </td><td>2018                            </td><td>borda da mata                   </td><td>MG                              </td><td>para de minas                   </td><td>MG                              </td><td>5                               </td><td> 7                              </td><td>0                               </td></tr>\n",
       "\t<tr><td>00024acbcdf0a6daa1e931b038114c75</td><td>d4eb9395c8c0431ee92fce09860c5a06</td><td>9d7a1d34a5052409006425275ba1c2b4</td><td>7634da152a4610f1595efa32f14722fc</td><td>perfumaria                      </td><td>42                              </td><td>480                             </td><td>1                               </td><td>  200                           </td><td>16                              </td><td>...                             </td><td>2018-08-20 00:00:00             </td><td>8                               </td><td>2018                            </td><td>franca                          </td><td>SP                              </td><td>atibaia                         </td><td>SP                              </td><td>4                               </td><td> 6                              </td><td>3                               </td></tr>\n",
       "\t<tr><td>00042b26cf59d7ce69dfabb4e55b4fd9</td><td>58dbd0b2d70206bf40e62cd34e84d795</td><td>df560393f3a51e74553ab94004ba5c87</td><td>ac6c3623068f30de03045865e4e10089</td><td>ferramentas_jardim              </td><td>59                              </td><td>409                             </td><td>1                               </td><td> 3750                           </td><td>35                              </td><td>...                             </td><td>2017-03-17 00:00:00             </td><td>2                               </td><td>2017                            </td><td>loanda                          </td><td>PR                              </td><td>varzea paulista                 </td><td>SP                              </td><td>5                               </td><td>25                              </td><td>6                               </td></tr>\n",
       "\t<tr><td>00048cc3ae777c65dbb7d2a0634bc1ea</td><td>816cbea969fe5b689b39cfc97a506742</td><td>6426d21aca402a131fc0a5d0960a3c90</td><td>ef92defde845ab8450f9d70c526ef70f</td><td>utilidades_domesticas           </td><td>36                              </td><td>558                             </td><td>1                               </td><td>  450                           </td><td>24                              </td><td>...                             </td><td>2017-06-06 00:00:00             </td><td>5                               </td><td>2017                            </td><td>ribeirao preto                  </td><td>SP                              </td><td>uberaba                         </td><td>MG                              </td><td>4                               </td><td> 6                              </td><td>1                               </td></tr>\n",
       "</tbody>\n",
       "</table>\n"
      ],
      "text/latex": [
       "\\begin{tabular}{r|llllllllllllllllllllllllllll}\n",
       " order\\_id & customer\\_id & seller\\_id & product\\_id & product\\_category\\_name & product\\_name\\_lenght & product\\_description\\_lenght & product\\_photos\\_qty & product\\_weight\\_g & product\\_length\\_cm & ... & order\\_estimated\\_delivery\\_date & purchase\\_month & purchase\\_year & seller\\_city & seller\\_state & customer\\_city & customer\\_state & review\\_score & product\\_delivery\\_time & purchase\\_day\\_week\\\\\n",
       "\\hline\n",
       "\t 00010242fe8c5a6d1ba2dd792cb16214 & 3ce436f183e68e07877b285a838db11a & 48436dade18ac8b2bce089ec2a041202 & 4244733e06e7ecb4970a6e2683c13e61 & cool\\_stuff                     & 58                               & 598                              & 4                                &   650                            & 28                               & ...                              & 2017-09-29 00:00:00              & 9                                & 2017                             & volta redonda                    & SP                               & campos dos goytacazes            & RJ                               & 5                                &  7                               & 3                               \\\\\n",
       "\t 00018f77f2f0320c557190d7a144bdd3 & f6dd3ec061db4e3987629fe6b26e5cce & dd7ddc04e1b6c2c614352b383efe2d36 & e5f2d52b802189ee658865ca93d83a8f & pet\\_shop                       & 56                               & 239                              & 2                                & 30000                            & 50                               & ...                              & 2017-05-15 00:00:00              & 4                                & 2017                             & sao paulo                        & SP                               & santa fe do sul                  & SP                               & 4                                & 16                               & 3                               \\\\\n",
       "\t 000229ec398224ef6ca0657da4fc703e & 6489ae5e4333f3693df5ad4372dab6d3 & 5b51032eddd242adc84c38acab88f23d & c777355d18b72b67abbeef9df44fd0fd & moveis\\_decoracao               & 59                               & 695                              & 2                                &  3050                            & 33                               & ...                              & 2018-02-05 00:00:00              & 1                                & 2018                             & borda da mata                    & MG                               & para de minas                    & MG                               & 5                                &  7                               & 0                               \\\\\n",
       "\t 00024acbcdf0a6daa1e931b038114c75 & d4eb9395c8c0431ee92fce09860c5a06 & 9d7a1d34a5052409006425275ba1c2b4 & 7634da152a4610f1595efa32f14722fc & perfumaria                       & 42                               & 480                              & 1                                &   200                            & 16                               & ...                              & 2018-08-20 00:00:00              & 8                                & 2018                             & franca                           & SP                               & atibaia                          & SP                               & 4                                &  6                               & 3                               \\\\\n",
       "\t 00042b26cf59d7ce69dfabb4e55b4fd9 & 58dbd0b2d70206bf40e62cd34e84d795 & df560393f3a51e74553ab94004ba5c87 & ac6c3623068f30de03045865e4e10089 & ferramentas\\_jardim             & 59                               & 409                              & 1                                &  3750                            & 35                               & ...                              & 2017-03-17 00:00:00              & 2                                & 2017                             & loanda                           & PR                               & varzea paulista                  & SP                               & 5                                & 25                               & 6                               \\\\\n",
       "\t 00048cc3ae777c65dbb7d2a0634bc1ea & 816cbea969fe5b689b39cfc97a506742 & 6426d21aca402a131fc0a5d0960a3c90 & ef92defde845ab8450f9d70c526ef70f & utilidades\\_domesticas          & 36                               & 558                              & 1                                &   450                            & 24                               & ...                              & 2017-06-06 00:00:00              & 5                                & 2017                             & ribeirao preto                   & SP                               & uberaba                          & MG                               & 4                                &  6                               & 1                               \\\\\n",
       "\\end{tabular}\n"
      ],
      "text/markdown": [
       "\n",
       "| order_id | customer_id | seller_id | product_id | product_category_name | product_name_lenght | product_description_lenght | product_photos_qty | product_weight_g | product_length_cm | ... | order_estimated_delivery_date | purchase_month | purchase_year | seller_city | seller_state | customer_city | customer_state | review_score | product_delivery_time | purchase_day_week |\n",
       "|---|---|---|---|---|---|---|---|---|---|---|---|---|---|---|---|---|---|---|---|---|\n",
       "| 00010242fe8c5a6d1ba2dd792cb16214 | 3ce436f183e68e07877b285a838db11a | 48436dade18ac8b2bce089ec2a041202 | 4244733e06e7ecb4970a6e2683c13e61 | cool_stuff                       | 58                               | 598                              | 4                                |   650                            | 28                               | ...                              | 2017-09-29 00:00:00              | 9                                | 2017                             | volta redonda                    | SP                               | campos dos goytacazes            | RJ                               | 5                                |  7                               | 3                                |\n",
       "| 00018f77f2f0320c557190d7a144bdd3 | f6dd3ec061db4e3987629fe6b26e5cce | dd7ddc04e1b6c2c614352b383efe2d36 | e5f2d52b802189ee658865ca93d83a8f | pet_shop                         | 56                               | 239                              | 2                                | 30000                            | 50                               | ...                              | 2017-05-15 00:00:00              | 4                                | 2017                             | sao paulo                        | SP                               | santa fe do sul                  | SP                               | 4                                | 16                               | 3                                |\n",
       "| 000229ec398224ef6ca0657da4fc703e | 6489ae5e4333f3693df5ad4372dab6d3 | 5b51032eddd242adc84c38acab88f23d | c777355d18b72b67abbeef9df44fd0fd | moveis_decoracao                 | 59                               | 695                              | 2                                |  3050                            | 33                               | ...                              | 2018-02-05 00:00:00              | 1                                | 2018                             | borda da mata                    | MG                               | para de minas                    | MG                               | 5                                |  7                               | 0                                |\n",
       "| 00024acbcdf0a6daa1e931b038114c75 | d4eb9395c8c0431ee92fce09860c5a06 | 9d7a1d34a5052409006425275ba1c2b4 | 7634da152a4610f1595efa32f14722fc | perfumaria                       | 42                               | 480                              | 1                                |   200                            | 16                               | ...                              | 2018-08-20 00:00:00              | 8                                | 2018                             | franca                           | SP                               | atibaia                          | SP                               | 4                                |  6                               | 3                                |\n",
       "| 00042b26cf59d7ce69dfabb4e55b4fd9 | 58dbd0b2d70206bf40e62cd34e84d795 | df560393f3a51e74553ab94004ba5c87 | ac6c3623068f30de03045865e4e10089 | ferramentas_jardim               | 59                               | 409                              | 1                                |  3750                            | 35                               | ...                              | 2017-03-17 00:00:00              | 2                                | 2017                             | loanda                           | PR                               | varzea paulista                  | SP                               | 5                                | 25                               | 6                                |\n",
       "| 00048cc3ae777c65dbb7d2a0634bc1ea | 816cbea969fe5b689b39cfc97a506742 | 6426d21aca402a131fc0a5d0960a3c90 | ef92defde845ab8450f9d70c526ef70f | utilidades_domesticas            | 36                               | 558                              | 1                                |   450                            | 24                               | ...                              | 2017-06-06 00:00:00              | 5                                | 2017                             | ribeirao preto                   | SP                               | uberaba                          | MG                               | 4                                |  6                               | 1                                |\n",
       "\n"
      ],
      "text/plain": [
       "  order_id                         customer_id                     \n",
       "1 00010242fe8c5a6d1ba2dd792cb16214 3ce436f183e68e07877b285a838db11a\n",
       "2 00018f77f2f0320c557190d7a144bdd3 f6dd3ec061db4e3987629fe6b26e5cce\n",
       "3 000229ec398224ef6ca0657da4fc703e 6489ae5e4333f3693df5ad4372dab6d3\n",
       "4 00024acbcdf0a6daa1e931b038114c75 d4eb9395c8c0431ee92fce09860c5a06\n",
       "5 00042b26cf59d7ce69dfabb4e55b4fd9 58dbd0b2d70206bf40e62cd34e84d795\n",
       "6 00048cc3ae777c65dbb7d2a0634bc1ea 816cbea969fe5b689b39cfc97a506742\n",
       "  seller_id                        product_id                      \n",
       "1 48436dade18ac8b2bce089ec2a041202 4244733e06e7ecb4970a6e2683c13e61\n",
       "2 dd7ddc04e1b6c2c614352b383efe2d36 e5f2d52b802189ee658865ca93d83a8f\n",
       "3 5b51032eddd242adc84c38acab88f23d c777355d18b72b67abbeef9df44fd0fd\n",
       "4 9d7a1d34a5052409006425275ba1c2b4 7634da152a4610f1595efa32f14722fc\n",
       "5 df560393f3a51e74553ab94004ba5c87 ac6c3623068f30de03045865e4e10089\n",
       "6 6426d21aca402a131fc0a5d0960a3c90 ef92defde845ab8450f9d70c526ef70f\n",
       "  product_category_name product_name_lenght product_description_lenght\n",
       "1 cool_stuff            58                  598                       \n",
       "2 pet_shop              56                  239                       \n",
       "3 moveis_decoracao      59                  695                       \n",
       "4 perfumaria            42                  480                       \n",
       "5 ferramentas_jardim    59                  409                       \n",
       "6 utilidades_domesticas 36                  558                       \n",
       "  product_photos_qty product_weight_g product_length_cm ...\n",
       "1 4                    650            28                ...\n",
       "2 2                  30000            50                ...\n",
       "3 2                   3050            33                ...\n",
       "4 1                    200            16                ...\n",
       "5 1                   3750            35                ...\n",
       "6 1                    450            24                ...\n",
       "  order_estimated_delivery_date purchase_month purchase_year seller_city   \n",
       "1 2017-09-29 00:00:00           9              2017          volta redonda \n",
       "2 2017-05-15 00:00:00           4              2017          sao paulo     \n",
       "3 2018-02-05 00:00:00           1              2018          borda da mata \n",
       "4 2018-08-20 00:00:00           8              2018          franca        \n",
       "5 2017-03-17 00:00:00           2              2017          loanda        \n",
       "6 2017-06-06 00:00:00           5              2017          ribeirao preto\n",
       "  seller_state customer_city         customer_state review_score\n",
       "1 SP           campos dos goytacazes RJ             5           \n",
       "2 SP           santa fe do sul       SP             4           \n",
       "3 MG           para de minas         MG             5           \n",
       "4 SP           atibaia               SP             4           \n",
       "5 PR           varzea paulista       SP             5           \n",
       "6 SP           uberaba               MG             4           \n",
       "  product_delivery_time purchase_day_week\n",
       "1  7                    3                \n",
       "2 16                    3                \n",
       "3  7                    0                \n",
       "4  6                    3                \n",
       "5 25                    6                \n",
       "6  6                    1                "
      ]
     },
     "metadata": {},
     "output_type": "display_data"
    }
   ],
   "source": [
    "head(Products)"
   ]
  },
  {
   "cell_type": "markdown",
   "metadata": {},
   "source": [
    "## observe les catégorie principlae pour nous focalisé sur une catégorie"
   ]
  },
  {
   "cell_type": "code",
   "execution_count": 13,
   "metadata": {},
   "outputs": [],
   "source": [
    "TOP_Category <- aggregate(Products$price, by=list(Category=Products$product_category_name), FUN=sum)"
   ]
  },
  {
   "cell_type": "code",
   "execution_count": 14,
   "metadata": {},
   "outputs": [
    {
     "data": {
      "text/html": [
       "<table>\n",
       "<thead><tr><th></th><th scope=col>Category</th><th scope=col>x</th></tr></thead>\n",
       "<tbody>\n",
       "\t<tr><th scope=row>13</th><td>beleza_saude          </td><td>1263237.5             </td></tr>\n",
       "\t<tr><th scope=row>68</th><td>relogios_presentes    </td><td>1206075.3             </td></tr>\n",
       "\t<tr><th scope=row>15</th><td>cama_mesa_banho       </td><td>1051085.5             </td></tr>\n",
       "\t<tr><th scope=row>34</th><td>esporte_lazer         </td><td> 993684.5             </td></tr>\n",
       "\t<tr><th scope=row>46</th><td>informatica_acessorios</td><td> 919721.4             </td></tr>\n",
       "\t<tr><th scope=row>56</th><td>moveis_decoracao      </td><td> 736682.5             </td></tr>\n",
       "\t<tr><th scope=row>28</th><td>cool_stuff            </td><td> 637258.5             </td></tr>\n",
       "\t<tr><th scope=row>74</th><td>utilidades_domesticas </td><td> 634542.6             </td></tr>\n",
       "\t<tr><th scope=row>10</th><td>automotivo            </td><td> 594363.1             </td></tr>\n",
       "\t<tr><th scope=row>42</th><td>ferramentas_jardim    </td><td> 486432.5             </td></tr>\n",
       "</tbody>\n",
       "</table>\n"
      ],
      "text/latex": [
       "\\begin{tabular}{r|ll}\n",
       "  & Category & x\\\\\n",
       "\\hline\n",
       "\t13 & beleza\\_saude           & 1263237.5               \\\\\n",
       "\t68 & relogios\\_presentes     & 1206075.3               \\\\\n",
       "\t15 & cama\\_mesa\\_banho        & 1051085.5                 \\\\\n",
       "\t34 & esporte\\_lazer          &  993684.5               \\\\\n",
       "\t46 & informatica\\_acessorios &  919721.4               \\\\\n",
       "\t56 & moveis\\_decoracao       &  736682.5               \\\\\n",
       "\t28 & cool\\_stuff             &  637258.5               \\\\\n",
       "\t74 & utilidades\\_domesticas  &  634542.6               \\\\\n",
       "\t10 & automotivo             &  594363.1             \\\\\n",
       "\t42 & ferramentas\\_jardim     &  486432.5               \\\\\n",
       "\\end{tabular}\n"
      ],
      "text/markdown": [
       "\n",
       "| <!--/--> | Category | x |\n",
       "|---|---|---|\n",
       "| 13 | beleza_saude           | 1263237.5              |\n",
       "| 68 | relogios_presentes     | 1206075.3              |\n",
       "| 15 | cama_mesa_banho        | 1051085.5              |\n",
       "| 34 | esporte_lazer          |  993684.5              |\n",
       "| 46 | informatica_acessorios |  919721.4              |\n",
       "| 56 | moveis_decoracao       |  736682.5              |\n",
       "| 28 | cool_stuff             |  637258.5              |\n",
       "| 74 | utilidades_domesticas  |  634542.6              |\n",
       "| 10 | automotivo             |  594363.1              |\n",
       "| 42 | ferramentas_jardim     |  486432.5              |\n",
       "\n"
      ],
      "text/plain": [
       "   Category               x        \n",
       "13 beleza_saude           1263237.5\n",
       "68 relogios_presentes     1206075.3\n",
       "15 cama_mesa_banho        1051085.5\n",
       "34 esporte_lazer           993684.5\n",
       "46 informatica_acessorios  919721.4\n",
       "56 moveis_decoracao        736682.5\n",
       "28 cool_stuff              637258.5\n",
       "74 utilidades_domesticas   634542.6\n",
       "10 automotivo              594363.1\n",
       "42 ferramentas_jardim      486432.5"
      ]
     },
     "metadata": {},
     "output_type": "display_data"
    }
   ],
   "source": [
    "TOP10_Category <- TOP_Category[order(-TOP_Category$x),]\n",
    "TOP10_Category <- TOP10_Category[1:10,]\n",
    "TOP10_Category"
   ]
  },
  {
   "cell_type": "code",
   "execution_count": 15,
   "metadata": {},
   "outputs": [
    {
     "data": {
      "image/png": "[encoded data removed]",
      "text/plain": [
       "plot without title"
      ]
     },
     "metadata": {},
     "output_type": "display_data"
    }
   ],
   "source": [
    "\n",
    "# Bar plot\n",
    "bp<- ggplot(TOP10_Category, aes(x=\"\", y=TOP10_Category[,2], fill=TOP10_Category[,1]))+\n",
    "geom_bar(width = 1, stat = \"identity\")\n",
    "pie <- bp + coord_polar(\"y\", start=0)\n",
    "pie"
   ]
  },
  {
   "cell_type": "markdown",
   "metadata": {},
   "source": [
    "## mise en place du dataset juste pour la catégorie choisie"
   ]
  },
  {
   "cell_type": "code",
   "execution_count": 52,
   "metadata": {},
   "outputs": [
    {
     "name": "stderr",
     "output_type": "stream",
     "text": [
      "Warning message in cbind(parts$left, ellip_h, parts$right, deparse.level = 0L):\n",
      "\"number of rows of result is not a multiple of vector length (arg 2)\"Warning message in cbind(parts$left, ellip_h, parts$right, deparse.level = 0L):\n",
      "\"number of rows of result is not a multiple of vector length (arg 2)\"Warning message in cbind(parts$left, ellip_h, parts$right, deparse.level = 0L):\n",
      "\"number of rows of result is not a multiple of vector length (arg 2)\"Warning message in cbind(parts$left, ellip_h, parts$right, deparse.level = 0L):\n",
      "\"number of rows of result is not a multiple of vector length (arg 2)\""
     ]
    },
    {
     "data": {
      "text/html": [
       "<table>\n",
       "<thead><tr><th scope=col>order_id</th><th scope=col>customer_id</th><th scope=col>seller_id</th><th scope=col>product_id</th><th scope=col>product_category_name</th><th scope=col>product_name_lenght</th><th scope=col>product_description_lenght</th><th scope=col>product_photos_qty</th><th scope=col>product_weight_g</th><th scope=col>product_length_cm</th><th scope=col>...</th><th scope=col>order_estimated_delivery_date</th><th scope=col>purchase_month</th><th scope=col>purchase_year</th><th scope=col>seller_city</th><th scope=col>seller_state</th><th scope=col>customer_city</th><th scope=col>customer_state</th><th scope=col>review_score</th><th scope=col>product_delivery_time</th><th scope=col>purchase_day_week</th></tr></thead>\n",
       "<tbody>\n",
       "</tbody>\n",
       "</table>\n"
      ],
      "text/latex": [
       "\\begin{tabular}{r|llllllllllllllllllllllllllll}\n",
       " order\\_id & customer\\_id & seller\\_id & product\\_id & product\\_category\\_name & product\\_name\\_lenght & product\\_description\\_lenght & product\\_photos\\_qty & product\\_weight\\_g & product\\_length\\_cm & ... & order\\_estimated\\_delivery\\_date & purchase\\_month & purchase\\_year & seller\\_city & seller\\_state & customer\\_city & customer\\_state & review\\_score & product\\_delivery\\_time & purchase\\_day\\_week\\\\\n",
       "\\hline\n",
       "\\end{tabular}\n"
      ],
      "text/markdown": [
       "\n",
       "| order_id | customer_id | seller_id | product_id | product_category_name | product_name_lenght | product_description_lenght | product_photos_qty | product_weight_g | product_length_cm | ... | order_estimated_delivery_date | purchase_month | purchase_year | seller_city | seller_state | customer_city | customer_state | review_score | product_delivery_time | purchase_day_week |\n",
       "|---|---|---|---|---|---|---|---|---|---|---|---|---|---|---|---|---|---|---|---|---|\n",
       "\n"
      ],
      "text/plain": [
       "     order_id customer_id seller_id product_id product_category_name\n",
       "     product_name_lenght product_description_lenght product_photos_qty\n",
       "     product_weight_g product_length_cm ... order_estimated_delivery_date\n",
       "     purchase_month purchase_year seller_city seller_state customer_city\n",
       "     customer_state review_score product_delivery_time purchase_day_week"
      ]
     },
     "metadata": {},
     "output_type": "display_data"
    }
   ],
   "source": [
    "beleza_saude_Category <- Products[Products$product_category_name == \"beleza_saude\",]\n",
    "beleza_saude_Category <- beleza_saude_Category[beleza_saude_Category$order_status == \"order_status_delivered\",]\n",
    "beleza_saude_Category\n"
   ]
  },
  {
   "cell_type": "code",
   "execution_count": 50,
   "metadata": {},
   "outputs": [
    {
     "ename": "ERROR",
     "evalue": "Error in month(beleza_saude_Category$order_purchase_timestamp, label = FALSE, : arguments inutilisés (label = FALSE, abbr = FALSE)\n",
     "output_type": "error",
     "traceback": [
      "Error in month(beleza_saude_Category$order_purchase_timestamp, label = FALSE, : arguments inutilisés (label = FALSE, abbr = FALSE)\nTraceback:\n",
      "1. mutate(beleza_saude_Category, purchase_month_n = month(beleza_saude_Category$order_purchase_timestamp, \n .     label = FALSE, abbr = FALSE))",
      "2. mutate.data.frame(beleza_saude_Category, purchase_month_n = month(beleza_saude_Category$order_purchase_timestamp, \n .     label = FALSE, abbr = FALSE))",
      "3. as.data.frame(mutate(tbl_df(.data), ...))",
      "4. mutate(tbl_df(.data), ...)",
      "5. mutate.tbl_df(tbl_df(.data), ...)",
      "6. mutate_impl(.data, dots, caller_env())"
     ]
    }
   ],
   "source": [
    "beleza_saude_Category <- mutate(beleza_saude_Category, purchase_month_n = month(beleza_saude_Category$order_purchase_timestamp, label = FALSE , abbr = FALSE))\n",
    "beleza_saude_Category <- beleza_saude_Category[,6:length(beleza_saude_Category)]\n",
    "beleza_saude_Category"
   ]
  },
  {
   "cell_type": "code",
   "execution_count": 44,
   "metadata": {},
   "outputs": [],
   "source": [
    "beleza_saude_Category_new <- beleza_saude_Category[ , !(names(beleza_saude_Category) %in% c(\"order_purchase_timestamp\",\"order_delivered_customer_date\",\"order_estimated_delivery_date\",\"seller_city\",\"customer_city\",\"seller_state\",\"seller_city\"))]\n",
    "fix(beleza_saude_Category)"
   ]
  },
  {
   "cell_type": "markdown",
   "metadata": {},
   "source": [
    "# linear regression test with different x with y = price"
   ]
  },
  {
   "cell_type": "code",
   "execution_count": 45,
   "metadata": {},
   "outputs": [
    {
     "name": "stderr",
     "output_type": "stream",
     "text": [
      "Warning message:\n",
      "\"package 'mltools' is in use and will not be installed\""
     ]
    }
   ],
   "source": [
    "library(data.table)\n",
    "library(mltools)\n",
    "beleza_saude_Category_hot <- one_hot(as.data.table(beleza_saude_Category))\n"
   ]
  },
  {
   "cell_type": "code",
   "execution_count": 47,
   "metadata": {},
   "outputs": [],
   "source": [
    "fix(beleza_saude_Category_hot)"
   ]
  },
  {
   "cell_type": "code",
   "execution_count": null,
   "metadata": {},
   "outputs": [],
   "source": [
    "ggplot(beleza_saude_Category,aes(y=price,x=purchase_day_week))+geom_point()+geom_smooth(method=\"lm\")"
   ]
  },
  {
   "cell_type": "code",
   "execution_count": 19,
   "metadata": {},
   "outputs": [
    {
     "data": {
      "image/png": "[encoded data removed]",
      "text/plain": [
       "plot without title"
      ]
     },
     "metadata": {},
     "output_type": "display_data"
    }
   ],
   "source": [
    "ggplot(beleza_saude_Category,aes(y=price,x=review_score))+geom_point()+geom_smooth(method=\"lm\")"
   ]
  },
  {
   "cell_type": "code",
   "execution_count": 18,
   "metadata": {},
   "outputs": [
    {
     "data": {
      "image/png": "[encoded data removed]",
      "text/plain": [
       "plot without title"
      ]
     },
     "metadata": {},
     "output_type": "display_data"
    }
   ],
   "source": [
    "ggplot(beleza_saude_Category,aes(y=price,x=purchase_year))+geom_point()+geom_smooth(method=\"lm\")"
   ]
  },
  {
   "cell_type": "code",
   "execution_count": 100,
   "metadata": {
    "scrolled": false
   },
   "outputs": [
    {
     "data": {
      "image/png": "[encoded data removed]",
      "text/plain": [
       "plot without title"
      ]
     },
     "metadata": {},
     "output_type": "display_data"
    }
   ],
   "source": [
    "ggplot(beleza_saude_Category,aes(y=price,x=purchase_month_n))+geom_point()+geom_smooth(method=\"lm\")"
   ]
  },
  {
   "cell_type": "code",
   "execution_count": 96,
   "metadata": {},
   "outputs": [
    {
     "name": "stderr",
     "output_type": "stream",
     "text": [
      "Warning message:\n",
      "\"Removed 203 rows containing non-finite values (stat_smooth).\"Warning message:\n",
      "\"Removed 203 rows containing missing values (geom_point).\""
     ]
    },
    {
     "data": {
      "image/png": "[encoded data removed]",
      "text/plain": [
       "plot without title"
      ]
     },
     "metadata": {},
     "output_type": "display_data"
    }
   ],
   "source": [
    "ggplot(beleza_saude_Category,aes(y=price,x=product_delivery_time))+geom_point()+geom_smooth(method=\"lm\")\n",
    "#valeurs exessif fausse mes donnée, faut que je normalise marche ? "
   ]
  },
  {
   "cell_type": "code",
   "execution_count": 95,
   "metadata": {
    "scrolled": false
   },
   "outputs": [
    {
     "data": {
      "image/png": "[encoded data removed]",
      "text/plain": [
       "plot without title"
      ]
     },
     "metadata": {},
     "output_type": "display_data"
    }
   ],
   "source": [
    "ggplot(beleza_saude_Category,aes(y=price,x=product_photos_qty))+geom_point()+geom_smooth(method=\"lm\")"
   ]
  }
 ],
 "metadata": {
  "kernelspec": {
   "display_name": "R",
   "language": "R",
   "name": "ir"
  },
  "language_info": {
   "codemirror_mode": "r",
   "file_extension": ".r",
   "mimetype": "text/x-r-source",
   "name": "R",
   "pygments_lexer": "r",
   "version": "3.6.1"
  }
 },
 "nbformat": 4,
 "nbformat_minor": 2
}
