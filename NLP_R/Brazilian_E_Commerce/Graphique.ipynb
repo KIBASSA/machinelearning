{
 "cells": [
  {
   "cell_type": "code",
   "execution_count": null,
   "metadata": {
    "collapsed": true
   },
   "outputs": [],
   "source": [
    "install.packages(\"gridExtra\")\n",
    "install.packages(\"lattice\")\n",
    "install.packages(\"caret\")\n",
    "install.packages(\"kableExtra\")"
   ]
  },
  {
   "cell_type": "code",
   "execution_count": 1,
   "metadata": {
    "collapsed": true
   },
   "outputs": [
    {
     "name": "stderr",
     "output_type": "stream",
     "text": [
      "\n",
      "Attaching package: 'dplyr'\n",
      "\n",
      "The following objects are masked from 'package:stats':\n",
      "\n",
      "    filter, lag\n",
      "\n",
      "The following objects are masked from 'package:base':\n",
      "\n",
      "    intersect, setdiff, setequal, union\n",
      "\n",
      "Registered S3 methods overwritten by 'ggplot2':\n",
      "  method         from \n",
      "  [.quosures     rlang\n",
      "  c.quosures     rlang\n",
      "  print.quosures rlang\n",
      "\n",
      "Attaching package: 'lubridate'\n",
      "\n",
      "The following object is masked from 'package:base':\n",
      "\n",
      "    date\n",
      "\n",
      "\n",
      "Attaching package: 'gridExtra'\n",
      "\n",
      "The following object is masked from 'package:dplyr':\n",
      "\n",
      "    combine\n",
      "\n",
      "Registered S3 method overwritten by 'rvest':\n",
      "  method            from\n",
      "  read_xml.response xml2\n",
      "\n",
      "Attaching package: 'kableExtra'\n",
      "\n",
      "The following object is masked from 'package:dplyr':\n",
      "\n",
      "    group_rows\n",
      "\n",
      "\n",
      "Attaching package: 'data.table'\n",
      "\n",
      "The following objects are masked from 'package:reshape2':\n",
      "\n",
      "    dcast, melt\n",
      "\n",
      "The following objects are masked from 'package:lubridate':\n",
      "\n",
      "    hour, isoweek, mday, minute, month, quarter, second, wday, week,\n",
      "    yday, year\n",
      "\n",
      "The following objects are masked from 'package:dplyr':\n",
      "\n",
      "    between, first, last\n",
      "\n"
     ]
    }
   ],
   "source": [
    "library(dplyr)\n",
    "library(ggplot2)\n",
    "library(lubridate)\n",
    "library(knitr)\n",
    "library(gridExtra)\n",
    "library(lattice)\n",
    "library(caret)\n",
    "library(kableExtra)\n",
    "library(reshape2)\n",
    "#library(dict)\n",
    "library(data.table)"
   ]
  },
  {
   "cell_type": "code",
   "execution_count": 2,
   "metadata": {},
   "outputs": [],
   "source": [
    "Customers <- read.csv((\"data/olist_customers_dataset.csv\"), header = TRUE)\n",
    "Geolocation <- read.csv(\"data/olist_geolocation_dataset.csv\", header = TRUE)\n",
    "Items <- read.csv((\"data/olist_order_items_dataset.csv\"), header = TRUE)\n",
    "Payments <- read.csv(\"data/olist_order_payments_dataset.csv\", header = TRUE)\n",
    "Reviews <- read.csv(\"data/olist_order_reviews_dataset.csv\", header = TRUE)\n",
    "Orders <- read.csv(\"data/olist_orders_dataset.csv\", header = TRUE)\n",
    "Products <- read.csv(\"data/olist_products_dataset.csv\", header = TRUE)\n",
    "Sellers <- read.csv(\"data/olist_sellers_dataset.csv\", header = TRUE)\n",
    "Pdttrans <- read.csv(\"data/product_category_name_translation.csv\", header = TRUE)"
   ]
  },
  {
   "cell_type": "markdown",
   "metadata": {},
   "source": [
    "### Les catégories des produits les plus référencés "
   ]
  },
  {
   "cell_type": "code",
   "execution_count": 6,
   "metadata": {},
   "outputs": [
    {
     "data": {
      "image/png": "[encoded data removed]",
      "text/plain": [
       "plot without title"
      ]
     },
     "metadata": {},
     "output_type": "display_data"
    }
   ],
   "source": [
    " Products_cats <- Products %>%\n",
    "      filter(!is.na(product_category_name)) %>%\n",
    "      group_by(product_category_name) %>%\n",
    "      filter(row_number() > 600)\n",
    "      # 18 fait référence au 18 histo\n",
    "Products_cats %>% ggplot(aes(x = product_category_name)) + geom_bar(fill = rainbow(n=18)) + theme(axis.text.x = element_text(angle = 90))"
   ]
  },
  {
   "cell_type": "code",
   "execution_count": 8,
   "metadata": {},
   "outputs": [
    {
     "data": {
      "text/html": [
       "<ol class=list-inline>\n",
       "\t<li>'product_id'</li>\n",
       "\t<li>'product_category_name'</li>\n",
       "\t<li>'product_name_lenght'</li>\n",
       "\t<li>'product_description_lenght'</li>\n",
       "\t<li>'product_photos_qty'</li>\n",
       "\t<li>'product_weight_g'</li>\n",
       "\t<li>'product_length_cm'</li>\n",
       "\t<li>'product_height_cm'</li>\n",
       "\t<li>'product_width_cm'</li>\n",
       "</ol>\n"
      ],
      "text/latex": [
       "\\begin{enumerate*}\n",
       "\\item 'product\\_id'\n",
       "\\item 'product\\_category\\_name'\n",
       "\\item 'product\\_name\\_lenght'\n",
       "\\item 'product\\_description\\_lenght'\n",
       "\\item 'product\\_photos\\_qty'\n",
       "\\item 'product\\_weight\\_g'\n",
       "\\item 'product\\_length\\_cm'\n",
       "\\item 'product\\_height\\_cm'\n",
       "\\item 'product\\_width\\_cm'\n",
       "\\end{enumerate*}\n"
      ],
      "text/markdown": [
       "1. 'product_id'\n",
       "2. 'product_category_name'\n",
       "3. 'product_name_lenght'\n",
       "4. 'product_description_lenght'\n",
       "5. 'product_photos_qty'\n",
       "6. 'product_weight_g'\n",
       "7. 'product_length_cm'\n",
       "8. 'product_height_cm'\n",
       "9. 'product_width_cm'\n",
       "\n",
       "\n"
      ],
      "text/plain": [
       "[1] \"product_id\"                 \"product_category_name\"     \n",
       "[3] \"product_name_lenght\"        \"product_description_lenght\"\n",
       "[5] \"product_photos_qty\"         \"product_weight_g\"          \n",
       "[7] \"product_length_cm\"          \"product_height_cm\"         \n",
       "[9] \"product_width_cm\"          "
      ]
     },
     "metadata": {},
     "output_type": "display_data"
    }
   ],
   "source": [
    "colnames(Products_cats)"
   ]
  },
  {
   "cell_type": "code",
   "execution_count": 36,
   "metadata": {},
   "outputs": [],
   "source": [
    "OrdersItems <-merge(Items,Orders,by.x=\"order_id\",by.y=\"order_id\")\n",
    "OrdersItemsCustorder<-merge(OrdersItems,Customers,by.x=\"customer_id\",by.y=\"customer_id\")\n",
    "OrdersItemsCustorderProduct <-merge(OrdersItemsCustorder,Products,by.x=\"product_id\",by.y=\"product_id\")\n",
    "OrdersItemsCustorderProductReviews <-merge(OrdersItemsCustorderProduct,Reviews,by.x=\"order_id\",by.y=\"order_id\")"
   ]
  },
  {
   "cell_type": "markdown",
   "metadata": {},
   "source": [
    "### Les utilisateurs qui achètent A catégorie achètent aussi B,C,D catégories"
   ]
  },
  {
   "cell_type": "markdown",
   "metadata": {},
   "source": [
    "Définition de la fonction qui permet de trouver les catégories communes entre utilisateurs"
   ]
  },
  {
   "cell_type": "code",
   "execution_count": 145,
   "metadata": {},
   "outputs": [],
   "source": [
    "get_common_cats <- function(category_name, except_cats) {\n",
    "    OrItCustPrdctCat_i <- OrdersItemsCustorderProduct %>% \n",
    "                                 filter(product_category_name == category_name)\n",
    "                                 \n",
    "    OrItCustPrdctCat_custids_i <- OrItCustPrdctCat_i$customer_unique_id\n",
    "    custids_commons <- vector()\n",
    "    custids_common_selected <- vector()\n",
    "    category_selected <- \"\"\n",
    "    custids <- vector()\n",
    "    for (j in 1:length(categories))\n",
    "        {\n",
    "          if (category_name != toString(categories[j]) && !(toString(categories[j]) %in% except_cats))\n",
    "              {\n",
    "                   OrItCustPrdctCat_j <- OrdersItemsCustorderProduct %>% \n",
    "                                 filter(product_category_name == toString(categories[j]))\n",
    "              \n",
    "                   OrItCustPrdctCat_custids_j <- OrItCustPrdctCat_j$customer_unique_id\n",
    "                   \n",
    "                   custids_common = intersect(OrItCustPrdctCat_custids_i,OrItCustPrdctCat_custids_j)\n",
    "                   if (length(custids_common_selected) < length(custids_common))\n",
    "                       {\n",
    "                        custids_common_selected <- custids_common\n",
    "                        category_selected <- toString(categories[j])\n",
    "                        custids <- OrItCustPrdctCat_custids_j\n",
    "                       }\n",
    "              }\n",
    "        }\n",
    "    return(list(category_selected,custids_common_selected,OrItCustPrdctCat_custids_i))\n",
    "}"
   ]
  },
  {
   "cell_type": "code",
   "execution_count": 146,
   "metadata": {},
   "outputs": [
    {
     "data": {
      "text/html": [
       "<ol class=list-inline>\n",
       "\t<li>cama_mesa_banho</li>\n",
       "\t<li>esporte_lazer</li>\n",
       "\t<li>moveis_decoracao</li>\n",
       "\t<li>beleza_saude</li>\n",
       "\t<li>utilidades_domesticas</li>\n",
       "\t<li>automotivo</li>\n",
       "\t<li>informatica_acessorios</li>\n",
       "\t<li>brinquedos</li>\n",
       "\t<li>relogios_presentes</li>\n",
       "\t<li>telefonia</li>\n",
       "\t<li>bebes</li>\n",
       "\t<li>papelaria</li>\n",
       "\t<li>perfumaria</li>\n",
       "\t<li>fashion_bolsas_e_acessorios</li>\n",
       "\t<li>cool_stuff</li>\n",
       "\t<li>ferramentas_jardim</li>\n",
       "\t<li>pet_shop</li>\n",
       "\t<li></li>\n",
       "</ol>\n",
       "\n",
       "<details>\n",
       "\t<summary style=display:list-item;cursor:pointer>\n",
       "\t\t<strong>Levels</strong>:\n",
       "\t</summary>\n",
       "\t<ol class=list-inline>\n",
       "\t\t<li>''</li>\n",
       "\t\t<li>'agro_industria_e_comercio'</li>\n",
       "\t\t<li>'alimentos'</li>\n",
       "\t\t<li>'alimentos_bebidas'</li>\n",
       "\t\t<li>'artes'</li>\n",
       "\t\t<li>'artes_e_artesanato'</li>\n",
       "\t\t<li>'artigos_de_festas'</li>\n",
       "\t\t<li>'artigos_de_natal'</li>\n",
       "\t\t<li>'audio'</li>\n",
       "\t\t<li>'automotivo'</li>\n",
       "\t\t<li>'bebes'</li>\n",
       "\t\t<li>'bebidas'</li>\n",
       "\t\t<li>'beleza_saude'</li>\n",
       "\t\t<li>'brinquedos'</li>\n",
       "\t\t<li>'cama_mesa_banho'</li>\n",
       "\t\t<li>'casa_conforto'</li>\n",
       "\t\t<li>'casa_conforto_2'</li>\n",
       "\t\t<li>'casa_construcao'</li>\n",
       "\t\t<li>'cds_dvds_musicais'</li>\n",
       "\t\t<li>'cine_foto'</li>\n",
       "\t\t<li>'climatizacao'</li>\n",
       "\t\t<li>'consoles_games'</li>\n",
       "\t\t<li>'construcao_ferramentas_construcao'</li>\n",
       "\t\t<li>'construcao_ferramentas_ferramentas'</li>\n",
       "\t\t<li>'construcao_ferramentas_iluminacao'</li>\n",
       "\t\t<li>'construcao_ferramentas_jardim'</li>\n",
       "\t\t<li>'construcao_ferramentas_seguranca'</li>\n",
       "\t\t<li>'cool_stuff'</li>\n",
       "\t\t<li>'dvds_blu_ray'</li>\n",
       "\t\t<li>'eletrodomesticos'</li>\n",
       "\t\t<li>'eletrodomesticos_2'</li>\n",
       "\t\t<li>'eletronicos'</li>\n",
       "\t\t<li>'eletroportateis'</li>\n",
       "\t\t<li>'esporte_lazer'</li>\n",
       "\t\t<li>'fashion_bolsas_e_acessorios'</li>\n",
       "\t\t<li>'fashion_calcados'</li>\n",
       "\t\t<li>'fashion_esporte'</li>\n",
       "\t\t<li>'fashion_roupa_feminina'</li>\n",
       "\t\t<li>'fashion_roupa_infanto_juvenil'</li>\n",
       "\t\t<li>'fashion_roupa_masculina'</li>\n",
       "\t\t<li>'fashion_underwear_e_moda_praia'</li>\n",
       "\t\t<li>'ferramentas_jardim'</li>\n",
       "\t\t<li>'flores'</li>\n",
       "\t\t<li>'fraldas_higiene'</li>\n",
       "\t\t<li>'industria_comercio_e_negocios'</li>\n",
       "\t\t<li>'informatica_acessorios'</li>\n",
       "\t\t<li>'instrumentos_musicais'</li>\n",
       "\t\t<li>'la_cuisine'</li>\n",
       "\t\t<li>'livros_importados'</li>\n",
       "\t\t<li>'livros_interesse_geral'</li>\n",
       "\t\t<li>'livros_tecnicos'</li>\n",
       "\t\t<li>'malas_acessorios'</li>\n",
       "\t\t<li>'market_place'</li>\n",
       "\t\t<li>'moveis_colchao_e_estofado'</li>\n",
       "\t\t<li>'moveis_cozinha_area_de_servico_jantar_e_jardim'</li>\n",
       "\t\t<li>'moveis_decoracao'</li>\n",
       "\t\t<li>'moveis_escritorio'</li>\n",
       "\t\t<li>'moveis_quarto'</li>\n",
       "\t\t<li>'moveis_sala'</li>\n",
       "\t\t<li>'musica'</li>\n",
       "\t\t<li>'papelaria'</li>\n",
       "\t\t<li>'pc_gamer'</li>\n",
       "\t\t<li>'pcs'</li>\n",
       "\t\t<li>'perfumaria'</li>\n",
       "\t\t<li>'pet_shop'</li>\n",
       "\t\t<li>'portateis_casa_forno_e_cafe'</li>\n",
       "\t\t<li>'portateis_cozinha_e_preparadores_de_alimentos'</li>\n",
       "\t\t<li>'relogios_presentes'</li>\n",
       "\t\t<li>'seguros_e_servicos'</li>\n",
       "\t\t<li>'sinalizacao_e_seguranca'</li>\n",
       "\t\t<li>'tablets_impressao_imagem'</li>\n",
       "\t\t<li>'telefonia'</li>\n",
       "\t\t<li>'telefonia_fixa'</li>\n",
       "\t\t<li>'utilidades_domesticas'</li>\n",
       "\t</ol>\n",
       "</details>"
      ],
      "text/latex": [
       "\\begin{enumerate*}\n",
       "\\item cama\\_mesa\\_banho\n",
       "\\item esporte\\_lazer\n",
       "\\item moveis\\_decoracao\n",
       "\\item beleza\\_saude\n",
       "\\item utilidades\\_domesticas\n",
       "\\item automotivo\n",
       "\\item informatica\\_acessorios\n",
       "\\item brinquedos\n",
       "\\item relogios\\_presentes\n",
       "\\item telefonia\n",
       "\\item bebes\n",
       "\\item papelaria\n",
       "\\item perfumaria\n",
       "\\item fashion\\_bolsas\\_e\\_acessorios\n",
       "\\item cool\\_stuff\n",
       "\\item ferramentas\\_jardim\n",
       "\\item pet\\_shop\n",
       "\\item \n",
       "\\end{enumerate*}\n",
       "\n",
       "\\emph{Levels}: \\begin{enumerate*}\n",
       "\\item ''\n",
       "\\item 'agro\\_industria\\_e\\_comercio'\n",
       "\\item 'alimentos'\n",
       "\\item 'alimentos\\_bebidas'\n",
       "\\item 'artes'\n",
       "\\item 'artes\\_e\\_artesanato'\n",
       "\\item 'artigos\\_de\\_festas'\n",
       "\\item 'artigos\\_de\\_natal'\n",
       "\\item 'audio'\n",
       "\\item 'automotivo'\n",
       "\\item 'bebes'\n",
       "\\item 'bebidas'\n",
       "\\item 'beleza\\_saude'\n",
       "\\item 'brinquedos'\n",
       "\\item 'cama\\_mesa\\_banho'\n",
       "\\item 'casa\\_conforto'\n",
       "\\item 'casa\\_conforto\\_2'\n",
       "\\item 'casa\\_construcao'\n",
       "\\item 'cds\\_dvds\\_musicais'\n",
       "\\item 'cine\\_foto'\n",
       "\\item 'climatizacao'\n",
       "\\item 'consoles\\_games'\n",
       "\\item 'construcao\\_ferramentas\\_construcao'\n",
       "\\item 'construcao\\_ferramentas\\_ferramentas'\n",
       "\\item 'construcao\\_ferramentas\\_iluminacao'\n",
       "\\item 'construcao\\_ferramentas\\_jardim'\n",
       "\\item 'construcao\\_ferramentas\\_seguranca'\n",
       "\\item 'cool\\_stuff'\n",
       "\\item 'dvds\\_blu\\_ray'\n",
       "\\item 'eletrodomesticos'\n",
       "\\item 'eletrodomesticos\\_2'\n",
       "\\item 'eletronicos'\n",
       "\\item 'eletroportateis'\n",
       "\\item 'esporte\\_lazer'\n",
       "\\item 'fashion\\_bolsas\\_e\\_acessorios'\n",
       "\\item 'fashion\\_calcados'\n",
       "\\item 'fashion\\_esporte'\n",
       "\\item 'fashion\\_roupa\\_feminina'\n",
       "\\item 'fashion\\_roupa\\_infanto\\_juvenil'\n",
       "\\item 'fashion\\_roupa\\_masculina'\n",
       "\\item 'fashion\\_underwear\\_e\\_moda\\_praia'\n",
       "\\item 'ferramentas\\_jardim'\n",
       "\\item 'flores'\n",
       "\\item 'fraldas\\_higiene'\n",
       "\\item 'industria\\_comercio\\_e\\_negocios'\n",
       "\\item 'informatica\\_acessorios'\n",
       "\\item 'instrumentos\\_musicais'\n",
       "\\item 'la\\_cuisine'\n",
       "\\item 'livros\\_importados'\n",
       "\\item 'livros\\_interesse\\_geral'\n",
       "\\item 'livros\\_tecnicos'\n",
       "\\item 'malas\\_acessorios'\n",
       "\\item 'market\\_place'\n",
       "\\item 'moveis\\_colchao\\_e\\_estofado'\n",
       "\\item 'moveis\\_cozinha\\_area\\_de\\_servico\\_jantar\\_e\\_jardim'\n",
       "\\item 'moveis\\_decoracao'\n",
       "\\item 'moveis\\_escritorio'\n",
       "\\item 'moveis\\_quarto'\n",
       "\\item 'moveis\\_sala'\n",
       "\\item 'musica'\n",
       "\\item 'papelaria'\n",
       "\\item 'pc\\_gamer'\n",
       "\\item 'pcs'\n",
       "\\item 'perfumaria'\n",
       "\\item 'pet\\_shop'\n",
       "\\item 'portateis\\_casa\\_forno\\_e\\_cafe'\n",
       "\\item 'portateis\\_cozinha\\_e\\_preparadores\\_de\\_alimentos'\n",
       "\\item 'relogios\\_presentes'\n",
       "\\item 'seguros\\_e\\_servicos'\n",
       "\\item 'sinalizacao\\_e\\_seguranca'\n",
       "\\item 'tablets\\_impressao\\_imagem'\n",
       "\\item 'telefonia'\n",
       "\\item 'telefonia\\_fixa'\n",
       "\\item 'utilidades\\_domesticas'\n",
       "\\end{enumerate*}\n"
      ],
      "text/markdown": [
       "1. cama_mesa_banho\n",
       "2. esporte_lazer\n",
       "3. moveis_decoracao\n",
       "4. beleza_saude\n",
       "5. utilidades_domesticas\n",
       "6. automotivo\n",
       "7. informatica_acessorios\n",
       "8. brinquedos\n",
       "9. relogios_presentes\n",
       "10. telefonia\n",
       "11. bebes\n",
       "12. papelaria\n",
       "13. perfumaria\n",
       "14. fashion_bolsas_e_acessorios\n",
       "15. cool_stuff\n",
       "16. ferramentas_jardim\n",
       "17. pet_shop\n",
       "18. \n",
       "\n",
       "\n",
       "\n",
       "**Levels**: 1. ''\n",
       "2. 'agro_industria_e_comercio'\n",
       "3. 'alimentos'\n",
       "4. 'alimentos_bebidas'\n",
       "5. 'artes'\n",
       "6. 'artes_e_artesanato'\n",
       "7. 'artigos_de_festas'\n",
       "8. 'artigos_de_natal'\n",
       "9. 'audio'\n",
       "10. 'automotivo'\n",
       "11. 'bebes'\n",
       "12. 'bebidas'\n",
       "13. 'beleza_saude'\n",
       "14. 'brinquedos'\n",
       "15. 'cama_mesa_banho'\n",
       "16. 'casa_conforto'\n",
       "17. 'casa_conforto_2'\n",
       "18. 'casa_construcao'\n",
       "19. 'cds_dvds_musicais'\n",
       "20. 'cine_foto'\n",
       "21. 'climatizacao'\n",
       "22. 'consoles_games'\n",
       "23. 'construcao_ferramentas_construcao'\n",
       "24. 'construcao_ferramentas_ferramentas'\n",
       "25. 'construcao_ferramentas_iluminacao'\n",
       "26. 'construcao_ferramentas_jardim'\n",
       "27. 'construcao_ferramentas_seguranca'\n",
       "28. 'cool_stuff'\n",
       "29. 'dvds_blu_ray'\n",
       "30. 'eletrodomesticos'\n",
       "31. 'eletrodomesticos_2'\n",
       "32. 'eletronicos'\n",
       "33. 'eletroportateis'\n",
       "34. 'esporte_lazer'\n",
       "35. 'fashion_bolsas_e_acessorios'\n",
       "36. 'fashion_calcados'\n",
       "37. 'fashion_esporte'\n",
       "38. 'fashion_roupa_feminina'\n",
       "39. 'fashion_roupa_infanto_juvenil'\n",
       "40. 'fashion_roupa_masculina'\n",
       "41. 'fashion_underwear_e_moda_praia'\n",
       "42. 'ferramentas_jardim'\n",
       "43. 'flores'\n",
       "44. 'fraldas_higiene'\n",
       "45. 'industria_comercio_e_negocios'\n",
       "46. 'informatica_acessorios'\n",
       "47. 'instrumentos_musicais'\n",
       "48. 'la_cuisine'\n",
       "49. 'livros_importados'\n",
       "50. 'livros_interesse_geral'\n",
       "51. 'livros_tecnicos'\n",
       "52. 'malas_acessorios'\n",
       "53. 'market_place'\n",
       "54. 'moveis_colchao_e_estofado'\n",
       "55. 'moveis_cozinha_area_de_servico_jantar_e_jardim'\n",
       "56. 'moveis_decoracao'\n",
       "57. 'moveis_escritorio'\n",
       "58. 'moveis_quarto'\n",
       "59. 'moveis_sala'\n",
       "60. 'musica'\n",
       "61. 'papelaria'\n",
       "62. 'pc_gamer'\n",
       "63. 'pcs'\n",
       "64. 'perfumaria'\n",
       "65. 'pet_shop'\n",
       "66. 'portateis_casa_forno_e_cafe'\n",
       "67. 'portateis_cozinha_e_preparadores_de_alimentos'\n",
       "68. 'relogios_presentes'\n",
       "69. 'seguros_e_servicos'\n",
       "70. 'sinalizacao_e_seguranca'\n",
       "71. 'tablets_impressao_imagem'\n",
       "72. 'telefonia'\n",
       "73. 'telefonia_fixa'\n",
       "74. 'utilidades_domesticas'\n",
       "\n",
       "\n"
      ],
      "text/plain": [
       " [1] cama_mesa_banho             esporte_lazer              \n",
       " [3] moveis_decoracao            beleza_saude               \n",
       " [5] utilidades_domesticas       automotivo                 \n",
       " [7] informatica_acessorios      brinquedos                 \n",
       " [9] relogios_presentes          telefonia                  \n",
       "[11] bebes                       papelaria                  \n",
       "[13] perfumaria                  fashion_bolsas_e_acessorios\n",
       "[15] cool_stuff                  ferramentas_jardim         \n",
       "[17] pet_shop                                               \n",
       "74 Levels:  agro_industria_e_comercio alimentos alimentos_bebidas ... utilidades_domesticas"
      ]
     },
     "metadata": {},
     "output_type": "display_data"
    }
   ],
   "source": [
    "unique(Products_cats$product_category_name)"
   ]
  },
  {
   "cell_type": "markdown",
   "metadata": {},
   "source": [
    " Les utilisateurs qui achètent **cama_mesa_banho** achètent aussi souvent  **moveis_decoracao**, **utilidades_domesticas**,**bebes**"
   ]
  },
  {
   "cell_type": "code",
   "execution_count": 147,
   "metadata": {},
   "outputs": [],
   "source": [
    "cama_mesa_banho_1 <- get_common_cats(\"cama_mesa_banho\",list(\"cama_mesa_banho\"))\n",
    "cama_mesa_banho_2 <- get_common_cats(\"cama_mesa_banho\",list(\"moveis_decoracao\"))\n",
    "cama_mesa_banho_3 <- get_common_cats(\"cama_mesa_banho\",list(\"moveis_decoracao\",\"utilidades_domesticas\"))"
   ]
  },
  {
   "cell_type": "code",
   "execution_count": 153,
   "metadata": {},
   "outputs": [],
   "source": [
    "total <- lengths(cama_mesa_banho_1[2]) + lengths(cama_mesa_banho_2[2]) + lengths(cama_mesa_banho_3[2])\n",
    "moveis_decoracao_ <- (lengths(cama_mesa_banho_1[2])*100)/total #60 %\n",
    "utilidades_domesticas_ <- (lengths(cama_mesa_banho_2[2])*100)/total #25.76923\n",
    "bebes_ <- (lengths(cama_mesa_banho_3[2])*100)/total #14.23077"
   ]
  },
  {
   "cell_type": "code",
   "execution_count": 152,
   "metadata": {},
   "outputs": [
    {
     "data": {
      "image/png": "[encoded data removed]",
      "text/plain": [
       "plot without title"
      ]
     },
     "metadata": {},
     "output_type": "display_data"
    }
   ],
   "source": [
    "categories_gg <- c(\"moveis_decoracao\", \"moveis_decoracao\",  \"moveis_decoracao\", \"moveis_decoracao\", \"moveis_decoracao\", \"moveis_decoracao\", \"utilidades_domesticas\", \"utilidades_domesticas\", \"utilidades_domesticas\", \"bebes\")\n",
    "ggplot(data.frame(categories_gg), aes(x=categories_gg)) + geom_bar(fill = rainbow(n=3))"
   ]
  },
  {
   "cell_type": "markdown",
   "metadata": {},
   "source": [
    " Les utilisateurs qui achètent **cool_stuff** achètent aussi souvent  **bebes**, **cama_mesa_banho**,**moveis_decoracao**"
   ]
  },
  {
   "cell_type": "code",
   "execution_count": 155,
   "metadata": {},
   "outputs": [
    {
     "name": "stdout",
     "output_type": "stream",
     "text": [
      "[[1]]\n",
      "[1] \"moveis_decoracao\"\n",
      "\n"
     ]
    }
   ],
   "source": [
    "cool_stuff_1 <- get_common_cats(\"cool_stuff\",list(\"cool_stuff\"))\n",
    "cool_stuff_2 <- get_common_cats(\"cool_stuff\",list(\"bebes\"))\n",
    "cool_stuff_3 <- get_common_cats(\"cool_stuff\",list(\"cama_mesa_banho\",\"bebes\"))\n",
    "print(cool_stuff_3[1])"
   ]
  },
  {
   "cell_type": "code",
   "execution_count": 157,
   "metadata": {},
   "outputs": [
    {
     "name": "stdout",
     "output_type": "stream",
     "text": [
      "[1] 45.58824\n",
      "[1] 33.82353\n",
      "[1] 20.58824\n"
     ]
    }
   ],
   "source": [
    "total_2 <- lengths(cool_stuff_1[2]) + lengths(cool_stuff_2[2]) + lengths(cool_stuff_3[2])\n",
    "#cool_stuff_ <- (lengths(cool_stuff_1[3])*100)/total_2 #45.58824\n",
    "bebes_1 <- (lengths(cool_stuff_1[2])*100)/total_2 #45.58824 %\n",
    "print(bebes_1)\n",
    "cama_mesa_banho_1 <- (lengths(cool_stuff_2[2])*100)/total_2 #33.82353\n",
    "print(cama_mesa_banho_1)\n",
    "moveis_decoracao_1 <- (lengths(cool_stuff_3[2])*100)/total_2 #20.58824\n",
    "print(moveis_decoracao_1)"
   ]
  },
  {
   "cell_type": "code",
   "execution_count": 159,
   "metadata": {},
   "outputs": [
    {
     "data": {
      "image/png": "[encoded data removed]",
      "text/plain": [
       "plot without title"
      ]
     },
     "metadata": {},
     "output_type": "display_data"
    }
   ],
   "source": [
    "categories_gg <- c(\"bebes\", \"bebes\",  \"bebes\", \"bebes\", \"bebes\", \"bebes\", \"cama_mesa_banho\", \"cama_mesa_banho\", \"cama_mesa_banho\", \"cama_mesa_banho\",\"moveis_decoracao\",\"moveis_decoracao\")\n",
    "ggplot(data.frame(categories_gg), aes(x=categories_gg)) + geom_bar(fill = rainbow(n=3))"
   ]
  },
  {
   "cell_type": "code",
   "execution_count": 50,
   "metadata": {},
   "outputs": [
    {
     "data": {
      "text/html": [
       "<ol class=list-inline>\n",
       "\t<li>'product_id'</li>\n",
       "\t<li>'customer_id'</li>\n",
       "\t<li>'order_id'</li>\n",
       "\t<li>'order_item_id'</li>\n",
       "\t<li>'seller_id'</li>\n",
       "\t<li>'shipping_limit_date'</li>\n",
       "\t<li>'price'</li>\n",
       "\t<li>'freight_value'</li>\n",
       "\t<li>'order_status'</li>\n",
       "\t<li>'order_purchase_timestamp'</li>\n",
       "\t<li>'order_approved_at'</li>\n",
       "\t<li>'order_delivered_carrier_date'</li>\n",
       "\t<li>'order_delivered_customer_date'</li>\n",
       "\t<li>'order_estimated_delivery_date'</li>\n",
       "\t<li>'customer_unique_id'</li>\n",
       "\t<li>'customer_zip_code_prefix'</li>\n",
       "\t<li>'customer_city'</li>\n",
       "\t<li>'customer_state'</li>\n",
       "\t<li>'product_category_name'</li>\n",
       "\t<li>'product_name_lenght'</li>\n",
       "\t<li>'product_description_lenght'</li>\n",
       "\t<li>'product_photos_qty'</li>\n",
       "\t<li>'product_weight_g'</li>\n",
       "\t<li>'product_length_cm'</li>\n",
       "\t<li>'product_height_cm'</li>\n",
       "\t<li>'product_width_cm'</li>\n",
       "</ol>\n"
      ],
      "text/latex": [
       "\\begin{enumerate*}\n",
       "\\item 'product\\_id'\n",
       "\\item 'customer\\_id'\n",
       "\\item 'order\\_id'\n",
       "\\item 'order\\_item\\_id'\n",
       "\\item 'seller\\_id'\n",
       "\\item 'shipping\\_limit\\_date'\n",
       "\\item 'price'\n",
       "\\item 'freight\\_value'\n",
       "\\item 'order\\_status'\n",
       "\\item 'order\\_purchase\\_timestamp'\n",
       "\\item 'order\\_approved\\_at'\n",
       "\\item 'order\\_delivered\\_carrier\\_date'\n",
       "\\item 'order\\_delivered\\_customer\\_date'\n",
       "\\item 'order\\_estimated\\_delivery\\_date'\n",
       "\\item 'customer\\_unique\\_id'\n",
       "\\item 'customer\\_zip\\_code\\_prefix'\n",
       "\\item 'customer\\_city'\n",
       "\\item 'customer\\_state'\n",
       "\\item 'product\\_category\\_name'\n",
       "\\item 'product\\_name\\_lenght'\n",
       "\\item 'product\\_description\\_lenght'\n",
       "\\item 'product\\_photos\\_qty'\n",
       "\\item 'product\\_weight\\_g'\n",
       "\\item 'product\\_length\\_cm'\n",
       "\\item 'product\\_height\\_cm'\n",
       "\\item 'product\\_width\\_cm'\n",
       "\\end{enumerate*}\n"
      ],
      "text/markdown": [
       "1. 'product_id'\n",
       "2. 'customer_id'\n",
       "3. 'order_id'\n",
       "4. 'order_item_id'\n",
       "5. 'seller_id'\n",
       "6. 'shipping_limit_date'\n",
       "7. 'price'\n",
       "8. 'freight_value'\n",
       "9. 'order_status'\n",
       "10. 'order_purchase_timestamp'\n",
       "11. 'order_approved_at'\n",
       "12. 'order_delivered_carrier_date'\n",
       "13. 'order_delivered_customer_date'\n",
       "14. 'order_estimated_delivery_date'\n",
       "15. 'customer_unique_id'\n",
       "16. 'customer_zip_code_prefix'\n",
       "17. 'customer_city'\n",
       "18. 'customer_state'\n",
       "19. 'product_category_name'\n",
       "20. 'product_name_lenght'\n",
       "21. 'product_description_lenght'\n",
       "22. 'product_photos_qty'\n",
       "23. 'product_weight_g'\n",
       "24. 'product_length_cm'\n",
       "25. 'product_height_cm'\n",
       "26. 'product_width_cm'\n",
       "\n",
       "\n"
      ],
      "text/plain": [
       " [1] \"product_id\"                    \"customer_id\"                  \n",
       " [3] \"order_id\"                      \"order_item_id\"                \n",
       " [5] \"seller_id\"                     \"shipping_limit_date\"          \n",
       " [7] \"price\"                         \"freight_value\"                \n",
       " [9] \"order_status\"                  \"order_purchase_timestamp\"     \n",
       "[11] \"order_approved_at\"             \"order_delivered_carrier_date\" \n",
       "[13] \"order_delivered_customer_date\" \"order_estimated_delivery_date\"\n",
       "[15] \"customer_unique_id\"            \"customer_zip_code_prefix\"     \n",
       "[17] \"customer_city\"                 \"customer_state\"               \n",
       "[19] \"product_category_name\"         \"product_name_lenght\"          \n",
       "[21] \"product_description_lenght\"    \"product_photos_qty\"           \n",
       "[23] \"product_weight_g\"              \"product_length_cm\"            \n",
       "[25] \"product_height_cm\"             \"product_width_cm\"             "
      ]
     },
     "metadata": {},
     "output_type": "display_data"
    }
   ],
   "source": [
    "colnames(OrdersItemsCustorderProduct)"
   ]
  },
  {
   "cell_type": "markdown",
   "metadata": {},
   "source": [
    "### "
   ]
  }
 ],
 "metadata": {
  "kernelspec": {
   "display_name": "R",
   "language": "R",
   "name": "ir"
  },
  "language_info": {
   "codemirror_mode": "r",
   "file_extension": ".r",
   "mimetype": "text/x-r-source",
   "name": "R",
   "pygments_lexer": "r",
   "version": "3.6.1"
  }
 },
 "nbformat": 4,
 "nbformat_minor": 2
}
