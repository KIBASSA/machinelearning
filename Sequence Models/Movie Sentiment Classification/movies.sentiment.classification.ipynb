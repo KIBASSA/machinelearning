{
 "cells": [
  {
   "cell_type": "code",
   "execution_count": 164,
   "metadata": {},
   "outputs": [],
   "source": [
    "import pandas as pd\n",
    "import numpy as np\n",
    "import matplotlib.pyplot as plt\n",
    "\n",
    "from keras.preprocessing.text import Tokenizer\n",
    "from keras.preprocessing.sequence import pad_sequences\n",
    "from keras.models import Sequential\n",
    "from keras.layers import Embedding, SpatialDropout1D,LSTM,Dense\n",
    "from sklearn.model_selection import train_test_split\n",
    "from keras.utils import to_categorical"
   ]
  },
  {
   "cell_type": "code",
   "execution_count": 165,
   "metadata": {},
   "outputs": [
    {
     "name": "stderr",
     "output_type": "stream",
     "text": [
      "/opt/conda/lib/python3.6/site-packages/ipykernel_launcher.py:2: ParserWarning: Falling back to the 'python' engine because the 'c' engine does not support regex separators (separators > 1 char and different from '\\s+' are interpreted as regex); you can avoid this warning by specifying engine='python'.\n",
      "  \n"
     ]
    }
   ],
   "source": [
    "#thousands allows to convert number with ',' to float\n",
    "data = pd.read_csv(\"data/critics.notes.csv\",sep=';;;; ') "
   ]
  },
  {
   "cell_type": "code",
   "execution_count": 166,
   "metadata": {},
   "outputs": [
    {
     "data": {
      "text/plain": [
       "0       film plutôt décevant! le rôle confié à Vincent...\n",
       "14      Totalement inutile......c’est la seule femme q...\n",
       "23      Huis clos au scénario anorexique. Sound of my ...\n",
       "58      Je suis déçue, je m'attendais à mieux : le scé...\n",
       "63      Adaptation du roman de Kerouac horriblement lo...\n",
       "89      Un film sympa pour perdre sont temps, un film ...\n",
       "142     Pour moi un film malsain ...beaucoup trop de s...\n",
       "159     onirique.... aritistique... initiatique... fan...\n",
       "165     mise a pars les effets speciaux spectaculurair...\n",
       "166     'est un grand navet mais je lui met une étoile...\n",
       "175     Une étoile pour le merveilleux jeu de Géraldin...\n",
       "217     Grande déception !! Moi qui était une fan des ...\n",
       "253     Bon scénario mais réalisation indigne. Florent...\n",
       "273     Enième redite sur un thème déjà mille fois tra...\n",
       "293     Ce Film est juste regardable, c'est au niveau ...\n",
       "294                              Scenario bidon,a eviter!\n",
       "323     je suis assez déçue par le film. je m attendai...\n",
       "334     Je dois être une des seule.. mais ce film ne m...\n",
       "337     Mal joué, brouillon...donc, pas crédible!!Ce n...\n",
       "418     Quelle déception... Pourtant, la première part...\n",
       "429     merci apple, dell, samsungun block buster a re...\n",
       "434     Bonjour à tous,Je ne comprends vraiment pas ce...\n",
       "449                           d'une cretinerie... inouïe!\n",
       "452     C'est fou!!! voir qu'il y a eu des litres de s...\n",
       "478     Que dire de ce film ? C’est un film certes reg...\n",
       "483     Ce nouvel opus n'arrive pas à la cheville du p...\n",
       "487     Die Hard s'arrêtera pour moi au 4ème épisode. ...\n",
       "515     Grande déception. Le premier opus est génial e...\n",
       "529     ah là là ce Gérard Krawczyk !! l'idée était sy...\n",
       "534     Encore un film dont le meilleur est dans la ba...\n",
       "                              ...                        \n",
       "6132    Lorsque j'ai vu la bande annonce, je me suis d...\n",
       "6163    L'énigme était plutôt prométeuse, mais franche...\n",
       "6181    Le pire c'est de lire des critiques positives ...\n",
       "6268    franchement boff j'avais adoré le 1 mais là......\n",
       "6293                                      Bizarre bizarre\n",
       "6303    On tombe dans le ridicule ! Scénario tiré par ...\n",
       "6323    Nous avons été voir ce film sans avoir lu le l...\n",
       "6329    Un film qui ne sert absolument à rien, sauf à ...\n",
       "6344    Ce film est absolument nul, sans intérêt et su...\n",
       "6358    CE FILME EST TRES TRES TRES ENNUYANT!toute ma ...\n",
       "6360    Ce film est tout simplement mauvais, le scénar...\n",
       "6366    Je m'attendait pas a un films exceptionnel mai...\n",
       "6369    Un gros navet ! Pourquoi les américains, avec ...\n",
       "6384    La franchise Wolverine n'est décidément pas un...\n",
       "6391    Aucune sensation de peur j'ai payer pour rien ...\n",
       "6392    J'ai pas accroché du tout. Pas vraiment de scè...\n",
       "6411    Je suis, de manière générale, plutôt bon publi...\n",
       "6414    Une impression très mitigée à la sortie de sal...\n",
       "6428    Je n'ai pas du tout aimé le film, au bout d'3/...\n",
       "6442    Casting alléchant; début prometteur mais ce fi...\n",
       "6443    Après avoir lu les critiques, j'ai décidé malg...\n",
       "6444    Pathétique. On baisse en qualité a chaque opus...\n",
       "6447                                Moins bien que le 1er\n",
       "6451    Ce film est d'une grande lourdeur. Aucun dialo...\n",
       "6455    N'ayant pas vu les épisodes 3 à 6, pourquoi vo...\n",
       "6497    Vous vous attendez à voir du scream? vous ne s...\n",
       "6511    Il n'y a rien dans ce film, absolument rien!St...\n",
       "6519    ce film est un ramassis de cliché.soit disant ...\n",
       "6520    S’il n’avait pas été signé Ridley Scott, ce fi...\n",
       "6523    J'aurais peut-être évité les soupirs à répétit...\n",
       "Name: Comment, Length: 424, dtype: object"
      ]
     },
     "execution_count": 166,
     "metadata": {},
     "output_type": "execute_result"
    }
   ],
   "source": [
    "data.loc[data[\"Note\"] == 1][\"Comment\"]"
   ]
  },
  {
   "cell_type": "code",
   "execution_count": 168,
   "metadata": {},
   "outputs": [],
   "source": [
    "data[\"Comment\"] = data[\"Comment\"].apply(lambda x: x.lower())"
   ]
  },
  {
   "cell_type": "code",
   "execution_count": 169,
   "metadata": {},
   "outputs": [],
   "source": [
    "max_fatures = 10000\n",
    "tokenizer = Tokenizer(num_words=max_fatures, split = ' ')\n",
    "tokenizer.fit_on_texts(data[\"Comment\"].values)\n",
    "X = tokenizer.texts_to_sequences(data['Comment'].values)\n",
    "X = pad_sequences(X)"
   ]
  },
  {
   "cell_type": "markdown",
   "metadata": {},
   "source": [
    "### LSTM Model"
   ]
  },
  {
   "cell_type": "code",
   "execution_count": 170,
   "metadata": {},
   "outputs": [
    {
     "name": "stdout",
     "output_type": "stream",
     "text": [
      "_________________________________________________________________\n",
      "Layer (type)                 Output Shape              Param #   \n",
      "=================================================================\n",
      "embedding_8 (Embedding)      (None, 1736, 128)         1280000   \n",
      "_________________________________________________________________\n",
      "spatial_dropout1d_8 (Spatial (None, 1736, 128)         0         \n",
      "_________________________________________________________________\n",
      "lstm_8 (LSTM)                (None, 196)               254800    \n",
      "_________________________________________________________________\n",
      "dense_8 (Dense)              (None, 10)                1970      \n",
      "=================================================================\n",
      "Total params: 1,536,770\n",
      "Trainable params: 1,536,770\n",
      "Non-trainable params: 0\n",
      "_________________________________________________________________\n"
     ]
    }
   ],
   "source": [
    "embed_dim = 128\n",
    "lstm_out = 196\n",
    "num_classes = len(data['Note'].unique())\n",
    "\n",
    "model = Sequential()\n",
    "model.add(Embedding(max_fatures, embed_dim,input_length = X.shape[1]))\n",
    "model.add(SpatialDropout1D(0.4))\n",
    "model.add(LSTM(lstm_out, dropout=0.2, recurrent_dropout=0.2))\n",
    "model.add(Dense(num_classes,activation='softmax'))\n",
    "model.compile(loss = 'categorical_crossentropy', optimizer='adam',metrics = ['accuracy'])\n",
    "model.summary()"
   ]
  },
  {
   "cell_type": "code",
   "execution_count": 171,
   "metadata": {},
   "outputs": [],
   "source": [
    "data['Note'] = pd.to_numeric(data[\"Note\"])"
   ]
  },
  {
   "cell_type": "code",
   "execution_count": 172,
   "metadata": {},
   "outputs": [],
   "source": [
    "Y = pd.get_dummies(data['Note']).values\n",
    "X_train, X_test, Y_train, Y_test = train_test_split(X,Y, test_size = 0.33, random_state = 42)\n",
    "#y_train_cat = to_categorical(Y_train, num_classes)\n",
    "#y_test_cat = to_categorical(Y_test, num_classes)"
   ]
  },
  {
   "cell_type": "code",
   "execution_count": 173,
   "metadata": {},
   "outputs": [],
   "source": [
    "#print(y_train_cat)"
   ]
  },
  {
   "cell_type": "code",
   "execution_count": 174,
   "metadata": {},
   "outputs": [
    {
     "name": "stdout",
     "output_type": "stream",
     "text": [
      "Epoch 1/20\n",
      " - 2057s - loss: 1.7522 - acc: 0.4632\n",
      "Epoch 2/20\n",
      " - 1985s - loss: 1.5672 - acc: 0.4803\n",
      "Epoch 3/20\n",
      " - 1990s - loss: 1.3249 - acc: 0.5473\n",
      "Epoch 4/20\n",
      " - 1984s - loss: 1.0957 - acc: 0.6216\n",
      "Epoch 5/20\n",
      " - 1982s - loss: 0.8703 - acc: 0.7145\n",
      "Epoch 6/20\n",
      " - 1984s - loss: 0.6762 - acc: 0.7738\n",
      "Epoch 7/20\n",
      " - 1982s - loss: 0.5428 - acc: 0.8264\n",
      "Epoch 8/20\n",
      " - 1983s - loss: 0.4315 - acc: 0.8592\n",
      "Epoch 9/20\n",
      " - 1982s - loss: 0.3385 - acc: 0.8922\n",
      "Epoch 10/20\n",
      " - 1979s - loss: 0.2714 - acc: 0.9111\n",
      "Epoch 11/20\n",
      " - 1981s - loss: 0.2139 - acc: 0.9289\n",
      "Epoch 12/20\n",
      " - 1980s - loss: 0.1758 - acc: 0.9465\n",
      "Epoch 13/20\n",
      " - 1983s - loss: 0.1463 - acc: 0.9494\n",
      "Epoch 14/20\n",
      " - 1984s - loss: 0.1207 - acc: 0.9608\n",
      "Epoch 15/20\n",
      " - 1989s - loss: 0.1065 - acc: 0.9670\n",
      "Epoch 16/20\n",
      " - 1978s - loss: 0.0966 - acc: 0.9699\n",
      "Epoch 17/20\n",
      " - 1979s - loss: 0.0844 - acc: 0.9720\n",
      "Epoch 18/20\n",
      " - 1983s - loss: 0.0706 - acc: 0.9788\n",
      "Epoch 19/20\n",
      " - 1986s - loss: 0.0591 - acc: 0.9811\n",
      "Epoch 20/20\n",
      " - 1989s - loss: 0.0626 - acc: 0.9827\n"
     ]
    },
    {
     "data": {
      "text/plain": [
       "<keras.callbacks.History at 0x7f4b54544128>"
      ]
     },
     "execution_count": 174,
     "metadata": {},
     "output_type": "execute_result"
    }
   ],
   "source": [
    "batch_size = 8\n",
    "model.fit(X_train, Y_train, epochs = 20, batch_size=batch_size, verbose = 2)\n",
    "#model.fit(X_train, y_train_cat, epochs = 2, batch_size=batch_size, verbose = 2)"
   ]
  },
  {
   "cell_type": "markdown",
   "metadata": {},
   "source": [
    "Extracting a validation set, and measuring score and accuracy."
   ]
  },
  {
   "cell_type": "code",
   "execution_count": 175,
   "metadata": {},
   "outputs": [
    {
     "name": "stdout",
     "output_type": "stream",
     "text": [
      "score: 4.39\n",
      "acc: 0.37\n"
     ]
    }
   ],
   "source": [
    "validation_size = 100\n",
    "\n",
    "#X_validate = X_test[-validation_size:]\n",
    "#Y_validate = Y_test[-validation_size:]\n",
    "#X_test = X_test[:-validation_size]\n",
    "#Y_test = Y_test[:-validation_size]\n",
    "score,acc = model.evaluate(X_test, Y_test, verbose = 2, batch_size = batch_size)\n",
    "#score,acc = model.evaluate(X_test, y_test_cat, verbose = 2, batch_size = batch_size)\n",
    "print(\"score: %.2f\" % (score))\n",
    "print(\"acc: %.2f\" % (acc))"
   ]
  },
  {
   "cell_type": "code",
   "execution_count": 132,
   "metadata": {},
   "outputs": [
    {
     "data": {
      "text/plain": [
       "array([[0, 0, 0, ..., 0, 0, 1],\n",
       "       [0, 0, 0, ..., 0, 0, 1],\n",
       "       [0, 0, 0, ..., 1, 0, 0],\n",
       "       ..., \n",
       "       [0, 0, 0, ..., 0, 0, 1],\n",
       "       [0, 0, 1, ..., 0, 0, 0],\n",
       "       [0, 0, 0, ..., 0, 0, 1]], dtype=uint8)"
      ]
     },
     "execution_count": 132,
     "metadata": {},
     "output_type": "execute_result"
    }
   ],
   "source": [
    "Y"
   ]
  },
  {
   "cell_type": "code",
   "execution_count": 179,
   "metadata": {},
   "outputs": [
    {
     "name": "stdout",
     "output_type": "stream",
     "text": [
      "[ 1.   4.5  2.   5.   4.   3.   2.5  3.5  1.5  0.5]\n",
      "3.0\n"
     ]
    }
   ],
   "source": [
    "#twt = [\"Un chef d'oeuvre concluant magnifiquement l'épopée entamée en 2008 avec Iron Man. Le film de l'année sans difficulté. Frissons, émotions et scènes de combats épiques : on trouve vraiment tout ce qu'on attendait de ce film et plus encore.\"]\n",
    "#twt = [\"Enfin la boucle est bouclé, ce film est une excellente conclusion à 11 ans de Marvel Cinematic Universe, il alterne entre humour et moments d’émotions. La bataille finale est épique. On aurait presque envie de lâcher une larmichette à certains moments. Sûrement le meilleur Avengers des 4 films.\"]\n",
    "#twt = [\"Il y a du bon, du très bon, mais aussi du mauvais. Dans le bon, l'humour, le scénario (en particulier la seconde heure). Dans le mauvais la première heure assez longue et lente et surtout les incohérences classiques de chez Marvel, à savoir le super fort qui prend une déculottée ou le super faible qui écrase tout sur son passage... Mais dans la globalité l'histoire se laisse bien regarder, on rit assez souvent et les effets spéciaux sont réussis.\"]\n",
    "#twt = [\"Franchement j'ai failli ne pas aller voir ce film car la durée de 3 heures, c'est beaucoup trop long pour moi. Au bout des deux heures j'en avais déjà bien marre. Bon alors oui c'est un nouvel Avengers avec toute la clique. Je ne suis pas très fan mais j'ai quand même tenu à le voir. Il y a des passages supers et d'autres franchement pénibles. Le souci c'est comme je ne suis pas friande de ce genre de films, forcément je ne peux pas mettre la note maximale.\"]\n",
    "#twt = [\"Et bien moi je me suis un peu ennuyer et pour faire court il y a trop de retournement de cerveaux et je pense qu'ils ce sont fait bouffés par leurs scénarios Thor et hulk sont devenu figurant et pas de Come back prévu il fallait faire plus simple comme infinity war qui celui là était le meilleur de tous. Comme star War il y a beaucoup de potentiel gâché. Bien à vous\"]\n",
    "#twt = [\"Trop long et scenario pas credible et frustrant de pouvoir revenir en arriere et dans le temps , ce qui annule tout interet au precedent episode. Dommage , car pour le reste ce n'etait pas trop mal avec une touche d'humour bienvenue.\"]\n",
    "#twt = [\"Déception pour le dernier film des frères Cohen. Llewyn Davis, musicien de son état, tente de vivre de la musique, sans rencontrer le succès escompté. Nous suivons ses pérégrinations dans le New-York des années 60. Sauf que le rythme du film est lent, et ce qui arrive à notre héros, ou plutôt anti-héros, n'est pas intéressant. Je me suis quelque peu ennuyé durant ce film. Cependant, la bande-son est magnifique et les airs folks chantés par Oscar Isaac sont superbement interprétés, pleins d'émotions. L'image est aussi d'une beauté rare, avec un espèce de voile blanc qui donne un esthétisme indéniable au film. Mais pour moi, cela n'occulte pas les longueurs du film ainsi que son scénario n'ayant que peu d'intérêt\"]\n",
    "twt = [\"Film très très décevant. On s'attend à un REC dans la lignée des précédents et ça n'a rien à avoir. On se retrouve avec un film gore, violent sans tension. On ne ressent pas la peur ou l'oppression du premier. Ca n'a rien à voir en fait. Ca aurait pu être un bon film s'il ne s'appelait pas RECMais là, ce comico burlesque gore tombe un peu à plat. La mariée qui se transforme en super héroine sans coeur en quelques minutes ,c'est assez gros quand même.Dans le genre Shaun of the Dead est quand même bien meilleur\"]\n",
    "\n",
    "#vectorizing the tweet by the pre-fitted tokenizer instance\n",
    "twt = tokenizer.texts_to_sequences(twt)\n",
    "#padding the tweet to have exactly the same shape as `embedding_2` input\n",
    "twt = pad_sequences(twt, maxlen=X.shape[1], dtype='int32', value=0)\n",
    "sentiment = model.predict(twt,batch_size=1,verbose = 2)[0]\n",
    "#print(sorted(data['Note'].unique()))\n",
    "print(data['Note'].unique())\n",
    "predicted_label = sorted(data['Note'].unique())[sentiment.argmax(axis=-1)]\n",
    "#predicted_label = data['Note'].unique()[sentiment.argmax(axis=-1)]\n",
    "print(predicted_label)"
   ]
  },
  {
   "cell_type": "code",
   "execution_count": 154,
   "metadata": {},
   "outputs": [
    {
     "data": {
      "text/plain": [
       "array([ 5. ,  4. ,  1. ,  2. ,  1.5,  4.5,  2.5,  3. ,  3.5,  0.5])"
      ]
     },
     "execution_count": 154,
     "metadata": {},
     "output_type": "execute_result"
    }
   ],
   "source": [
    "data['Note'].unique()"
   ]
  },
  {
   "cell_type": "code",
   "execution_count": null,
   "metadata": {},
   "outputs": [],
   "source": []
  }
 ],
 "metadata": {
  "kernelspec": {
   "display_name": "Python 3",
   "language": "python",
   "name": "python3"
  },
  "language_info": {
   "codemirror_mode": {
    "name": "ipython",
    "version": 3
   },
   "file_extension": ".py",
   "mimetype": "text/x-python",
   "name": "python",
   "nbconvert_exporter": "python",
   "pygments_lexer": "ipython3",
   "version": "3.6.7"
  }
 },
 "nbformat": 4,
 "nbformat_minor": 2
}
