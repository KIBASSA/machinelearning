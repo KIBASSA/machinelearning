{
 "cells": [
  {
   "cell_type": "markdown",
   "metadata": {},
   "source": [
    "## Scary NLP with SpaCy and Keras"
   ]
  },
  {
   "cell_type": "markdown",
   "metadata": {},
   "source": [
    "This kernel is meant to demonstrate building an NLP model using spaCy and keras. I hope this is useful and let me know what you think. :)\n",
    "\n",
    "In this Kaggle competition the objective is to build a machine learning model that predicts the author of a given piece of text. The possible authors are Edgar Allan Poe (EAP), HP Lovecraft (HPL), and Mary Wollstonecraft Shelley (MWS)."
   ]
  },
  {
   "cell_type": "code",
   "execution_count": 9,
   "metadata": {
    "scrolled": true
   },
   "outputs": [
    {
     "name": "stderr",
     "output_type": "stream",
     "text": [
      "[nltk_data] Downloading package stopwords to /home/jovyan/nltk_data...\n"
     ]
    },
    {
     "name": "stdout",
     "output_type": "stream",
     "text": [
      "Numpy version: 1.16.3\n",
      "Pandas version: 0.23.4\n",
      "Seaborn version: 0.9.0\n"
     ]
    },
    {
     "name": "stderr",
     "output_type": "stream",
     "text": [
      "[nltk_data]   Unzipping corpora/stopwords.zip.\n"
     ]
    }
   ],
   "source": [
    "import numpy as np # linear algebra\n",
    "import pandas as pd # data processing, CSV file I/O (e.g. pd.read_csv)\n",
    "import seaborn as sns\n",
    "import matplotlib.pyplot as plt\n",
    "from wordcloud import WordCloud\n",
    "from IPython.display import display\n",
    "import base64\n",
    "import string\n",
    "import re\n",
    "from collections import Counter\n",
    "from time import time\n",
    "# from sklearn.feature_extraction.stop_words import ENGLISH_STOP_WORDS as stopwords\n",
    "import nltk\n",
    "from nltk.corpus import stopwords\n",
    "from sklearn.metrics import log_loss\n",
    "\n",
    "nltk.download('stopwords')\n",
    "stopwords = stopwords.words('english')\n",
    "sns.set_context('notebook')\n",
    "print('Numpy version:', np.__version__)\n",
    "print('Pandas version:', pd.__version__)\n",
    "print('Seaborn version:', sns.__version__)"
   ]
  },
  {
   "cell_type": "code",
   "execution_count": 12,
   "metadata": {},
   "outputs": [],
   "source": [
    "# Load training and testing text\n",
    "train = pd.read_csv('data/train.csv', skiprows=1, names=['ID', 'Text', 'Author']).set_index('ID')\n",
    "test = pd.read_csv('data/test.csv', skiprows=1, names=['ID', 'Text']).set_index('ID')\n",
    "\n",
    "# Delete the word 'id' from the ID columns\n",
    "train.index = [id[2:] for id in train.index]\n",
    "test.index = [id[2:] for id in test.index]\n",
    "# Sort the indices\n",
    "# train.sort_index(inplace=True)\n",
    "# test.sort_index(inplace=True)"
   ]
  },
  {
   "cell_type": "code",
   "execution_count": 13,
   "metadata": {},
   "outputs": [
    {
     "data": {
      "text/html": [
       "<div>\n",
       "<style scoped>\n",
       "    .dataframe tbody tr th:only-of-type {\n",
       "        vertical-align: middle;\n",
       "    }\n",
       "\n",
       "    .dataframe tbody tr th {\n",
       "        vertical-align: top;\n",
       "    }\n",
       "\n",
       "    .dataframe thead th {\n",
       "        text-align: right;\n",
       "    }\n",
       "</style>\n",
       "<table border=\"1\" class=\"dataframe\">\n",
       "  <thead>\n",
       "    <tr style=\"text-align: right;\">\n",
       "      <th></th>\n",
       "      <th>Text</th>\n",
       "      <th>Author</th>\n",
       "    </tr>\n",
       "  </thead>\n",
       "  <tbody>\n",
       "    <tr>\n",
       "      <th>26305</th>\n",
       "      <td>This process, however, afforded me no means of...</td>\n",
       "      <td>EAP</td>\n",
       "    </tr>\n",
       "    <tr>\n",
       "      <th>17569</th>\n",
       "      <td>It never once occurred to me that the fumbling...</td>\n",
       "      <td>HPL</td>\n",
       "    </tr>\n",
       "    <tr>\n",
       "      <th>11008</th>\n",
       "      <td>In his left hand was a gold snuff box, from wh...</td>\n",
       "      <td>EAP</td>\n",
       "    </tr>\n",
       "    <tr>\n",
       "      <th>27763</th>\n",
       "      <td>How lovely is spring As we looked from Windsor...</td>\n",
       "      <td>MWS</td>\n",
       "    </tr>\n",
       "    <tr>\n",
       "      <th>12958</th>\n",
       "      <td>Finding nothing else, not even gold, the Super...</td>\n",
       "      <td>HPL</td>\n",
       "    </tr>\n",
       "  </tbody>\n",
       "</table>\n",
       "</div>"
      ],
      "text/plain": [
       "                                                    Text Author\n",
       "26305  This process, however, afforded me no means of...    EAP\n",
       "17569  It never once occurred to me that the fumbling...    HPL\n",
       "11008  In his left hand was a gold snuff box, from wh...    EAP\n",
       "27763  How lovely is spring As we looked from Windsor...    MWS\n",
       "12958  Finding nothing else, not even gold, the Super...    HPL"
      ]
     },
     "metadata": {},
     "output_type": "display_data"
    },
    {
     "data": {
      "text/html": [
       "<div>\n",
       "<style scoped>\n",
       "    .dataframe tbody tr th:only-of-type {\n",
       "        vertical-align: middle;\n",
       "    }\n",
       "\n",
       "    .dataframe tbody tr th {\n",
       "        vertical-align: top;\n",
       "    }\n",
       "\n",
       "    .dataframe thead th {\n",
       "        text-align: right;\n",
       "    }\n",
       "</style>\n",
       "<table border=\"1\" class=\"dataframe\">\n",
       "  <thead>\n",
       "    <tr style=\"text-align: right;\">\n",
       "      <th></th>\n",
       "      <th>Text</th>\n",
       "    </tr>\n",
       "  </thead>\n",
       "  <tbody>\n",
       "    <tr>\n",
       "      <th>02310</th>\n",
       "      <td>Still, as I urged our leaving Ireland with suc...</td>\n",
       "    </tr>\n",
       "    <tr>\n",
       "      <th>24541</th>\n",
       "      <td>If a fire wanted fanning, it could readily be ...</td>\n",
       "    </tr>\n",
       "    <tr>\n",
       "      <th>00134</th>\n",
       "      <td>And when they had broken down the frail door t...</td>\n",
       "    </tr>\n",
       "    <tr>\n",
       "      <th>27757</th>\n",
       "      <td>While I was thinking how I should possibly man...</td>\n",
       "    </tr>\n",
       "    <tr>\n",
       "      <th>04081</th>\n",
       "      <td>I am not sure to what limit his knowledge may ...</td>\n",
       "    </tr>\n",
       "  </tbody>\n",
       "</table>\n",
       "</div>"
      ],
      "text/plain": [
       "                                                    Text\n",
       "02310  Still, as I urged our leaving Ireland with suc...\n",
       "24541  If a fire wanted fanning, it could readily be ...\n",
       "00134  And when they had broken down the frail door t...\n",
       "27757  While I was thinking how I should possibly man...\n",
       "04081  I am not sure to what limit his knowledge may ..."
      ]
     },
     "metadata": {},
     "output_type": "display_data"
    },
    {
     "name": "stdout",
     "output_type": "stream",
     "text": [
      "Training sample: This process, however, afforded me no means of ascertaining the dimensions of my dungeon; as I might make its circuit, and return to the point whence I set out, without being aware of the fact; so perfectly uniform seemed the wall.\n",
      "Author of sample: EAP\n",
      "Training Data Shape: (19579, 2)\n",
      "Testing Data Shape: (8392, 1)\n"
     ]
    }
   ],
   "source": [
    "# Display first 5 training samples\n",
    "display(train.head())\n",
    "# Display first 5 testing samples\n",
    "display(test.head())\n",
    "\n",
    "print('Training sample:', train['Text'][0])\n",
    "print('Author of sample:', train['Author'][0])\n",
    "print('Training Data Shape:', train.shape)\n",
    "print('Testing Data Shape:', test.shape)"
   ]
  },
  {
   "cell_type": "code",
   "execution_count": 14,
   "metadata": {},
   "outputs": [
    {
     "name": "stdout",
     "output_type": "stream",
     "text": [
      "Training Dataset Info:\n",
      "<class 'pandas.core.frame.DataFrame'>\n",
      "Index: 19579 entries, 26305 to 00393\n",
      "Data columns (total 2 columns):\n",
      "Text      19579 non-null object\n",
      "Author    19579 non-null object\n",
      "dtypes: object(2)\n",
      "memory usage: 1.1+ MB\n"
     ]
    },
    {
     "data": {
      "text/plain": [
       "None"
      ]
     },
     "metadata": {},
     "output_type": "display_data"
    },
    {
     "name": "stdout",
     "output_type": "stream",
     "text": [
      "Testing Dataset Info:\n",
      "<class 'pandas.core.frame.DataFrame'>\n",
      "Index: 8392 entries, 02310 to 04282\n",
      "Data columns (total 1 columns):\n",
      "Text    8392 non-null object\n",
      "dtypes: object(1)\n",
      "memory usage: 131.1+ KB\n"
     ]
    },
    {
     "data": {
      "text/plain": [
       "None"
      ]
     },
     "metadata": {},
     "output_type": "display_data"
    }
   ],
   "source": [
    "# Print some statistics about the training data\n",
    "print('Training Dataset Info:')\n",
    "display(train.info())\n",
    "\n",
    "print('Testing Dataset Info:')\n",
    "display(test.info())"
   ]
  },
  {
   "cell_type": "code",
   "execution_count": 15,
   "metadata": {},
   "outputs": [
    {
     "data": {
      "image/png": "[encoded data removed]",
      "text/plain": [
       "<Figure size 432x288 with 1 Axes>"
      ]
     },
     "metadata": {
      "needs_background": "light"
     },
     "output_type": "display_data"
    }
   ],
   "source": [
    "# Barplot of occurances of each author in the training dataset\n",
    "sns.barplot(x=['Edgar Allen Poe', 'Mary Wollstonecraft Shelley', 'H.P. Lovecraft'], y=train['Author'].value_counts())\n",
    "plt.show()"
   ]
  },
  {
   "cell_type": "markdown",
   "metadata": {},
   "source": [
    "Edgar Allen Poe is the most frequently occuring author in the training dataset with 7900 occurances. Then it's Mary Wollstonecraft Shelley followed by H.P. Lovecraft with 6044 and 5635 occurances respectively. While there are more occurances of EAP than HPL and MWS there is still a good amount of data labeled with HPL and MWS so the small data imbalance shouldn't impact learning too much."
   ]
  },
  {
   "cell_type": "markdown",
   "metadata": {},
   "source": [
    "### Create Spooky Wordcloud"
   ]
  },
  {
   "cell_type": "markdown",
   "metadata": {},
   "source": [
    "Font Credit: http://www.fontspace.com/david-shetterly/double-feature\n",
    "\n",
    "To get the spooky font I encoded the font file in another python script using base64 library into an ASCII string format. The code for this is in the first hidden cell below. Then we can copy the encoded string into this notebook and decoded it into a newly created font file. This is in the next two hidden code cells."
   ]
  },
  {
   "cell_type": "code",
   "execution_count": 16,
   "metadata": {},
   "outputs": [
    {
     "name": "stdout",
     "output_type": "stream",
     "text": [
      "Number of words in all_text: 2937973\n"
     ]
    }
   ],
   "source": [
    "# Combine all training text into one large string\n",
    "all_text = ' '.join([text for text in train['Text']])\n",
    "print('Number of words in all_text:', len(all_text))"
   ]
  },
  {
   "cell_type": "code",
   "execution_count": null,
   "metadata": {},
   "outputs": [],
   "source": [
    "# Word cloud for entire training dataset\n",
    "# default width=400, height=200\n",
    "wordcloud = WordCloud(font_path='data/spooky_font.ttf', width=800, height=500,\n",
    "                      random_state=21, max_font_size=110).generate(all_text)\n",
    "plt.figure(figsize=(15, 12))\n",
    "plt.imshow(wordcloud, interpolation=\"bilinear\")\n",
    "plt.axis('off')\n",
    "plt.show()"
   ]
  },
  {
   "cell_type": "markdown",
   "metadata": {},
   "source": [
    "### Wordcloud for Edgar Allen Poe\n",
    "\n",
    "Now let's look at wordclouds for each individual author"
   ]
  },
  {
   "cell_type": "code",
   "execution_count": 19,
   "metadata": {},
   "outputs": [
    {
     "name": "stdout",
     "output_type": "stream",
     "text": [
      "Number of words in eap_text: 1131484\n"
     ]
    }
   ],
   "source": [
    "# Grab all text that is written by Edgar Allen Poe\n",
    "eap = train[train['Author'] == 'EAP']\n",
    "eap_text = ' '.join(text for text in eap['Text'])\n",
    "print('Number of words in eap_text:', len(eap_text))"
   ]
  },
  {
   "cell_type": "markdown",
   "metadata": {},
   "source": [
    "### Wordcloud for Mary Wollstonecraft Shelley"
   ]
  },
  {
   "cell_type": "code",
   "execution_count": 20,
   "metadata": {},
   "outputs": [
    {
     "name": "stdout",
     "output_type": "stream",
     "text": [
      "Number of words in eap_text: 922675\n"
     ]
    }
   ],
   "source": [
    "# Grab all text that is written by Mary Wollstonecraft Shelley\n",
    "mws = train[train['Author'] == 'MWS']\n",
    "mws_text = ' '.join(text for text in mws['Text'])\n",
    "print('Number of words in eap_text:', len(mws_text))"
   ]
  },
  {
   "cell_type": "markdown",
   "metadata": {},
   "source": [
    "### Wordcloud for H.P. Lovecraft"
   ]
  },
  {
   "cell_type": "code",
   "execution_count": 21,
   "metadata": {},
   "outputs": [
    {
     "name": "stdout",
     "output_type": "stream",
     "text": [
      "Number of words in eap_text: 883812\n"
     ]
    }
   ],
   "source": [
    "# Grab all text that is written by H.P. Lovecraft\n",
    "hpl = train[train['Author'] == 'HPL']\n",
    "hpl_text = ' '.join(text for text in hpl['Text'])\n",
    "print('Number of words in eap_text:', len(hpl_text))"
   ]
  },
  {
   "cell_type": "markdown",
   "metadata": {},
   "source": [
    "###  Text Preprocessing with spaCy"
   ]
  },
  {
   "cell_type": "markdown",
   "metadata": {},
   "source": [
    "I decided to use spaCy for this text preprocessing stage because it has built-in word vectors that can be easily accessed and fed into a neural network. SpaCy is an industrial-strength natural language processing python library (spacy.io). The built-in word vectors are 300-dimensional vectors trained on the Common Crawl corpus using the GloVe algorithm. Because there are a lot of text examples in the training set, I use spaCy's pipeline feature to process 500 samples at a time, grab their word vectors, and format them into numpy arrays.\n",
    "\n",
    "**Update (12/1/17)**: SpaCy was recently updated to version 2.0.3 where the vector attribute for \"en_core_web_sm\" is now 384 dimensions. \"en_core_web_sm\" is a smaller version of the English model and contains context word vectors. \"en_core_web_md\" contains 300-dimensional word vectors which are GloVe vectors trained on common crawl. This is more similar to how the word vectors we used in the older version of spaCy. The vector attribute is defined as: \"A real-valued meaning representation. Defaults to an average of the token vectors.\" from spaCy documentation.\n",
    "\n",
    "Currently Kaggle only has \"en_core_web_sm\" model available to load so we can only get the context vectors instead of the GloVe vectors."
   ]
  },
  {
   "cell_type": "code",
   "execution_count": 31,
   "metadata": {},
   "outputs": [],
   "source": [
    "import spacy\n",
    "from spacy.cli.download import download\n",
    "import en_core_web_sm\n",
    "\n",
    "nlp = en_core_web_sm.load()\n",
    "#doc = nlp(u\"This is a sentence.\")\n",
    "#download('en_core_web_sm')"
   ]
  },
  {
   "cell_type": "markdown",
   "metadata": {},
   "source": [
    "First we clean up the text by lemmatizing the words and removing personal pronouns (in spaCy the lemmatized string of personal pronouns is '-PRON-'), stopwords, and punctuations."
   ]
  },
  {
   "cell_type": "code",
   "execution_count": 32,
   "metadata": {},
   "outputs": [],
   "source": [
    "# Clean text before feeding it to spaCy\n",
    "punctuations = string.punctuation\n",
    "\n",
    "# Define function to cleanup text by removing personal pronouns, stopwords, and puncuation\n",
    "def cleanup_text(docs, logging=False):\n",
    "    texts = []\n",
    "    counter = 1\n",
    "    for doc in docs:\n",
    "        if counter % 1000 == 0 and logging:\n",
    "            print(\"Processed %d out of %d documents.\" % (counter, len(docs)))\n",
    "        counter += 1\n",
    "        doc = nlp(doc, disable=['parser', 'ner'])\n",
    "        tokens = [tok.lemma_.lower().strip() for tok in doc if tok.lemma_ != '-PRON-']\n",
    "        tokens = [tok for tok in tokens if tok not in stopwords and tok not in punctuations]\n",
    "        tokens = ' '.join(tokens)\n",
    "        texts.append(tokens)\n",
    "    return pd.Series(texts)"
   ]
  },
  {
   "cell_type": "markdown",
   "metadata": {},
   "source": [
    "### Plot most frequently occuring words for each author"
   ]
  },
  {
   "cell_type": "markdown",
   "metadata": {},
   "source": [
    "Grab all the words for each author and put them all in a list (eap_text, hpl_text, mws_text).\n",
    "Clean the text using cleanup_text funtion. It removes stopwords, punctuation, and makes all words lowercase.\n",
    "Remove 's from all text because spaCy doesn't remove this contraction when lemmatizing words for some reason.\n",
    "Count occurances of all words and plot 25 most common words for each author using seaborn (also use a spooky style)."
   ]
  },
  {
   "cell_type": "code",
   "execution_count": 33,
   "metadata": {},
   "outputs": [],
   "source": [
    "# Grab all text associated with Edgar Allen Poe\n",
    "eap_text = [text for text in train[train['Author'] == 'EAP']['Text']]\n",
    "\n",
    "# Grab all text associated with H.P. Lovecraft\n",
    "hpl_text = [text for text in train[train['Author'] == 'HPL']['Text']]\n",
    "\n",
    "# Grab all text associated with Mary Wollstonecraft Shelley\n",
    "mws_text = [text for text in train[train['Author'] == 'MWS']['Text']]\n",
    "\n",
    "# Clean up all text\n",
    "eap_clean = cleanup_text(eap_text)\n",
    "eap_clean = ' '.join(eap_clean).split()\n",
    "# 's appears a lot in the text, so we get rid of it since it's not a word\n",
    "eap_clean = [word for word in eap_clean if word != '\\'s']\n",
    "\n",
    "hpl_clean = cleanup_text(hpl_text)\n",
    "hpl_clean = ' '.join(hpl_clean).split()\n",
    "# 's appears a lot in the text, so we get rid of it since it's not a word\n",
    "hpl_clean = [word for word in hpl_clean if word != '\\'s']\n",
    "\n",
    "mws_clean = cleanup_text(mws_text)\n",
    "mws_clean = ' '.join(mws_clean).split()\n",
    "# 's appears a lot in the text, so we get rid of it since it's not a word\n",
    "mws_clean = [word for word in mws_clean if word != '\\'s']\n",
    "\n",
    "# Count all unique words\n",
    "eap_counts = Counter(eap_clean)\n",
    "hpl_counts = Counter(hpl_clean)\n",
    "mws_counts = Counter(mws_clean)"
   ]
  },
  {
   "cell_type": "code",
   "execution_count": 34,
   "metadata": {},
   "outputs": [
    {
     "data": {
      "image/png": "[encoded data removed]",
      "text/plain": [
       "<Figure size 1080x864 with 1 Axes>"
      ]
     },
     "metadata": {},
     "output_type": "display_data"
    }
   ],
   "source": [
    "# Plot top 25 most frequently occuring words for Edgar Allen Poe\n",
    "eap_common_words = [word[0] for word in eap_counts.most_common(25)]\n",
    "eap_common_counts = [word[1] for word in eap_counts.most_common(25)]\n",
    "\n",
    "# Use spooky background\n",
    "plt.style.use('dark_background')\n",
    "plt.figure(figsize=(15, 12))\n",
    "\n",
    "sns.barplot(x=eap_common_words, y=eap_common_counts)\n",
    "plt.title('Most Common Words used by Edgar Allen Poe')\n",
    "plt.show()"
   ]
  },
  {
   "cell_type": "code",
   "execution_count": 35,
   "metadata": {},
   "outputs": [
    {
     "data": {
      "image/png": "[encoded data removed]",
      "text/plain": [
       "<Figure size 1080x864 with 1 Axes>"
      ]
     },
     "metadata": {},
     "output_type": "display_data"
    }
   ],
   "source": [
    "# Plot top 25 most frequently occuring words for H.P. Lovecraft\n",
    "hpl_common_words = [word[0] for word in hpl_counts.most_common(25)]\n",
    "hpl_common_counts = [word[1] for word in hpl_counts.most_common(25)]\n",
    "\n",
    "plt.figure(figsize=(15, 12))\n",
    "sns.barplot(x=hpl_common_words, y=hpl_common_counts)\n",
    "plt.title('Most Common Words used by H.P. Lovecraft')\n",
    "plt.show()"
   ]
  },
  {
   "cell_type": "code",
   "execution_count": 36,
   "metadata": {},
   "outputs": [
    {
     "data": {
      "image/png": "[encoded data removed]",
      "text/plain": [
       "<Figure size 1080x864 with 1 Axes>"
      ]
     },
     "metadata": {},
     "output_type": "display_data"
    }
   ],
   "source": [
    "# Plot top 25 most frequently occuring words for Mary Wollstonecraft Shelley\n",
    "mws_common_words = [word[0] for word in mws_counts.most_common(25)]\n",
    "mws_common_counts = [word[1] for word in mws_counts.most_common(25)]\n",
    "\n",
    "plt.figure(figsize=(15, 12))\n",
    "sns.barplot(x=mws_common_words, y=mws_common_counts)\n",
    "plt.title('Most Common Words used by Mary Wollstonecraft Shelley')\n",
    "plt.show()"
   ]
  },
  {
   "cell_type": "code",
   "execution_count": 37,
   "metadata": {},
   "outputs": [
    {
     "name": "stdout",
     "output_type": "stream",
     "text": [
      "Original training data shape:  (19579,)\n",
      "Processed 1000 out of 19579 documents.\n",
      "Processed 2000 out of 19579 documents.\n",
      "Processed 3000 out of 19579 documents.\n",
      "Processed 4000 out of 19579 documents.\n",
      "Processed 5000 out of 19579 documents.\n",
      "Processed 6000 out of 19579 documents.\n",
      "Processed 7000 out of 19579 documents.\n",
      "Processed 8000 out of 19579 documents.\n",
      "Processed 9000 out of 19579 documents.\n",
      "Processed 10000 out of 19579 documents.\n",
      "Processed 11000 out of 19579 documents.\n",
      "Processed 12000 out of 19579 documents.\n",
      "Processed 13000 out of 19579 documents.\n",
      "Processed 14000 out of 19579 documents.\n",
      "Processed 15000 out of 19579 documents.\n",
      "Processed 16000 out of 19579 documents.\n",
      "Processed 17000 out of 19579 documents.\n",
      "Processed 18000 out of 19579 documents.\n",
      "Processed 19000 out of 19579 documents.\n",
      "Cleaned up training data shape:  (19579,)\n"
     ]
    }
   ],
   "source": [
    "# Cleanup text and make sure it retains original shape\n",
    "print('Original training data shape: ', train['Text'].shape)\n",
    "train_cleaned = cleanup_text(train['Text'], logging=True)\n",
    "print('Cleaned up training data shape: ', train_cleaned.shape)"
   ]
  },
  {
   "cell_type": "markdown",
   "metadata": {},
   "source": [
    "Something I noticed in this new version of spaCy is that with that smaller english models there are some instances where there are no word vectors available. After cleaning the text there are some instances where there are no vectors available. The text with the following indices have no vector meaning their attribute \"has_vector\" is false: 477, 1023, 3601, 8654, and 9163. It also messes with our final vector shape so to fix this if a text has no vector then we will fill it with zeros. This is a quick and dirty fix until Kaggle supports an enligh model that has the GloVe vectors (en_core_web_md, en_core_web_lg, en_vectors_web_lg)."
   ]
  },
  {
   "cell_type": "code",
   "execution_count": 38,
   "metadata": {},
   "outputs": [
    {
     "name": "stdout",
     "output_type": "stream",
     "text": [
      "Parsing documents...\n",
      "Total time passed parsing documents: 53.10315489768982 seconds\n",
      "Total number of documents parsed: 19579\n",
      "Number of words in first document:  231\n",
      "Number of words in second document:  71\n"
     ]
    },
    {
     "ename": "IndexError",
     "evalue": "tuple index out of range",
     "output_type": "error",
     "traceback": [
      "\u001b[0;31m---------------------------------------------------------------------------\u001b[0m",
      "\u001b[0;31mIndexError\u001b[0m                                Traceback (most recent call last)",
      "\u001b[0;32m<ipython-input-38-2bec478b33bf>\u001b[0m in \u001b[0;36m<module>\u001b[0;34m\u001b[0m\n\u001b[1;32m     20\u001b[0m \u001b[0mprint\u001b[0m\u001b[0;34m(\u001b[0m\u001b[0;34m'Number of words in first document: '\u001b[0m\u001b[0;34m,\u001b[0m \u001b[0mlen\u001b[0m\u001b[0;34m(\u001b[0m\u001b[0mtrain\u001b[0m\u001b[0;34m[\u001b[0m\u001b[0;34m'Text'\u001b[0m\u001b[0;34m]\u001b[0m\u001b[0;34m[\u001b[0m\u001b[0;36m0\u001b[0m\u001b[0;34m]\u001b[0m\u001b[0;34m)\u001b[0m\u001b[0;34m)\u001b[0m\u001b[0;34m\u001b[0m\u001b[0;34m\u001b[0m\u001b[0m\n\u001b[1;32m     21\u001b[0m \u001b[0mprint\u001b[0m\u001b[0;34m(\u001b[0m\u001b[0;34m'Number of words in second document: '\u001b[0m\u001b[0;34m,\u001b[0m \u001b[0mlen\u001b[0m\u001b[0;34m(\u001b[0m\u001b[0mtrain\u001b[0m\u001b[0;34m[\u001b[0m\u001b[0;34m'Text'\u001b[0m\u001b[0;34m]\u001b[0m\u001b[0;34m[\u001b[0m\u001b[0;36m1\u001b[0m\u001b[0;34m]\u001b[0m\u001b[0;34m)\u001b[0m\u001b[0;34m)\u001b[0m\u001b[0;34m\u001b[0m\u001b[0;34m\u001b[0m\u001b[0m\n\u001b[0;32m---> 22\u001b[0;31m \u001b[0mprint\u001b[0m\u001b[0;34m(\u001b[0m\u001b[0;34m'Size of vector embeddings: '\u001b[0m\u001b[0;34m,\u001b[0m \u001b[0mtrain_vec\u001b[0m\u001b[0;34m.\u001b[0m\u001b[0mshape\u001b[0m\u001b[0;34m[\u001b[0m\u001b[0;36m1\u001b[0m\u001b[0;34m]\u001b[0m\u001b[0;34m)\u001b[0m\u001b[0;34m\u001b[0m\u001b[0;34m\u001b[0m\u001b[0m\n\u001b[0m\u001b[1;32m     23\u001b[0m \u001b[0mprint\u001b[0m\u001b[0;34m(\u001b[0m\u001b[0;34m'Shape of vectors embeddings matrix: '\u001b[0m\u001b[0;34m,\u001b[0m \u001b[0mtrain_vec\u001b[0m\u001b[0;34m.\u001b[0m\u001b[0mshape\u001b[0m\u001b[0;34m)\u001b[0m\u001b[0;34m\u001b[0m\u001b[0;34m\u001b[0m\u001b[0m\n",
      "\u001b[0;31mIndexError\u001b[0m: tuple index out of range"
     ]
    }
   ],
   "source": [
    "# Parse documents and print some info\n",
    "print('Parsing documents...')\n",
    "\n",
    "start = time()\n",
    "\n",
    "train_vec = []\n",
    "for doc in nlp.pipe(train_cleaned, batch_size=500):\n",
    "    if doc.has_vector:\n",
    "        train_vec.append(doc.vector)\n",
    "    # If doc doesn't have a vector, then fill it with zeros.\n",
    "    else:\n",
    "        train_vec.append(np.zeros((128,), dtype=\"float32\"))\n",
    "        \n",
    "# train_vec = [doc.vector for doc in nlp.pipe(train_cleaned, batch_size=500)]\n",
    "train_vec = np.array(train_vec)\n",
    "\n",
    "end = time()\n",
    "print('Total time passed parsing documents: {} seconds'.format(end - start))\n",
    "print('Total number of documents parsed: {}'.format(len(train_vec)))\n",
    "print('Number of words in first document: ', len(train['Text'][0]))\n",
    "print('Number of words in second document: ', len(train['Text'][1]))\n",
    "print('Size of vector embeddings: ', train_vec.shape[1])\n",
    "print('Shape of vectors embeddings matrix: ', train_vec.shape)"
   ]
  },
  {
   "cell_type": "markdown",
   "metadata": {},
   "source": [
    "Now that we created train_vec we are ready to feed it into a deep learning model. You can skip down to the section titled \"One-Hot Encode Labels.\" The next section tries a different approach to creating word vectors by using Word2Vec."
   ]
  },
  {
   "cell_type": "markdown",
   "metadata": {},
   "source": [
    "### Alternate Approach using Word2Vec"
   ]
  },
  {
   "cell_type": "markdown",
   "metadata": {},
   "source": [
    "Instead of simply grabbing the word vectors using spacy, let's try training a word2vec model on all our text and creating custom word embeddings from that model. Word2Vec also benefits from having stopwords because they give context to the sentences. Therefore we will instead modify our above function \"cleanup_text\" and create a new function called \"cleanup_text_word2vec\" to not remove stopwords as well as include personal pronouns. Word2Vec expects a list of sentences where the sentences are lists of words so we will modify the function to do that as well."
   ]
  },
  {
   "cell_type": "code",
   "execution_count": 39,
   "metadata": {},
   "outputs": [
    {
     "name": "stdout",
     "output_type": "stream",
     "text": [
      "Number of total text documents: 27971\n"
     ]
    }
   ],
   "source": [
    "# First combine train and test text into one dataframe to make parsing text easier\n",
    "all_text = np.concatenate((train['Text'], test['Text']), axis=0)\n",
    "all_text = pd.DataFrame(all_text, columns=['Text'])\n",
    "print('Number of total text documents:', len(all_text))"
   ]
  },
  {
   "cell_type": "code",
   "execution_count": 40,
   "metadata": {},
   "outputs": [],
   "source": [
    "# Define function to preprocess text for a word2vec model\n",
    "def cleanup_text_word2vec(docs, logging=False):\n",
    "    sentences = []\n",
    "    counter = 1\n",
    "    for doc in docs:\n",
    "        if counter % 1000 == 0 and logging:\n",
    "            print(\"Processed %d out of %d documents\" % (counter, len(docs)))\n",
    "        # Disable tagger so that lemma_ of personal pronouns (I, me, etc) don't getted marked as \"-PRON-\"\n",
    "        doc = nlp(doc, disable=['tagger'])\n",
    "        # Grab lemmatized form of words and make lowercase\n",
    "        doc = \" \".join([tok.lemma_.lower() for tok in doc])\n",
    "        # Split into sentences based on punctuation\n",
    "        doc = re.split(\"[\\.?!;] \", doc)\n",
    "        # Remove commas, periods, and other punctuation (mostly commas)\n",
    "        doc = [re.sub(\"[\\.,;:!?]\", \"\", sent) for sent in doc]\n",
    "        # Split into words\n",
    "        doc = [sent.split() for sent in doc]\n",
    "        sentences += doc\n",
    "        counter += 1\n",
    "    return sentences"
   ]
  },
  {
   "cell_type": "code",
   "execution_count": 41,
   "metadata": {},
   "outputs": [
    {
     "name": "stdout",
     "output_type": "stream",
     "text": [
      "Processed 1000 out of 27971 documents\n",
      "Processed 2000 out of 27971 documents\n",
      "Processed 3000 out of 27971 documents\n",
      "Processed 4000 out of 27971 documents\n",
      "Processed 5000 out of 27971 documents\n",
      "Processed 6000 out of 27971 documents\n",
      "Processed 7000 out of 27971 documents\n",
      "Processed 8000 out of 27971 documents\n",
      "Processed 9000 out of 27971 documents\n",
      "Processed 10000 out of 27971 documents\n",
      "Processed 11000 out of 27971 documents\n",
      "Processed 12000 out of 27971 documents\n",
      "Processed 13000 out of 27971 documents\n",
      "Processed 14000 out of 27971 documents\n",
      "Processed 15000 out of 27971 documents\n",
      "Processed 16000 out of 27971 documents\n",
      "Processed 17000 out of 27971 documents\n",
      "Processed 18000 out of 27971 documents\n",
      "Processed 19000 out of 27971 documents\n",
      "Processed 20000 out of 27971 documents\n",
      "Processed 21000 out of 27971 documents\n",
      "Processed 22000 out of 27971 documents\n",
      "Processed 23000 out of 27971 documents\n",
      "Processed 24000 out of 27971 documents\n",
      "Processed 25000 out of 27971 documents\n",
      "Processed 26000 out of 27971 documents\n",
      "Processed 27000 out of 27971 documents\n",
      "Cleaned up training data size (i.e. number of sentences):  38513\n"
     ]
    }
   ],
   "source": [
    "train_cleaned_word2vec = cleanup_text_word2vec(all_text['Text'], logging=True)\n",
    "print('Cleaned up training data size (i.e. number of sentences): ', len(train_cleaned_word2vec))"
   ]
  },
  {
   "cell_type": "markdown",
   "metadata": {},
   "source": [
    "Now we can create our Word2Vec model and train it using our sentences. Here we define the parameters for Word2Vec:\n",
    "\n",
    "size: Word vector dimensionality size is 300\n",
    "window: Maximum distance between center word and predicted word in a sentence\n",
    "min_count: Ignore all words that appear with less frequency than this\n",
    "workers: Use this many workers to train model. Leads to faster training on multi-core machines\n",
    "sg: Define archetecture. 1 for skip-gram, 0 for continouous bag of words (CBOW).\n",
    "CBOW is faster but skip-gram gives better performance"
   ]
  },
  {
   "cell_type": "code",
   "execution_count": 45,
   "metadata": {},
   "outputs": [
    {
     "name": "stdout",
     "output_type": "stream",
     "text": [
      "Training Word2Vec model...\n",
      "Word2Vec model created.\n",
      "10770 unique words represented by 300 dimensional vectors\n"
     ]
    }
   ],
   "source": [
    "from gensim.models.word2vec import Word2Vec\n",
    "\n",
    "text_dim = 300\n",
    "print(\"Training Word2Vec model...\")\n",
    "wordvec_model = Word2Vec(train_cleaned_word2vec, size=text_dim, window=5, min_count=3, workers=4, sg=1)\n",
    "print(\"Word2Vec model created.\")\n",
    "print(\"%d unique words represented by %d dimensional vectors\" % (len(wordvec_model.wv.vocab), text_dim))"
   ]
  },
  {
   "cell_type": "markdown",
   "metadata": {},
   "source": [
    "Now that we trained our model we can use some built-in functions to evaluate our model. However just because this may or may not give good answers doesn't necessarily mean it will give a good performance on our end application. Either way it is useful to see the semantic relationships the model has learned."
   ]
  },
  {
   "cell_type": "code",
   "execution_count": 46,
   "metadata": {},
   "outputs": [
    {
     "name": "stdout",
     "output_type": "stream",
     "text": [
      "[('eldest', 0.812187910079956), ('young', 0.8028455972671509), ('rank', 0.801859974861145), ('favourite', 0.7982768416404724), ('son', 0.7939213514328003), ('mother', 0.7897350788116455), ('daughter', 0.7878957986831665), ('harris', 0.7878559231758118), ('widow', 0.7875295877456665), ('spin', 0.785317599773407)]\n",
      "[('eldest', 1.0419807434082031), ('favourite', 1.0368119478225708), ('rank', 1.0354743003845215), ('mother', 1.0352704524993896), ('daughter', 1.035251259803772), ('young', 1.0337918996810913), ('widow', 1.0304020643234253), ('son', 1.028385043144226), ('greece', 1.0257418155670166), ('neglect', 1.0244108438491821)]\n",
      "dinner\n",
      "0.7172585\n",
      "0.85291266\n"
     ]
    },
    {
     "name": "stderr",
     "output_type": "stream",
     "text": [
      "/opt/conda/lib/python3.6/site-packages/gensim/models/keyedvectors.py:858: FutureWarning: arrays to stack must be passed as a \"sequence\" type such as list or tuple. Support for non-sequence iterables such as generators is deprecated as of NumPy 1.16 and will raise an error in the future.\n",
      "  vectors = vstack(self.word_vec(word, use_norm=True) for word in used_words).astype(REAL)\n"
     ]
    }
   ],
   "source": [
    "print(wordvec_model.wv.most_similar(positive=['woman', 'king'], negative=['man']))\n",
    "print(wordvec_model.wv.most_similar_cosmul(positive=['woman', 'king'], negative=['man']))\n",
    "print(wordvec_model.wv.doesnt_match(\"breakfast cereal dinner lunch\".split()))\n",
    "print(wordvec_model.wv.similarity('woman', 'man'))\n",
    "print(wordvec_model.wv.similarity('gruesome', 'terrify'))"
   ]
  },
  {
   "cell_type": "markdown",
   "metadata": {},
   "source": [
    "We no longer need train_cleaned_word2vec anymore because that was only for training the Word2Vec model. Now we can use the original train_cleaned variable that removed stopwords. The Word2Vec model can give us a 300 dimensional vector for individual words so we need a way to represent a text example that has multiple words in it in just 300 dimensions. One way of doing that is to average the word vectors for each word in a text example.\n",
    "\n",
    "For intance (first training text cleaned): process afford mean ascertain dimension dungeon make circuit return point set aware fact perfectly uniform wall\n",
    "\n",
    "We need to add up the word vectors for each word (process + afford + mean + ...) and divide by the number of words in this example (16). But if there is no word vector in our model for a given word then we ignore it."
   ]
  },
  {
   "cell_type": "code",
   "execution_count": 47,
   "metadata": {},
   "outputs": [],
   "source": [
    "# Define function to create word vectors given a cleaned piece of text.\n",
    "def create_average_vec(doc):\n",
    "    average = np.zeros((text_dim,), dtype='float32')\n",
    "    num_words = 0.\n",
    "    for word in doc.split():\n",
    "        if word in wordvec_model.wv.vocab:\n",
    "            average = np.add(average, wordvec_model[word])\n",
    "            num_words += 1.\n",
    "    if num_words != 0.:\n",
    "        average = np.divide(average, num_words)\n",
    "    return average"
   ]
  },
  {
   "cell_type": "markdown",
   "metadata": {},
   "source": [
    "Here we run into a problem. After cleaning up the text there are some text pieces that end up having no words in them at all! This means that the entire text is composed of stopwords. Here is an example:\n",
    "\n",
    "train['Text'][477] = 'After all, what is it?'\n",
    "\n",
    "After lemmatizing each word with spaCy, every word is part of nltk's stopword list and get completely cleaned out by our cleanup_text function. Also when we try to use the create_average_vec function on a text example with no words in it then we just get a 300 dimensional vector of zeros. Fortunately this only occurs 5 times in the text so for now we will ignore it and see how well our model performs but in the future we may want to find a way to better represent text filled with stopwords."
   ]
  },
  {
   "cell_type": "code",
   "execution_count": 48,
   "metadata": {},
   "outputs": [
    {
     "name": "stderr",
     "output_type": "stream",
     "text": [
      "/opt/conda/lib/python3.6/site-packages/ipykernel_launcher.py:7: DeprecationWarning: Call to deprecated `__getitem__` (Method will be removed in 4.0.0, use self.wv.__getitem__() instead).\n",
      "  import sys\n"
     ]
    },
    {
     "name": "stdout",
     "output_type": "stream",
     "text": [
      "Train word vector shape: (19579, 300)\n"
     ]
    }
   ],
   "source": [
    "# Create word vectors\n",
    "train_cleaned_vec = np.zeros((train.shape[0], text_dim), dtype=\"float32\")  # 19579 x 300\n",
    "for i in range(len(train_cleaned)):\n",
    "    train_cleaned_vec[i] = create_average_vec(train_cleaned[i])\n",
    "\n",
    "print(\"Train word vector shape:\", train_cleaned_vec.shape)"
   ]
  },
  {
   "cell_type": "markdown",
   "metadata": {},
   "source": [
    "### One-Hot Encode Labels"
   ]
  },
  {
   "cell_type": "markdown",
   "metadata": {},
   "source": [
    "Now we should one hoe encode the labels. We can do so using sci-kit learn's label_binarize function"
   ]
  },
  {
   "cell_type": "code",
   "execution_count": 49,
   "metadata": {},
   "outputs": [
    {
     "name": "stdout",
     "output_type": "stream",
     "text": [
      "y_train_ohe shape: (19579, 3)\n",
      "y_train_ohe samples:\n",
      "[[1 0 0]\n",
      " [0 1 0]\n",
      " [1 0 0]\n",
      " [0 0 1]\n",
      " [0 1 0]]\n"
     ]
    }
   ],
   "source": [
    "from sklearn.preprocessing import label_binarize\n",
    "\n",
    "# Transform labels into one hot encoded format.\n",
    "y_train_ohe = label_binarize(train['Author'], classes=['EAP', 'HPL', 'MWS'])\n",
    "print('y_train_ohe shape: {}'.format(y_train_ohe.shape))\n",
    "print('y_train_ohe samples:')\n",
    "print(y_train_ohe[:5])"
   ]
  },
  {
   "cell_type": "markdown",
   "metadata": {},
   "source": [
    "### Split into Train/Test Datasets"
   ]
  },
  {
   "cell_type": "markdown",
   "metadata": {},
   "source": [
    "To avoid building a model that performs well ONLY on the test set we carve out a new train/test set using the training set provided by Kaggle. This way we can do parameter tuning, try different preprocessing methods, etc and calculate a log loss score without submitting to Kaggle. Now we don't have to worry about building a model that performs well for the Kaggle-provided test set but doesn't generalize to new examples."
   ]
  },
  {
   "cell_type": "code",
   "execution_count": 50,
   "metadata": {},
   "outputs": [
    {
     "name": "stdout",
     "output_type": "stream",
     "text": [
      "X_train size: (15663, 300)\n",
      "X_test size: (3916, 300)\n",
      "y_train size: (15663, 3)\n",
      "y_test size: (3916, 3)\n"
     ]
    }
   ],
   "source": [
    "from sklearn.model_selection import train_test_split\n",
    "\n",
    "# If using spaCy word vectors\n",
    "# X_train, X_test, y_train, y_test = train_test_split(train_vec, y_train_ohe, test_size=0.2, random_state=21)\n",
    "# If using Word2Vec word vectors\n",
    "X_train, X_test, y_train, y_test = train_test_split(train_cleaned_vec, y_train_ohe, test_size=0.2, random_state=21)\n",
    "\n",
    "print('X_train size: {}'.format(X_train.shape))\n",
    "print('X_test size: {}'.format(X_test.shape))\n",
    "print('y_train size: {}'.format(y_train.shape))\n",
    "print('y_test size: {}'.format(y_test.shape))"
   ]
  },
  {
   "cell_type": "markdown",
   "metadata": {},
   "source": [
    "### Deep Learning with Keras"
   ]
  },
  {
   "cell_type": "markdown",
   "metadata": {},
   "source": [
    "Here we define our neural network using keras which is a deep learning python library. The architecture below is a multilayer perceptron with four hidden layers, relu activation function, and he normal kernel initialization. We also include four dropout layers to avoid overfitting."
   ]
  },
  {
   "cell_type": "code",
   "execution_count": 51,
   "metadata": {},
   "outputs": [
    {
     "name": "stderr",
     "output_type": "stream",
     "text": [
      "/opt/conda/lib/python3.6/site-packages/h5py/__init__.py:36: FutureWarning: Conversion of the second argument of issubdtype from `float` to `np.floating` is deprecated. In future, it will be treated as `np.float64 == np.dtype(float).type`.\n",
      "  from ._conv import register_converters as _register_converters\n",
      "Using TensorFlow backend.\n"
     ]
    }
   ],
   "source": [
    "from keras.models import Sequential, Model\n",
    "from keras.layers import Dense, Dropout, Input, LSTM, Embedding, Bidirectional, Flatten\n",
    "from keras.layers import Conv1D, MaxPooling1D, GlobalMaxPooling1D\n",
    "from keras.optimizers import SGD\n",
    "\n",
    "def build_model(architecture='mlp'):\n",
    "    model = Sequential()\n",
    "    if architecture == 'mlp':\n",
    "        # Densely Connected Neural Network (Multi-Layer Perceptron)\n",
    "        model.add(Dense(512, activation='relu', kernel_initializer='he_normal', input_dim=300))\n",
    "        model.add(Dropout(0.2))\n",
    "        model.add(Dense(512, activation='relu', kernel_initializer='he_normal'))\n",
    "        model.add(Dropout(0.2))\n",
    "        model.add(Dense(512, activation='relu', kernel_initializer='he_normal'))\n",
    "        model.add(Dropout(0.2))\n",
    "        model.add(Dense(512, activation='relu', kernel_initializer='he_normal'))\n",
    "        model.add(Dropout(0.2))\n",
    "        model.add(Dense(3, activation='softmax'))\n",
    "    elif architecture == 'cnn':\n",
    "        # 1-D Convolutional Neural Network\n",
    "        inputs = Input(shape=(300,1))\n",
    "\n",
    "        x = Conv1D(64, 3, strides=1, padding='same', activation='relu')(inputs)\n",
    "\n",
    "        #Cuts the size of the output in half, maxing over every 2 inputs\n",
    "        x = MaxPooling1D(pool_size=2)(x)\n",
    "        x = Conv1D(128, 3, strides=1, padding='same', activation='relu')(x)\n",
    "        x = GlobalMaxPooling1D()(x) \n",
    "        outputs = Dense(3, activation='softmax')(x)\n",
    "\n",
    "        model = Model(inputs=inputs, outputs=outputs, name='CNN')\n",
    "    elif architecture == 'lstm':\n",
    "        # LSTM network\n",
    "        inputs = Input(shape=(300,1))\n",
    "\n",
    "        x = Bidirectional(LSTM(64, return_sequences=True),\n",
    "                          merge_mode='concat')(inputs)\n",
    "        x = Dropout(0.2)(x)\n",
    "        x = Flatten()(x)\n",
    "        outputs = Dense(3, activation='softmax')(x)\n",
    "\n",
    "        model = Model(inputs=inputs, outputs=outputs, name='LSTM')\n",
    "    else:\n",
    "        print('Error: Model type not found.')\n",
    "    return model"
   ]
  },
  {
   "cell_type": "code",
   "execution_count": 52,
   "metadata": {},
   "outputs": [
    {
     "name": "stdout",
     "output_type": "stream",
     "text": [
      "_________________________________________________________________\n",
      "Layer (type)                 Output Shape              Param #   \n",
      "=================================================================\n",
      "dense_1 (Dense)              (None, 512)               154112    \n",
      "_________________________________________________________________\n",
      "dropout_1 (Dropout)          (None, 512)               0         \n",
      "_________________________________________________________________\n",
      "dense_2 (Dense)              (None, 512)               262656    \n",
      "_________________________________________________________________\n",
      "dropout_2 (Dropout)          (None, 512)               0         \n",
      "_________________________________________________________________\n",
      "dense_3 (Dense)              (None, 512)               262656    \n",
      "_________________________________________________________________\n",
      "dropout_3 (Dropout)          (None, 512)               0         \n",
      "_________________________________________________________________\n",
      "dense_4 (Dense)              (None, 512)               262656    \n",
      "_________________________________________________________________\n",
      "dropout_4 (Dropout)          (None, 512)               0         \n",
      "_________________________________________________________________\n",
      "dense_5 (Dense)              (None, 3)                 1539      \n",
      "=================================================================\n",
      "Total params: 943,619\n",
      "Trainable params: 943,619\n",
      "Non-trainable params: 0\n",
      "_________________________________________________________________\n"
     ]
    }
   ],
   "source": [
    "# Define keras model\n",
    "# Using MLP in kernel for speed\n",
    "model = build_model('mlp')\n",
    "# model = build_model('cnn')\n",
    "# model = build_model('lstm')\n",
    "\n",
    "# If the model is a CNN then expand the dimensions of the training data\n",
    "if model.name == \"CNN\" or model.name == \"LSTM\":\n",
    "    X_train = np.expand_dims(X_train, axis=2)\n",
    "    X_test = np.expand_dims(X_test, axis=2)\n",
    "    print('Text train shape: ', X_test.shape)\n",
    "    print('Text test shape: ', X_test.shape)\n",
    "    \n",
    "model.summary()"
   ]
  },
  {
   "cell_type": "code",
   "execution_count": 53,
   "metadata": {},
   "outputs": [],
   "source": [
    "# Compile the model\n",
    "sgd = SGD(lr=0.01, decay=1e-6, momentum=0.9, nesterov=True)\n",
    "model.compile(optimizer=sgd, loss='categorical_crossentropy', metrics=['acc'])"
   ]
  },
  {
   "cell_type": "markdown",
   "metadata": {},
   "source": [
    "Now we train the model on our train/test set and also include change the parameter 'val_split' to 0.2 which takes 20% of the training data and turns it into a validation set."
   ]
  },
  {
   "cell_type": "code",
   "execution_count": 54,
   "metadata": {},
   "outputs": [
    {
     "name": "stdout",
     "output_type": "stream",
     "text": [
      "Train on 12530 samples, validate on 3133 samples\n",
      "Epoch 1/50\n",
      "12530/12530 [==============================] - 4s 321us/step - loss: 0.9425 - acc: 0.5443 - val_loss: 0.7403 - val_acc: 0.6878\n",
      "Epoch 2/50\n",
      "12530/12530 [==============================] - 3s 227us/step - loss: 0.7469 - acc: 0.6807 - val_loss: 0.6943 - val_acc: 0.7166\n",
      "Epoch 3/50\n",
      "12530/12530 [==============================] - 3s 223us/step - loss: 0.6990 - acc: 0.7123 - val_loss: 0.6839 - val_acc: 0.7207\n",
      "Epoch 4/50\n",
      "12530/12530 [==============================] - 3s 222us/step - loss: 0.6865 - acc: 0.7141 - val_loss: 0.6799 - val_acc: 0.7271\n",
      "Epoch 5/50\n",
      "12530/12530 [==============================] - 3s 226us/step - loss: 0.6747 - acc: 0.7196 - val_loss: 0.6784 - val_acc: 0.7277\n",
      "Epoch 6/50\n",
      "12530/12530 [==============================] - 3s 224us/step - loss: 0.6702 - acc: 0.7219 - val_loss: 0.6651 - val_acc: 0.7325\n",
      "Epoch 7/50\n",
      "12530/12530 [==============================] - 3s 224us/step - loss: 0.6644 - acc: 0.7243 - val_loss: 0.6613 - val_acc: 0.7354\n",
      "Epoch 8/50\n",
      "12530/12530 [==============================] - 3s 224us/step - loss: 0.6574 - acc: 0.7269 - val_loss: 0.6602 - val_acc: 0.7335\n",
      "Epoch 9/50\n",
      "12530/12530 [==============================] - 3s 223us/step - loss: 0.6557 - acc: 0.7291 - val_loss: 0.6546 - val_acc: 0.7351\n",
      "Epoch 10/50\n",
      "12530/12530 [==============================] - 3s 228us/step - loss: 0.6548 - acc: 0.7292 - val_loss: 0.6707 - val_acc: 0.7312\n",
      "Epoch 11/50\n",
      "12530/12530 [==============================] - 3s 231us/step - loss: 0.6519 - acc: 0.7303 - val_loss: 0.6593 - val_acc: 0.7332\n",
      "Epoch 12/50\n",
      "12530/12530 [==============================] - 3s 224us/step - loss: 0.6451 - acc: 0.7354 - val_loss: 0.6570 - val_acc: 0.7265\n",
      "Epoch 13/50\n",
      "12530/12530 [==============================] - 3s 221us/step - loss: 0.6418 - acc: 0.7348 - val_loss: 0.6457 - val_acc: 0.7389\n",
      "Epoch 14/50\n",
      "12530/12530 [==============================] - 3s 227us/step - loss: 0.6388 - acc: 0.7362 - val_loss: 0.6512 - val_acc: 0.7297\n",
      "Epoch 15/50\n",
      "12530/12530 [==============================] - 3s 228us/step - loss: 0.6354 - acc: 0.7388 - val_loss: 0.6480 - val_acc: 0.7380\n",
      "Epoch 16/50\n",
      "12530/12530 [==============================] - 3s 227us/step - loss: 0.6342 - acc: 0.7362 - val_loss: 0.6511 - val_acc: 0.7297\n",
      "Epoch 17/50\n",
      "12530/12530 [==============================] - 3s 225us/step - loss: 0.6330 - acc: 0.7372 - val_loss: 0.6518 - val_acc: 0.7392\n",
      "Epoch 18/50\n",
      "12530/12530 [==============================] - 3s 221us/step - loss: 0.6290 - acc: 0.7400 - val_loss: 0.6500 - val_acc: 0.7357\n",
      "Epoch 19/50\n",
      "12530/12530 [==============================] - 3s 224us/step - loss: 0.6302 - acc: 0.7387 - val_loss: 0.6516 - val_acc: 0.7392\n",
      "Epoch 20/50\n",
      "12530/12530 [==============================] - 3s 222us/step - loss: 0.6247 - acc: 0.7405 - val_loss: 0.6471 - val_acc: 0.7303\n",
      "Epoch 21/50\n",
      "12530/12530 [==============================] - 3s 224us/step - loss: 0.6225 - acc: 0.7438 - val_loss: 0.6414 - val_acc: 0.7405\n",
      "Epoch 22/50\n",
      "12530/12530 [==============================] - 3s 221us/step - loss: 0.6259 - acc: 0.7413 - val_loss: 0.6428 - val_acc: 0.7367\n",
      "Epoch 23/50\n",
      "12530/12530 [==============================] - 3s 227us/step - loss: 0.6179 - acc: 0.7473 - val_loss: 0.6591 - val_acc: 0.7364\n",
      "Epoch 24/50\n",
      "12530/12530 [==============================] - 3s 224us/step - loss: 0.6164 - acc: 0.7474 - val_loss: 0.6439 - val_acc: 0.7411\n",
      "Epoch 25/50\n",
      "12530/12530 [==============================] - 3s 223us/step - loss: 0.6146 - acc: 0.7449 - val_loss: 0.6419 - val_acc: 0.7332\n",
      "Epoch 26/50\n",
      "12530/12530 [==============================] - 3s 231us/step - loss: 0.6147 - acc: 0.7459 - val_loss: 0.6398 - val_acc: 0.7440\n",
      "Epoch 27/50\n",
      "12530/12530 [==============================] - 3s 223us/step - loss: 0.6128 - acc: 0.7470 - val_loss: 0.6408 - val_acc: 0.7399\n",
      "Epoch 28/50\n",
      "12530/12530 [==============================] - 3s 223us/step - loss: 0.6118 - acc: 0.7500 - val_loss: 0.6407 - val_acc: 0.7399\n",
      "Epoch 29/50\n",
      "12530/12530 [==============================] - 3s 225us/step - loss: 0.6117 - acc: 0.7467 - val_loss: 0.6389 - val_acc: 0.7328\n",
      "Epoch 30/50\n",
      "12530/12530 [==============================] - 3s 226us/step - loss: 0.6107 - acc: 0.7453 - val_loss: 0.6417 - val_acc: 0.7389\n",
      "Epoch 31/50\n",
      "12530/12530 [==============================] - 3s 232us/step - loss: 0.6081 - acc: 0.7500 - val_loss: 0.6449 - val_acc: 0.7443\n",
      "Epoch 32/50\n",
      "12530/12530 [==============================] - 3s 224us/step - loss: 0.6061 - acc: 0.7510 - val_loss: 0.6307 - val_acc: 0.7389\n",
      "Epoch 33/50\n",
      "12530/12530 [==============================] - 3s 225us/step - loss: 0.6046 - acc: 0.7532 - val_loss: 0.6341 - val_acc: 0.7472\n",
      "Epoch 34/50\n",
      "12530/12530 [==============================] - 3s 234us/step - loss: 0.6014 - acc: 0.7495 - val_loss: 0.6413 - val_acc: 0.7395\n",
      "Epoch 35/50\n",
      "12530/12530 [==============================] - 3s 227us/step - loss: 0.6036 - acc: 0.7535 - val_loss: 0.6357 - val_acc: 0.7450\n",
      "Epoch 36/50\n",
      "12530/12530 [==============================] - 3s 223us/step - loss: 0.5988 - acc: 0.7506 - val_loss: 0.6434 - val_acc: 0.7447\n",
      "Epoch 37/50\n",
      "12530/12530 [==============================] - 3s 225us/step - loss: 0.5944 - acc: 0.7579 - val_loss: 0.6386 - val_acc: 0.7415\n",
      "Epoch 38/50\n",
      "12530/12530 [==============================] - 3s 222us/step - loss: 0.5958 - acc: 0.7545 - val_loss: 0.6376 - val_acc: 0.7402\n",
      "Epoch 39/50\n",
      "12530/12530 [==============================] - 3s 225us/step - loss: 0.5981 - acc: 0.7555 - val_loss: 0.6320 - val_acc: 0.7450\n",
      "Epoch 40/50\n",
      "12530/12530 [==============================] - 3s 222us/step - loss: 0.5896 - acc: 0.7569 - val_loss: 0.6413 - val_acc: 0.7475\n",
      "Epoch 41/50\n",
      "12530/12530 [==============================] - 3s 227us/step - loss: 0.5932 - acc: 0.7543 - val_loss: 0.6378 - val_acc: 0.7427\n",
      "Epoch 42/50\n",
      "12530/12530 [==============================] - 3s 226us/step - loss: 0.5941 - acc: 0.7555 - val_loss: 0.6320 - val_acc: 0.7475\n",
      "Epoch 43/50\n",
      "12530/12530 [==============================] - 3s 224us/step - loss: 0.5892 - acc: 0.7600 - val_loss: 0.6384 - val_acc: 0.7485\n",
      "Epoch 44/50\n",
      "12530/12530 [==============================] - 3s 227us/step - loss: 0.5903 - acc: 0.7555 - val_loss: 0.6309 - val_acc: 0.7466\n",
      "Epoch 45/50\n",
      "12530/12530 [==============================] - 3s 224us/step - loss: 0.5868 - acc: 0.7584 - val_loss: 0.6423 - val_acc: 0.7447\n",
      "Epoch 46/50\n",
      "12530/12530 [==============================] - 3s 225us/step - loss: 0.5889 - acc: 0.7592 - val_loss: 0.6588 - val_acc: 0.7376\n",
      "Epoch 47/50\n",
      "12530/12530 [==============================] - 3s 226us/step - loss: 0.5852 - acc: 0.7591 - val_loss: 0.6366 - val_acc: 0.7408\n",
      "Epoch 48/50\n",
      "12530/12530 [==============================] - 3s 226us/step - loss: 0.5842 - acc: 0.7598 - val_loss: 0.6401 - val_acc: 0.7456\n",
      "Epoch 49/50\n",
      "12530/12530 [==============================] - 3s 230us/step - loss: 0.5789 - acc: 0.7631 - val_loss: 0.6586 - val_acc: 0.7344\n",
      "Epoch 50/50\n",
      "12530/12530 [==============================] - 3s 229us/step - loss: 0.5793 - acc: 0.7670 - val_loss: 0.6509 - val_acc: 0.7312\n"
     ]
    }
   ],
   "source": [
    "# Define number of epochs\n",
    "epochs = 50\n",
    "\n",
    "# Fit the model to the training data\n",
    "estimator = model.fit(X_train, y_train,\n",
    "                      validation_split=0.2,\n",
    "                      epochs=epochs, batch_size=128, verbose=1)"
   ]
  },
  {
   "cell_type": "code",
   "execution_count": 55,
   "metadata": {},
   "outputs": [
    {
     "data": {
      "image/png": "[encoded data removed]",
      "text/plain": [
       "<Figure size 640x480 with 1 Axes>"
      ]
     },
     "metadata": {},
     "output_type": "display_data"
    },
    {
     "data": {
      "image/png": "[encoded data removed]",
      "text/plain": [
       "<Figure size 640x480 with 1 Axes>"
      ]
     },
     "metadata": {},
     "output_type": "display_data"
    }
   ],
   "source": [
    "# Plot model accuracy over epochs\n",
    "sns.reset_orig()   # Reset seaborn settings to get rid of black background\n",
    "plt.plot(estimator.history['acc'])\n",
    "plt.plot(estimator.history['val_acc'])\n",
    "plt.title('model accuracy')\n",
    "plt.ylabel('accuracy')\n",
    "plt.xlabel('epoch')\n",
    "plt.legend(['train', 'valid'], loc='upper left')\n",
    "plt.show()\n",
    "\n",
    "# Plot model loss over epochs\n",
    "plt.plot(estimator.history['loss'])\n",
    "plt.plot(estimator.history['val_loss'])\n",
    "plt.title('model loss')\n",
    "plt.ylabel('loss')\n",
    "plt.xlabel('epoch')\n",
    "plt.legend(['train', 'valid'], loc='upper left')\n",
    "plt.show()"
   ]
  },
  {
   "cell_type": "markdown",
   "metadata": {},
   "source": [
    "### Using spaCy word vectors"
   ]
  },
  {
   "cell_type": "markdown",
   "metadata": {},
   "source": [
    "**For MLP architecture**: From the plot above we can see the model starts to overfit the training data early around the fifth epoch. The validation accuracy stays stable for the rest of the training and the loss goes up as training goes on.\n",
    "\n",
    "**For CNN architecture**: Both the training and validation accuracy go up as training goes on. The loss also goes down continuously. With more epochs the loss would probably continue to go down until eventually saturating. Some more parameter tweaking and could also lead to a lower log loss score.\n",
    "\n",
    "**For LSTM architecture**: The training accuracy is 58.90% and the validation accuracy is 58.60%. From the model accuracy plot above we can see both accuracies rise and continue to rise until the final epoch. The model losses also go down continuously indicating that more epochs will lead to a better performance."
   ]
  },
  {
   "cell_type": "markdown",
   "metadata": {},
   "source": [
    "### Using Word2Vec word vectors"
   ]
  },
  {
   "cell_type": "markdown",
   "metadata": {},
   "source": [
    "**For MLP architecture**: The training and validation accuracies are bigger than previous attempts using spaCy's built-in word vectors. The log loss also goes down further but near the end the validation loss looks like it isn't going any lower while the training loss goes lower. It seems like training over more epochs will lead to overfitting. The training accuracy is 76.26% and the validation accuracy is 74.08%.\n",
    "\n",
    "**For CNN architecture**: The training and validation accuracies (72.64%, 70.89% respectively) are smaller than the MLP architecture. It also looks like the loss isn't going to go any lower with more epochs. Hyperparameter tuning and adding more layers may help to increase the accuracies and lower the loss.\n",
    "\n",
    "**For LSTM architecture**: The training and validation accuracies are smaller than the CNN and MLP architectures, but higher than the LSTM accuracies without Word2Vec. Training accuracy was 70.91% and validation accuracy was 69.81%. Looking at the plot above the validation loss starts to even out so more epochs likely won't improve performance.\n",
    "\n",
    "Now it's time to make predictions!"
   ]
  },
  {
   "cell_type": "code",
   "execution_count": 56,
   "metadata": {},
   "outputs": [
    {
     "name": "stdout",
     "output_type": "stream",
     "text": [
      "(3916, 3)\n"
     ]
    }
   ],
   "source": [
    "# Make predictions\n",
    "predicted_prob = model.predict(X_test)\n",
    "print(predicted_prob.shape)"
   ]
  },
  {
   "cell_type": "code",
   "execution_count": 57,
   "metadata": {},
   "outputs": [],
   "source": [
    "# Save submission file\n",
    "with open('submission.csv', 'w') as file_obj:\n",
    "    file_obj.write('ID,EAP,HPL,MWS\\n')\n",
    "    for pred in range(len(predicted_prob)):\n",
    "        file_obj.write(str(pred+1) + ',' + ','.join('{:.2f}'.format(s) for s in predicted_prob[pred].tolist()) + '\\n')"
   ]
  },
  {
   "cell_type": "code",
   "execution_count": 58,
   "metadata": {},
   "outputs": [
    {
     "name": "stdout",
     "output_type": "stream",
     "text": [
      "Log loss is: 0.6280142294781845\n"
     ]
    }
   ],
   "source": [
    "# Report log loss and score\n",
    "loss_sk = log_loss(y_test, predicted_prob)\n",
    "print('Log loss is: {}'.format(loss_sk))"
   ]
  },
  {
   "cell_type": "markdown",
   "metadata": {},
   "source": [
    "### Using spaCy word vectors"
   ]
  },
  {
   "cell_type": "markdown",
   "metadata": {},
   "source": [
    "The log loss for the **MLP architecture** is about 1.1416 which is not too bad, but can definitely be improved with parameter tweaking (number of neurons, number of layers, kernel initialization, dropout rate, etc.).\n",
    "\n",
    "Meanwhile the log loss for the **CNN architecture** is about 0.952 and is an improvement over the basic **MLP architecture**. Again, parameter tweaking will probably lead to better results and although CNNs perform well on computer vision problems they also have a lot of uses in natural language processing.\n",
    "\n",
    "However a lot of times recurrent neural networks (RNN), in particular long short term memory (LSTM), produce the best results. Using a **LSTM architecture**, the model acheived a log loss score of 0.9303. This is the best score out of all three architectures. This was also using only one hidden layer which was a bidirectional lstm layer with 64 memory units. Adding more memory units and layers and tweaking the dropout rate will probably lead to better results. Increasing the number of epochs will also lead to better results however it will increase the training time."
   ]
  },
  {
   "cell_type": "markdown",
   "metadata": {},
   "source": [
    "### Using Word2Vec word vectors"
   ]
  },
  {
   "cell_type": "markdown",
   "metadata": {},
   "source": [
    "The log loss using a **MLP architecture** is 0.60657. Using Word2Vec to create the word vectors greatly improved performance. I did not change any of the hyperparameters for the MLP neural net, I used the same one I used when using spaCy word vectors. Even with some text examples having all zero word vectors (because filtering out stopwords left an empty string) it seemed to work well.\n",
    "\n",
    "The log loss using a **CNN architecture** is 0.68087. While it is smaller than the **CNN architecture** without Word2Vec, it is a little higher than the **MLP architecture** above. Hyperparameter tuning and possibly adding more hidden layers could help increase performance.\n",
    "\n",
    "The log loss using a **LSTM architecture** is 0.711138. This is the highest log loss out of all our architectures using Word2Vec word vectors. This is surprising since LSTM gave us the best performance when using spaCy's built-in word vectors. One reason could be that the MLP is \"deeper\" than the LSTM. Our MLP has 4 hidden layers while the LSTM one has only 1 (with a bidirectional wrapper). Something that I will try soon is to increase the layers of our LSTM model and see if that can improve performance, although I think I will get rid of the bidirectional wrapper because I noticed it trains slightly faster without it."
   ]
  },
  {
   "cell_type": "markdown",
   "metadata": {},
   "source": [
    "### Future Works"
   ]
  },
  {
   "cell_type": "markdown",
   "metadata": {},
   "source": [
    "Adding more layers to LSTM and training it\n",
    "Add more text descriptions explaining neural network models and current hyperparameter settings\n",
    "Trying CBOW algorithm for Word2Vec instead of skip-gram. Also try changing some other Word2Vec-related hyperparameters\n",
    "Tweaking NN parameters (number of layers, kernel init, dropout rate)\n",
    "Keep checking back, I'll update the kernel to try some new things."
   ]
  },
  {
   "cell_type": "code",
   "execution_count": null,
   "metadata": {},
   "outputs": [],
   "source": []
  }
 ],
 "metadata": {
  "kernelspec": {
   "display_name": "Python 3",
   "language": "python",
   "name": "python3"
  },
  "language_info": {
   "codemirror_mode": {
    "name": "ipython",
    "version": 3
   },
   "file_extension": ".py",
   "mimetype": "text/x-python",
   "name": "python",
   "nbconvert_exporter": "python",
   "pygments_lexer": "ipython3",
   "version": "3.6.7"
  }
 },
 "nbformat": 4,
 "nbformat_minor": 2
}
