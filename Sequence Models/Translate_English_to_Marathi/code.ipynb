{
  "nbformat": 4,
  "nbformat_minor": 0,
  "metadata": {
    "colab": {
      "name": "code.ipynb",
      "provenance": []
    },
    "kernelspec": {
      "name": "python3",
      "display_name": "Python 3"
    }
  },
  "cells": [
    {
      "cell_type": "markdown",
      "metadata": {
        "id": "h8A3uxBokRP-",
        "colab_type": "text"
      },
      "source": [
        "As in case of any NLP task, after reading the input file, we perform the basic cleaning and preprocessing as follows:"
      ]
    },
    {
      "cell_type": "code",
      "metadata": {
        "id": "9lc_MqwshO3U",
        "colab_type": "code",
        "colab": {}
      },
      "source": [
        "# Set the file path\n",
        "file_path = 'data/mar.txt' # this might be different in your system\n",
        "\n",
        "# read the file\n",
        "lines = open(file_path, encoding='UTF-8').read().strip().split('\\n')\n",
        "\n",
        "# perform basic cleaning\n",
        "exclude = set(string.punctuation) # Set of all special characters\n",
        "remove_digits = str.maketrans('', '', string.digits) # Set of all digits\n",
        "\n",
        "def preprocess_eng_sentence(sent):\n",
        "    '''Function to preprocess English sentence'''\n",
        "    sent = sent.lower()\n",
        "    sent = re.sub(\"'\", '', sent)\n",
        "    sent = ''.join(ch for ch in sent if ch not in exclude)\n",
        "    sent = sent.translate(remove_digits)\n",
        "    sent = sent.strip()\n",
        "    sent = re.sub(\" +\", \" \", sent)\n",
        "    sent = '<start> ' + sent + ' <end>'\n",
        "\n",
        "def preprocess_mar_sentence(sent):\n",
        "    '''Function to preprocess Marathi sentence'''\n",
        "    sent = re.sub(\"'\", '', sent)\n",
        "    sent = ''.join(ch for ch in sent if ch not in exclude)\n",
        "    sent = re.sub(\"[२३०८१५७९४६]\", \"\", sent)\n",
        "    sent = sent.strip()\n",
        "    sent = re.sub(\" +\", \" \", sent)\n",
        "    sent = '<start> ' + sent + ' <end>'\n",
        "    return sent\n",
        "\n",
        "# Generate pairs of cleaned English and Marathi sentences\n",
        "sent_pairs = []\n",
        "for line in lines:\n",
        "    sent_pair = []\n",
        "    eng, mar = line.split('\\t')\n",
        "    eng = preprocess_eng_sentence(eng)\n",
        "    sent_pair.append(eng)\n",
        "    mar = preprocess_mar_sentence(mar)\n",
        "    sent_pair.append(mar)\n",
        "    sent_pairs.append(sent_pair)\n",
        "    return sent"
      ],
      "execution_count": 0,
      "outputs": []
    },
    {
      "cell_type": "markdown",
      "metadata": {
        "id": "YVKLXLW-kUzC",
        "colab_type": "text"
      },
      "source": [
        ""
      ]
    },
    {
      "cell_type": "code",
      "metadata": {
        "id": "1c7AB4DokUO_",
        "colab_type": "code",
        "colab": {}
      },
      "source": [
        ""
      ],
      "execution_count": 0,
      "outputs": []
    },
    {
      "cell_type": "markdown",
      "metadata": {
        "id": "yQPt1RktkUZ3",
        "colab_type": "text"
      },
      "source": [
        ""
      ]
    },
    {
      "cell_type": "code",
      "metadata": {
        "id": "iDkIoGNdkQwy",
        "colab_type": "code",
        "colab": {}
      },
      "source": [
        ""
      ],
      "execution_count": 0,
      "outputs": []
    },
    {
      "cell_type": "code",
      "metadata": {
        "id": "tiGyy_qxkJta",
        "colab_type": "code",
        "colab": {}
      },
      "source": [
        ""
      ],
      "execution_count": 0,
      "outputs": []
    },
    {
      "cell_type": "code",
      "metadata": {
        "id": "Q4DJoJOphfJF",
        "colab_type": "code",
        "colab": {
          "base_uri": "https://localhost:8080/",
          "height": 122
        },
        "outputId": "9ae49a0a-3d31-4c11-9377-c50f63abdf2e"
      },
      "source": [
        "from google.colab import drive\n",
        "drive.mount('/content/drive')"
      ],
      "execution_count": 1,
      "outputs": [
        {
          "output_type": "stream",
          "text": [
            "Go to this URL in a browser: https://accounts.google.com/o/oauth2/auth?client_id=947318989803-6bn6qk8qdgf4n4g3pfee6491hc0brc4i.apps.googleusercontent.com&redirect_uri=urn%3Aietf%3Awg%3Aoauth%3A2.0%3Aoob&scope=email%20https%3A%2F%2Fwww.googleapis.com%2Fauth%2Fdocs.test%20https%3A%2F%2Fwww.googleapis.com%2Fauth%2Fdrive%20https%3A%2F%2Fwww.googleapis.com%2Fauth%2Fdrive.photos.readonly%20https%3A%2F%2Fwww.googleapis.com%2Fauth%2Fpeopleapi.readonly&response_type=code\n",
            "\n",
            "Enter your authorization code:\n",
            "··········\n",
            "Mounted at /content/drive\n"
          ],
          "name": "stdout"
        }
      ]
    }
  ]
}