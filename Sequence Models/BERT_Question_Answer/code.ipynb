{
 "cells": [
  {
   "cell_type": "code",
   "execution_count": 1,
   "metadata": {
    "colab": {
     "base_uri": "https://localhost:8080/",
     "height": 357
    },
    "colab_type": "code",
    "id": "vyHIOLM_xWFc",
    "outputId": "e58bd36c-bb72-4a29-92d7-64fafe2e9484"
   },
   "outputs": [
    {
     "name": "stdout",
     "output_type": "stream",
     "text": [
      "Collecting bert_serving.client\n",
      "  Downloading https://files.pythonhosted.org/packages/ac/8e/a18697ed8a65127ff609dd7f55c73e04d4fe7c595fdda100b7e38791d233/bert_serving_client-1.9.8-py2.py3-none-any.whl\n",
      "Requirement already satisfied: pyzmq>=17.1.0 in c:\\users\\junior\\anaconda3\\lib\\site-packages (from bert_serving.client) (18.0.0)\n",
      "Requirement already satisfied: numpy in c:\\users\\junior\\anaconda3\\lib\\site-packages (from bert_serving.client) (1.16.2)\n",
      "Installing collected packages: bert-serving.client\n",
      "Successfully installed bert-serving.client\n",
      "Note: you may need to restart the kernel to use updated packages.\n"
     ]
    }
   ],
   "source": [
    "pip install bert_serving.client"
   ]
  },
  {
   "cell_type": "code",
   "execution_count": 2,
   "metadata": {},
   "outputs": [
    {
     "name": "stdout",
     "output_type": "stream",
     "text": [
      "Collecting bert_serving.server\n",
      "  Downloading https://files.pythonhosted.org/packages/80/82/2d44559666b605b8126d6e9fa4f1a722e3d54052281b88dccab708c6d0c7/bert_serving_server-1.9.8-py3-none-any.whl (61kB)\n",
      "Requirement already satisfied: pyzmq>=17.1.0 in c:\\users\\junior\\anaconda3\\lib\\site-packages (from bert_serving.server) (18.0.0)\n",
      "Requirement already satisfied: six in c:\\users\\junior\\anaconda3\\lib\\site-packages (from bert_serving.server) (1.12.0)\n",
      "Collecting termcolor>=1.1 (from bert_serving.server)\n",
      "  Downloading https://files.pythonhosted.org/packages/8a/48/a76be51647d0eb9f10e2a4511bf3ffb8cc1e6b14e9e4fab46173aa79f981/termcolor-1.1.0.tar.gz\n",
      "Requirement already satisfied: numpy in c:\\users\\junior\\anaconda3\\lib\\site-packages (from bert_serving.server) (1.16.2)\n",
      "Collecting GPUtil>=1.3.0 (from bert_serving.server)\n",
      "  Downloading https://files.pythonhosted.org/packages/ed/0e/5c61eedde9f6c87713e89d794f01e378cfd9565847d4576fa627d758c554/GPUtil-1.4.0.tar.gz\n",
      "Building wheels for collected packages: termcolor, GPUtil\n",
      "  Building wheel for termcolor (setup.py): started\n",
      "  Building wheel for termcolor (setup.py): finished with status 'done'\n",
      "  Stored in directory: C:\\Users\\Junior\\AppData\\Local\\pip\\Cache\\wheels\\7c\\06\\54\\bc84598ba1daf8f970247f550b175aaaee85f68b4b0c5ab2c6\n",
      "  Building wheel for GPUtil (setup.py): started\n",
      "  Building wheel for GPUtil (setup.py): finished with status 'done'\n",
      "  Stored in directory: C:\\Users\\Junior\\AppData\\Local\\pip\\Cache\\wheels\\3d\\77\\07\\80562de4bb0786e5ea186911a2c831fdd0018bda69beab71fd\n",
      "Successfully built termcolor GPUtil\n",
      "Installing collected packages: termcolor, GPUtil, bert-serving.server\n",
      "Successfully installed GPUtil-1.4.0 bert-serving.server termcolor-1.1.0\n",
      "Note: you may need to restart the kernel to use updated packages.\n"
     ]
    }
   ],
   "source": [
    "pip install bert_serving.server"
   ]
  },
  {
   "cell_type": "code",
   "execution_count": 3,
   "metadata": {},
   "outputs": [
    {
     "name": "stdout",
     "output_type": "stream",
     "text": [
      "Collecting tensorflow==1.14.0\n",
      "  Downloading https://files.pythonhosted.org/packages/f7/08/25e47a53692c2e0dcd2211a493ddfe9007a5cd92e175d6dffa6169a0b392/tensorflow-1.14.0-cp37-cp37m-win_amd64.whl (68.3MB)\n",
      "Requirement already satisfied: numpy<2.0,>=1.14.5 in c:\\users\\junior\\anaconda3\\lib\\site-packages (from tensorflow==1.14.0) (1.16.2)\n",
      "Requirement already satisfied: google-pasta>=0.1.6 in c:\\users\\junior\\anaconda3\\lib\\site-packages (from tensorflow==1.14.0) (0.1.8)\n",
      "Collecting tensorflow-estimator<1.15.0rc0,>=1.14.0rc0 (from tensorflow==1.14.0)\n",
      "  Downloading https://files.pythonhosted.org/packages/3c/d5/21860a5b11caf0678fbc8319341b0ae21a07156911132e0e71bffed0510d/tensorflow_estimator-1.14.0-py2.py3-none-any.whl (488kB)\n",
      "Requirement already satisfied: protobuf>=3.6.1 in c:\\users\\junior\\anaconda3\\lib\\site-packages (from tensorflow==1.14.0) (3.10.0)\n",
      "Requirement already satisfied: wrapt>=1.11.1 in c:\\users\\junior\\anaconda3\\lib\\site-packages (from tensorflow==1.14.0) (1.11.1)\n",
      "Requirement already satisfied: termcolor>=1.1.0 in c:\\users\\junior\\anaconda3\\lib\\site-packages (from tensorflow==1.14.0) (1.1.0)\n",
      "Requirement already satisfied: keras-preprocessing>=1.0.5 in c:\\users\\junior\\anaconda3\\lib\\site-packages (from tensorflow==1.14.0) (1.1.0)\n",
      "Requirement already satisfied: keras-applications>=1.0.6 in c:\\users\\junior\\anaconda3\\lib\\site-packages (from tensorflow==1.14.0) (1.0.8)\n",
      "Requirement already satisfied: grpcio>=1.8.6 in c:\\users\\junior\\anaconda3\\lib\\site-packages (from tensorflow==1.14.0) (1.25.0)\n",
      "Requirement already satisfied: absl-py>=0.7.0 in c:\\users\\junior\\anaconda3\\lib\\site-packages (from tensorflow==1.14.0) (0.8.1)\n",
      "Requirement already satisfied: wheel>=0.26 in c:\\users\\junior\\anaconda3\\lib\\site-packages (from tensorflow==1.14.0) (0.33.1)\n",
      "Requirement already satisfied: astor>=0.6.0 in c:\\users\\junior\\anaconda3\\lib\\site-packages (from tensorflow==1.14.0) (0.8.0)\n",
      "Requirement already satisfied: six>=1.10.0 in c:\\users\\junior\\anaconda3\\lib\\site-packages (from tensorflow==1.14.0) (1.12.0)\n",
      "Collecting tensorboard<1.15.0,>=1.14.0 (from tensorflow==1.14.0)\n",
      "  Downloading https://files.pythonhosted.org/packages/91/2d/2ed263449a078cd9c8a9ba50ebd50123adf1f8cfbea1492f9084169b89d9/tensorboard-1.14.0-py3-none-any.whl (3.1MB)\n",
      "Requirement already satisfied: gast>=0.2.0 in c:\\users\\junior\\anaconda3\\lib\\site-packages (from tensorflow==1.14.0) (0.2.2)\n",
      "Requirement already satisfied: setuptools in c:\\users\\junior\\anaconda3\\lib\\site-packages (from protobuf>=3.6.1->tensorflow==1.14.0) (41.6.0)\n",
      "Requirement already satisfied: h5py in c:\\users\\junior\\anaconda3\\lib\\site-packages (from keras-applications>=1.0.6->tensorflow==1.14.0) (2.9.0)\n",
      "Requirement already satisfied: werkzeug>=0.11.15 in c:\\users\\junior\\anaconda3\\lib\\site-packages (from tensorboard<1.15.0,>=1.14.0->tensorflow==1.14.0) (0.14.1)\n",
      "Requirement already satisfied: markdown>=2.6.8 in c:\\users\\junior\\anaconda3\\lib\\site-packages (from tensorboard<1.15.0,>=1.14.0->tensorflow==1.14.0) (3.1.1)\n",
      "Installing collected packages: tensorflow-estimator, tensorboard, tensorflow\n",
      "  Found existing installation: tensorflow-estimator 2.0.1\n",
      "    Uninstalling tensorflow-estimator-2.0.1:\n",
      "      Successfully uninstalled tensorflow-estimator-2.0.1\n",
      "  Found existing installation: tensorboard 2.0.1\n",
      "    Uninstalling tensorboard-2.0.1:\n",
      "      Successfully uninstalled tensorboard-2.0.1\n",
      "  Found existing installation: tensorflow 2.0.0\n",
      "    Uninstalling tensorflow-2.0.0:\n",
      "      Successfully uninstalled tensorflow-2.0.0\n",
      "Successfully installed tensorboard-1.14.0 tensorflow-1.14.0 tensorflow-estimator-1.14.0\n",
      "Note: you may need to restart the kernel to use updated packages.\n"
     ]
    }
   ],
   "source": [
    "pip install tensorflow==1.14.0"
   ]
  },
  {
   "cell_type": "code",
   "execution_count": 4,
   "metadata": {
    "colab": {},
    "colab_type": "code",
    "id": "xypJlGM-xP2m"
   },
   "outputs": [],
   "source": [
    "from bert_serving.client import BertClient\n",
    "from bert_serving.server.helper import get_args_parser\n",
    "from bert_serving.server import BertServer\n",
    "import tensorflow as tf"
   ]
  },
  {
   "cell_type": "code",
   "execution_count": null,
   "metadata": {
    "colab": {},
    "colab_type": "code",
    "id": "Ty9d0pkRxRIr"
   },
   "outputs": [
    {
     "name": "stdout",
     "output_type": "stream",
     "text": [
      "I:\u001b[35mVENTILATOR\u001b[0m:freeze, optimize and export graph, could take a while...\n"
     ]
    }
   ],
   "source": [
    "args = get_args_parser().parse_args(['-model_dir', 'YOUR_MODEL_PATH_HERE',\n",
    "                                     '-port', '5555',\n",
    "                                     '-port_out', '5556',\n",
    "                                     '-max_seq_len', 'NONE',\n",
    "                                     '-mask_cls_sep',\n",
    "                                     '-cpu'])\n",
    "server = BertServer(args)\n",
    "server.start()"
   ]
  },
  {
   "cell_type": "code",
   "execution_count": null,
   "metadata": {},
   "outputs": [],
   "source": []
  }
 ],
 "metadata": {
  "colab": {
   "name": "code.ipynb",
   "provenance": []
  },
  "kernelspec": {
   "display_name": "Python 3",
   "language": "python",
   "name": "python3"
  },
  "language_info": {
   "codemirror_mode": {
    "name": "ipython",
    "version": 3
   },
   "file_extension": ".py",
   "mimetype": "text/x-python",
   "name": "python",
   "nbconvert_exporter": "python",
   "pygments_lexer": "ipython3",
   "version": "3.7.3"
  }
 },
 "nbformat": 4,
 "nbformat_minor": 1
}
