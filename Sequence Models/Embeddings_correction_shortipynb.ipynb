{
 "cells": [
  {
   "cell_type": "markdown",
   "metadata": {},
   "source": [
    "# Téléchargement et exploration des données"
   ]
  },
  {
   "cell_type": "markdown",
   "metadata": {},
   "source": [
    "Télécharger les données : https://www.kaggle.com/c/detecting-insults-in-social-commentary , il s'agit d'une compétition dont le but est de détecter les propos insultants parmi des commentaires écrits sur des réseaux sociaux "
   ]
  },
  {
   "cell_type": "markdown",
   "metadata": {},
   "source": [
    " Lire les données, extraire les commentaires et les labels de l'ensemble d'entraînement et de test"
   ]
  },
  {
   "cell_type": "code",
   "execution_count": 1,
   "metadata": {},
   "outputs": [],
   "source": [
    "import pandas as pd\n",
    "import numpy as np\n",
    "\n",
    "datapath = 'insults/'\n",
    "train_data = pd.read_csv(datapath+'train.csv')\n",
    "test_data = pd.read_csv(datapath+\"test_with_solutions.csv\")"
   ]
  },
  {
   "cell_type": "code",
   "execution_count": 2,
   "metadata": {},
   "outputs": [],
   "source": [
    "comments_train,comments_test,Y_train,Y_test=train_data.Comment,test_data.Comment,train_data.Insult,test_data.Insult\n"
   ]
  },
  {
   "cell_type": "markdown",
   "metadata": {},
   "source": [
    "A l'aide de matplotlib, visualiser la répartition des commentaires"
   ]
  },
  {
   "cell_type": "code",
   "execution_count": 3,
   "metadata": {},
   "outputs": [
    {
     "data": {
      "text/plain": [
       "(array([2898.,    0.,    0.,    0.,    0.,    0.,    0.,    0.,    0.,\n",
       "        1049.]),\n",
       " array([0. , 0.1, 0.2, 0.3, 0.4, 0.5, 0.6, 0.7, 0.8, 0.9, 1. ]),\n",
       " <a list of 10 Patch objects>)"
      ]
     },
     "execution_count": 3,
     "metadata": {},
     "output_type": "execute_result"
    },
    {
     "data": {
      "image/png": "[encoded data removed]",
      "text/plain": [
       "<Figure size 432x288 with 1 Axes>"
      ]
     },
     "metadata": {
      "needs_background": "light"
     },
     "output_type": "display_data"
    }
   ],
   "source": [
    "%matplotlib inline\n",
    "import matplotlib.pyplot as plt\n",
    "plt.hist(Y_train)"
   ]
  },
  {
   "cell_type": "markdown",
   "metadata": {},
   "source": [
    "Afficher un commentaire insultant"
   ]
  },
  {
   "cell_type": "code",
   "execution_count": 4,
   "metadata": {},
   "outputs": [
    {
     "name": "stdout",
     "output_type": "stream",
     "text": [
      "\"Spelling mistakes? like i said, Ignorant Asshole.\\xa0 So go put your butt plug in and shut your mouth..... HAHAHA estkill16, i see your getting roasted on here already,  i see your bios, a lil homo from Detroit whose moms a whore haha i wonder whose got the bigger mouth....\"\n"
     ]
    }
   ],
   "source": [
    "import random\n",
    "index=random.choice(np.where(Y_train==1)[0])\n",
    "print(comments_train[index])\n"
   ]
  },
  {
   "cell_type": "markdown",
   "metadata": {},
   "source": [
    "# Premier essai : CountVectorizer"
   ]
  },
  {
   "cell_type": "markdown",
   "metadata": {},
   "source": [
    "Transformer les commentaires avec CountVectorizer.TfIdfVectorizer (https://scikit-learn.org/stable/modules/generated/sklearn.feature_extraction.text.CountVectorizer.html , https://scikit-learn.org/stable/modules/generated/sklearn.feature_extraction.text.TfidfVectorizer.html) puis entraîner une régression logistique avec différents constantes, le tester sur l'ensemble de test (oui ...)"
   ]
  },
  {
   "cell_type": "code",
   "execution_count": 5,
   "metadata": {},
   "outputs": [
    {
     "data": {
      "text/plain": [
       "(3947, 1071)"
      ]
     },
     "execution_count": 5,
     "metadata": {},
     "output_type": "execute_result"
    }
   ],
   "source": [
    "from sklearn.feature_extraction.text import CountVectorizer\n",
    "cv = CountVectorizer(stop_words='english',ngram_range=(1,2),min_df=10,max_df=0.9)\n",
    "cv.fit(comments_train)\n",
    "X_train=cv.transform(comments_train)\n",
    "X_test=cv.transform(comments_test)\n",
    "X_train.shape"
   ]
  },
  {
   "cell_type": "code",
   "execution_count": 11,
   "metadata": {},
   "outputs": [
    {
     "data": {
      "text/plain": [
       "[mean: 0.87419, std: 0.11227, params: {'C': 0.01},\n",
       " mean: 0.83261, std: 0.09348, params: {'C': 0.03},\n",
       " mean: 0.81814, std: 0.04722, params: {'C': 0.1},\n",
       " mean: 0.77612, std: 0.02828, params: {'C': 0.3},\n",
       " mean: 0.72317, std: 0.02463, params: {'C': 1},\n",
       " mean: 0.67338, std: 0.01739, params: {'C': 3},\n",
       " mean: 0.62489, std: 0.00511, params: {'C': 10},\n",
       " mean: 0.57887, std: 0.01580, params: {'C': 30},\n",
       " mean: 0.54306, std: 0.01093, params: {'C': 100}]"
      ]
     },
     "execution_count": 11,
     "metadata": {},
     "output_type": "execute_result"
    }
   ],
   "source": [
    "from sklearn.linear_model import LogisticRegression\n",
    "from sklearn.grid_search import GridSearchCV\n",
    "param_grid = {'C': [0.01, 0.03, 0.1, 0.3, 1, 3, 10, 30, 100] }\n",
    "logreg = GridSearchCV(LogisticRegression(penalty='l2'), param_grid,\n",
    "                      scoring='precision', n_jobs=-1, cv=5)\n",
    "logreg.fit(X_train, Y_train)\n",
    "logreg.grid_scores_"
   ]
  },
  {
   "cell_type": "code",
   "execution_count": 12,
   "metadata": {},
   "outputs": [
    {
     "data": {
      "text/plain": [
       "0.7476388364185871"
      ]
     },
     "execution_count": 12,
     "metadata": {},
     "output_type": "execute_result"
    }
   ],
   "source": [
    "clf=logreg.best_estimator_\n",
    "clf.score(X_test,Y_test)"
   ]
  },
  {
   "cell_type": "markdown",
   "metadata": {},
   "source": [
    "En regardant les coefficients les plus importants de votre régression logistique, regarder les 10 mots (ou n-grams) les plus associés aux commentaires insultants"
   ]
  },
  {
   "cell_type": "code",
   "execution_count": 13,
   "metadata": {},
   "outputs": [
    {
     "data": {
      "text/plain": [
       "['shut',\n",
       " 'ignorant',\n",
       " 'fuck',\n",
       " 'loser',\n",
       " 'ass',\n",
       " 'moron',\n",
       " 'bitch',\n",
       " 'stupid',\n",
       " 'dumb',\n",
       " 'idiot']"
      ]
     },
     "execution_count": 13,
     "metadata": {},
     "output_type": "execute_result"
    }
   ],
   "source": [
    "clf=logreg.best_estimator_\n",
    "coeffs=clf.coef_[0]\n",
    "indexes=np.argsort(coeffs)\n",
    "top_10=[cv.get_feature_names()[indexes[i]] for i in range(-10,0)]\n",
    "top_10"
   ]
  },
  {
   "cell_type": "markdown",
   "metadata": {},
   "source": [
    "# Second essai : Word2Vec"
   ]
  },
  {
   "cell_type": "markdown",
   "metadata": {},
   "source": [
    "importer (éventuellement installer) gensim et entraîner un modèle Word2Vec sur l'ensemble des commentaires"
   ]
  },
  {
   "cell_type": "code",
   "execution_count": 14,
   "metadata": {},
   "outputs": [],
   "source": [
    "from gensim.models import Word2Vec\n"
   ]
  },
  {
   "cell_type": "markdown",
   "metadata": {},
   "source": [
    "définir une fonction prenant en argument une chaine de caractère et qui rempalce les caractères suivants : '\"\\n#0123456789*$/(): par un espace"
   ]
  },
  {
   "cell_type": "code",
   "execution_count": 15,
   "metadata": {},
   "outputs": [],
   "source": [
    "forbid_car= '\\'\\\"\\n#0123456789*$/:()\\\\'\n",
    "def clean(sent):\n",
    "    res=sent\n",
    "    for car in forbid_car:\n",
    "        res=res.replace(car,' ')\n",
    "    return res"
   ]
  },
  {
   "cell_type": "markdown",
   "metadata": {},
   "source": [
    "spliter chaque phrase en liste de mots de façon à obtenir une liste de liste et en profiter pour enlever les majuscules et nettoyer chaque phrase via la fonction précédemment définie"
   ]
  },
  {
   "cell_type": "code",
   "execution_count": 16,
   "metadata": {},
   "outputs": [],
   "source": [
    "clean_comments_train=[clean(elem).lower().split(' ') for elem in comments_train]\n",
    "clean_comments_test=[clean(elem).lower().split(' ') for elem in comments_test]\n"
   ]
  },
  {
   "cell_type": "markdown",
   "metadata": {},
   "source": [
    "instancier un modèle Word2vec à partir des données nettoyées et bien structurées "
   ]
  },
  {
   "cell_type": "code",
   "execution_count": 17,
   "metadata": {},
   "outputs": [],
   "source": [
    "model=Word2Vec(clean_comments_train+clean_comments_test)"
   ]
  },
  {
   "cell_type": "markdown",
   "metadata": {},
   "source": [
    "en utilisant la fonction model.wv.most_similar_cosmul regarder les mots les plus proches d'un mot de votre choix"
   ]
  },
  {
   "cell_type": "code",
   "execution_count": 23,
   "metadata": {},
   "outputs": [
    {
     "data": {
      "text/plain": [
       "[('smart', 0.9979934692382812),\n",
       " ('gays', 0.997841477394104),\n",
       " ('longer', 0.997499942779541),\n",
       " ('usual.', 0.9972481727600098),\n",
       " ('crazy', 0.9972244501113892),\n",
       " ('hell', 0.9972082376480103),\n",
       " ('unemployed', 0.9970417618751526),\n",
       " ('risk', 0.9969756603240967),\n",
       " ('us.', 0.996964693069458),\n",
       " ('real', 0.9969145655632019)]"
      ]
     },
     "execution_count": 23,
     "metadata": {},
     "output_type": "execute_result"
    }
   ],
   "source": [
    "model.wv.most_similar_cosmul(['trump'],)"
   ]
  },
  {
   "cell_type": "markdown",
   "metadata": {},
   "source": [
    "en utilisant le dictionaire model.wv, convertir les commentaires textes en suite de vecteurs"
   ]
  },
  {
   "cell_type": "code",
   "execution_count": null,
   "metadata": {},
   "outputs": [],
   "source": []
  },
  {
   "cell_type": "markdown",
   "metadata": {},
   "source": [
    "un commentaire est maintenant représenté comme un liste de vecteurs, chaque liste ayant une longueur variable, utiliser la fonction de keras pad_sequences pour que tous nos commentaires soient représentés sous le bon format "
   ]
  },
  {
   "cell_type": "code",
   "execution_count": null,
   "metadata": {},
   "outputs": [],
   "source": []
  },
  {
   "cell_type": "markdown",
   "metadata": {},
   "source": [
    "place au deep learning ! définir un modèle séquentiel keras avec une couche LSTM, une ou plusieurs couche(s) dense(s) et une couche finale d'activation logistique, le compiler et bien sûr l'entraîner, bonus pour utiliser la fonctionalité chekcpont afin de sauvegarder la meilleure version"
   ]
  },
  {
   "cell_type": "code",
   "execution_count": null,
   "metadata": {},
   "outputs": [],
   "source": []
  },
  {
   "cell_type": "code",
   "execution_count": null,
   "metadata": {},
   "outputs": [],
   "source": []
  }
 ],
 "metadata": {
  "kernelspec": {
   "display_name": "Python 3",
   "language": "python",
   "name": "python3"
  },
  "language_info": {
   "codemirror_mode": {
    "name": "ipython",
    "version": 3
   },
   "file_extension": ".py",
   "mimetype": "text/x-python",
   "name": "python",
   "nbconvert_exporter": "python",
   "pygments_lexer": "ipython3",
   "version": "3.7.3"
  }
 },
 "nbformat": 4,
 "nbformat_minor": 1
}
