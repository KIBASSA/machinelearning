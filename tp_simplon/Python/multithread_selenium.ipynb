{
 "cells": [
  {
   "cell_type": "code",
   "execution_count": 18,
   "metadata": {},
   "outputs": [],
   "source": [
    "from selenium import webdriver\n",
    "from selenium.webdriver.common.keys import Keys\n",
    "from threading import Thread"
   ]
  },
  {
   "cell_type": "code",
   "execution_count": 19,
   "metadata": {},
   "outputs": [],
   "source": [
    "class AfficheurSiteWeb(Thread):\n",
    "\n",
    "    \"\"\"Thread chargé simplement d'afficher un site web.\"\"\"\n",
    "\n",
    "    def __init__(self, url):\n",
    "        Thread.__init__(self)\n",
    "        self.url = url\n",
    "        self.path = \"C:\\\\Users\\\\kibas\\\\Documents\\\\github\\\\machinelearning\\\\tp_simplon\\\\Python\\\\drivers\\\\chromedriver.exe\"\n",
    "        \n",
    "    def run(self):\n",
    "        \"\"\"Code à exécuter pendant l'exécution du thread.\"\"\"\n",
    "        driver = webdriver.Chrome(self.path)\n",
    "        driver.get(self.url)\n",
    "        "
   ]
  },
  {
   "cell_type": "code",
   "execution_count": 20,
   "metadata": {},
   "outputs": [],
   "source": [
    "leboncoin = AfficheurSiteWeb(\"https://www.leboncoin.fr/\")\n",
    "indeed = AfficheurSiteWeb(\"https://www.indeed.fr/\")\n",
    "fnac = AfficheurSiteWeb(\"https://www.fnac.com/\")\n",
    "\n",
    "# Lancement des threads\n",
    "leboncoin.start()\n",
    "indeed.start()\n",
    "fnac.start()\n",
    "\n",
    "# Attend que les threads se terminent\n",
    "leboncoin.join()\n",
    "indeed.join()\n",
    "indeed.join()"
   ]
  },
  {
   "cell_type": "code",
   "execution_count": null,
   "metadata": {},
   "outputs": [],
   "source": []
  }
 ],
 "metadata": {
  "kernelspec": {
   "display_name": "Python 3",
   "language": "python",
   "name": "python3"
  },
  "language_info": {
   "codemirror_mode": {
    "name": "ipython",
    "version": 3
   },
   "file_extension": ".py",
   "mimetype": "text/x-python",
   "name": "python",
   "nbconvert_exporter": "python",
   "pygments_lexer": "ipython3",
   "version": "3.7.4"
  }
 },
 "nbformat": 4,
 "nbformat_minor": 2
}
