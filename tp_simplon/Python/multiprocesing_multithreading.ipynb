{
 "cells": [
  {
   "cell_type": "code",
   "execution_count": 1,
   "metadata": {},
   "outputs": [
    {
     "name": "stdout",
     "output_type": "stream",
     "text": [
      "Avant le sleep...\n",
      "Après le sleep.\n"
     ]
    }
   ],
   "source": [
    "import time\n",
    "print(\"Avant le sleep...\")\n",
    "time.sleep(5)\n",
    "print(\"Après le sleep.\")"
   ]
  },
  {
   "cell_type": "markdown",
   "metadata": {},
   "source": [
    "### Premier exemple d'un thread"
   ]
  },
  {
   "cell_type": "code",
   "execution_count": 2,
   "metadata": {},
   "outputs": [
    {
     "name": "stdout",
     "output_type": "stream",
     "text": [
      "11111111111111111111"
     ]
    }
   ],
   "source": [
    "import random\n",
    "import sys\n",
    "import time\n",
    "\n",
    "# Répète 20 fois\n",
    "i = 0\n",
    "while i < 20:\n",
    "    sys.stdout.write(\"1\")\n",
    "    sys.stdout.flush()\n",
    "    attente = 0.2\n",
    "    attente += random.randint(1, 60) / 100\n",
    "    # attente est à présent entre 0.2 et 0.8\n",
    "    time.sleep(attente)\n",
    "    i += 1"
   ]
  },
  {
   "cell_type": "markdown",
   "metadata": {},
   "source": [
    "### Approche parallèle"
   ]
  },
  {
   "cell_type": "code",
   "execution_count": 3,
   "metadata": {},
   "outputs": [],
   "source": [
    "import random\n",
    "import sys\n",
    "from threading import Thread\n",
    "import time\n",
    "\n",
    "class Afficheur(Thread):\n",
    "\n",
    "    \"\"\"Thread chargé simplement d'afficher une lettre dans la console.\"\"\"\n",
    "\n",
    "    def __init__(self, lettre):\n",
    "        Thread.__init__(self)\n",
    "        self.lettre = lettre\n",
    "\n",
    "    def run(self):\n",
    "        \"\"\"Code à exécuter pendant l'exécution du thread.\"\"\"\n",
    "        i = 0\n",
    "        while i < 20:\n",
    "            sys.stdout.write(self.lettre)\n",
    "            sys.stdout.flush()\n",
    "            attente = 0.2\n",
    "            attente += random.randint(1, 60) / 100\n",
    "            time.sleep(attente)\n",
    "            i += 1"
   ]
  },
  {
   "cell_type": "code",
   "execution_count": 4,
   "metadata": {},
   "outputs": [
    {
     "name": "stdout",
     "output_type": "stream",
     "text": [
      "1212112121121212112121212211221212121222"
     ]
    }
   ],
   "source": [
    "# Création des threads\n",
    "thread_1 = Afficheur(\"1\")\n",
    "thread_2 = Afficheur(\"2\")\n",
    "\n",
    "# Lancement des threads\n",
    "thread_1.start()\n",
    "thread_2.start()\n",
    "\n",
    "# Attend que les threads se terminent\n",
    "thread_1.join()#Cette méthode bloque et ne retourne que quand le thread est terminé. Si le programme se termine pendant que des threads tournent, les threads risquent d'être fermés brusquement.\n",
    "thread_2.join() "
   ]
  },
  {
   "cell_type": "markdown",
   "metadata": {},
   "source": [
    "### La synchronisation des threads"
   ]
  },
  {
   "cell_type": "code",
   "execution_count": 5,
   "metadata": {},
   "outputs": [],
   "source": [
    "nombre = 1\n",
    "nombre += 1"
   ]
  },
  {
   "cell_type": "markdown",
   "metadata": {},
   "source": [
    "### Accès simultané à des ressources"
   ]
  },
  {
   "cell_type": "code",
   "execution_count": 6,
   "metadata": {},
   "outputs": [
    {
     "name": "stdout",
     "output_type": "stream",
     "text": [
      "cTanORarTdcUEanTaOrRdTUcETanOaRrTUdcEaTnaOrRTdUcEaTnOaRTrUEd"
     ]
    }
   ],
   "source": [
    "import random\n",
    "import sys\n",
    "from threading import Thread\n",
    "import time\n",
    "\n",
    "class Afficheur(Thread):\n",
    "\n",
    "    \"\"\"Thread chargé simplement d'afficher un mot dans la console.\"\"\"\n",
    "\n",
    "    def __init__(self, mot):\n",
    "        Thread.__init__(self)\n",
    "        self.mot = mot\n",
    "\n",
    "    def run(self):\n",
    "        \"\"\"Code à exécuter pendant l'exécution du thread.\"\"\"\n",
    "        i = 0\n",
    "        while i < 5:\n",
    "            for lettre in self.mot:\n",
    "                sys.stdout.write(lettre)\n",
    "                sys.stdout.flush()\n",
    "                attente = 0.2\n",
    "                attente += random.randint(1, 60) / 100\n",
    "                time.sleep(attente)\n",
    "            i += 1\n",
    "\n",
    "# Création des threads\n",
    "thread_1 = Afficheur(\"canard\")\n",
    "thread_2 = Afficheur(\"TORTUE\")\n",
    "\n",
    "# Lancement des threads\n",
    "thread_1.start()\n",
    "thread_2.start()\n",
    "\n",
    "# Attend que les threads se terminent\n",
    "thread_1.join()\n",
    "thread_2.join()"
   ]
  },
  {
   "cell_type": "markdown",
   "metadata": {},
   "source": [
    "### Les locks à la rescousse"
   ]
  },
  {
   "cell_type": "code",
   "execution_count": 8,
   "metadata": {},
   "outputs": [
    {
     "name": "stdout",
     "output_type": "stream",
     "text": [
      "canardcanardcanardcanardcanardTORTUETORTUETORTUETORTUETORTUE"
     ]
    }
   ],
   "source": [
    "import random\n",
    "import sys\n",
    "from threading import Thread, RLock\n",
    "import time\n",
    "\n",
    "verrou = RLock()\n",
    "\n",
    "class Afficheur(Thread):\n",
    "\n",
    "    \"\"\"Thread chargé simplement d'afficher un mot dans la console.\"\"\"\n",
    "\n",
    "    def __init__(self, mot):\n",
    "        Thread.__init__(self)\n",
    "        self.mot = mot\n",
    "\n",
    "    def run(self):\n",
    "        \"\"\"Code à exécuter pendant l'exécution du thread.\"\"\"\n",
    "        i = 0\n",
    "        while i < 5:\n",
    "            with verrou:\n",
    "                for lettre in self.mot:\n",
    "                    sys.stdout.write(lettre)\n",
    "                    sys.stdout.flush()\n",
    "                    attente = 0.2\n",
    "                    attente += random.randint(1, 60) / 100\n",
    "                    time.sleep(attente)\n",
    "            i += 1\n",
    "\n",
    "# Création des threads\n",
    "thread_1 = Afficheur(\"canard\")\n",
    "thread_2 = Afficheur(\"TORTUE\")\n",
    "\n",
    "# Lancement des threads\n",
    "thread_1.start()\n",
    "thread_2.start()\n",
    "\n",
    "# Attend que les threads se terminent\n",
    "thread_1.join()\n",
    "thread_2.join()"
   ]
  },
  {
   "cell_type": "code",
   "execution_count": null,
   "metadata": {},
   "outputs": [],
   "source": []
  }
 ],
 "metadata": {
  "kernelspec": {
   "display_name": "Python 3",
   "language": "python",
   "name": "python3"
  },
  "language_info": {
   "codemirror_mode": {
    "name": "ipython",
    "version": 3
   },
   "file_extension": ".py",
   "mimetype": "text/x-python",
   "name": "python",
   "nbconvert_exporter": "python",
   "pygments_lexer": "ipython3",
   "version": "3.7.4"
  }
 },
 "nbformat": 4,
 "nbformat_minor": 2
}
