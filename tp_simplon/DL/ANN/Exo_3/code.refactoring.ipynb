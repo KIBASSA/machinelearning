{
 "cells": [
  {
   "cell_type": "code",
   "execution_count": 1,
   "metadata": {},
   "outputs": [],
   "source": [
    "import numpy as np\n",
    "#def initialize_parameters_deep(layer_dims):"
   ]
  },
  {
   "cell_type": "code",
   "execution_count": null,
   "metadata": {},
   "outputs": [],
   "source": [
    "class AnnMultiLayers:\n",
    "    def __init__(self,layer_dims):\n",
    "        self.layer_dims = layer_dims\n",
    "    \n",
    "    def _initialize_parameters_deep(self):\n",
    "        np.random.seed(3)\n",
    "        parameters = {}\n",
    "        L = len(layer_dims)            # number of layers in the network\n",
    "\n",
    "        for l in range(1, L):\n",
    "            parameters['W' + str(l)] = np.random.randn(layer_dims[l],layer_dims[l-1]) * 0.01\n",
    "            parameters['b' + str(l)] = np.zeros((layer_dims[l],1))\n",
    "        \n",
    "        return parameters\n",
    "    \n",
    "    def _linear_forward(A, W, b):\n",
    "        Z = np.dot(W,A) + b\n",
    "        return Z, cache\n",
    "    \n",
    "    def _linear_activation_forward():\n",
    "        if activation == \"sigmoid\":\n",
    "            Z, linear_cache = linear_forward(A_prev,W,b) \n",
    "            A, activation_cache = sigmoid(Z)\n",
    "    \n",
    "    elif activation == \"relu\":\n",
    "        Z, linear_cache = linear_forward(A_prev,W,b)\n",
    "        A, activation_cache = relu(Z)\n",
    "        ### END CODE HERE ###\n",
    "    \n",
    "    def fit(self):\n",
    "        \n",
    "        parameters = self._initialize_parameters_deep()\n",
    "        "
   ]
  }
 ],
 "metadata": {
  "kernelspec": {
   "display_name": "Python 3",
   "language": "python",
   "name": "python3"
  },
  "language_info": {
   "codemirror_mode": {
    "name": "ipython",
    "version": 3
   },
   "file_extension": ".py",
   "mimetype": "text/x-python",
   "name": "python",
   "nbconvert_exporter": "python",
   "pygments_lexer": "ipython3",
   "version": "3.7.4"
  }
 },
 "nbformat": 4,
 "nbformat_minor": 2
}
